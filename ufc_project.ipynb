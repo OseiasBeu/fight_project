{
  "nbformat": 4,
  "nbformat_minor": 0,
  "metadata": {
    "colab": {
      "provenance": [],
      "authorship_tag": "ABX9TyOgehAzuYudQVBGk+PWzAPU",
      "include_colab_link": true
    },
    "kernelspec": {
      "name": "python3",
      "display_name": "Python 3"
    },
    "language_info": {
      "name": "python"
    }
  },
  "cells": [
    {
      "cell_type": "markdown",
      "metadata": {
        "id": "view-in-github",
        "colab_type": "text"
      },
      "source": [
        "<a href=\"https://colab.research.google.com/github/OseiasBeu/fight_project/blob/main/ufc_project.ipynb\" target=\"_parent\"><img src=\"https://colab.research.google.com/assets/colab-badge.svg\" alt=\"Open In Colab\"/></a>"
      ]
    },
    {
      "cell_type": "code",
      "execution_count": null,
      "metadata": {
        "id": "1zpV7VY6fplA"
      },
      "outputs": [],
      "source": [
        "import pandas as pd"
      ]
    },
    {
      "cell_type": "code",
      "source": [
        "ufc_df = pd.read_csv('https://raw.githubusercontent.com/OseiasBeu/fight_project/main/datasets/ufc-master.csv')\n",
        "ufc_df = pd.DataFrame(ufc_df)"
      ],
      "metadata": {
        "id": "a5hcd0B0hTNV"
      },
      "execution_count": null,
      "outputs": []
    },
    {
      "cell_type": "code",
      "source": [
        "ufc_df.info()"
      ],
      "metadata": {
        "colab": {
          "base_uri": "https://localhost:8080/"
        },
        "id": "2-IsH2ZuherT",
        "outputId": "9d5cb9f8-0d98-4b36-8b9f-9ddbfcf7297c"
      },
      "execution_count": null,
      "outputs": [
        {
          "output_type": "stream",
          "name": "stdout",
          "text": [
            "<class 'pandas.core.frame.DataFrame'>\n",
            "RangeIndex: 4896 entries, 0 to 4895\n",
            "Columns: 119 entries, R_fighter to b_ko_odds\n",
            "dtypes: bool(1), float64(58), int64(46), object(14)\n",
            "memory usage: 4.4+ MB\n"
          ]
        }
      ]
    },
    {
      "cell_type": "code",
      "source": [
        "ufc_df.head(2)"
      ],
      "metadata": {
        "colab": {
          "base_uri": "https://localhost:8080/",
          "height": 310
        },
        "id": "RXhD3yMyhtnG",
        "outputId": "f47fa35f-9ce9-488d-dc61-e624025a4fa2"
      },
      "execution_count": null,
      "outputs": [
        {
          "output_type": "execute_result",
          "data": {
            "text/plain": [
              "       R_fighter      B_fighter  R_odds  B_odds        R_ev   B_ev  \\\n",
              "0  Thiago Santos  Johnny Walker  -150.0     130   66.666667  130.0   \n",
              "1  Alex Oliveira     Niko Price   170.0    -200  170.000000   50.0   \n",
              "\n",
              "         date                location country Winner  ...  finish_details  \\\n",
              "0  2021-10-02  Las Vegas, Nevada, USA     USA    Red  ...             NaN   \n",
              "1  2021-10-02  Las Vegas, Nevada, USA     USA   Blue  ...             NaN   \n",
              "\n",
              "  finish_round finish_round_time  total_fight_time_secs  r_dec_odds  \\\n",
              "0          5.0              5:00                 1500.0       800.0   \n",
              "1          3.0              5:00                  900.0       450.0   \n",
              "\n",
              "   b_dec_odds  r_sub_odds  b_sub_odds  r_ko_odds  b_ko_odds  \n",
              "0       900.0      2000.0      1600.0     -110.0      175.0  \n",
              "1       350.0       700.0      1100.0      550.0      120.0  \n",
              "\n",
              "[2 rows x 119 columns]"
            ],
            "text/html": [
              "\n",
              "  <div id=\"df-6011834f-3d44-44e3-a499-d612ff816ac9\">\n",
              "    <div class=\"colab-df-container\">\n",
              "      <div>\n",
              "<style scoped>\n",
              "    .dataframe tbody tr th:only-of-type {\n",
              "        vertical-align: middle;\n",
              "    }\n",
              "\n",
              "    .dataframe tbody tr th {\n",
              "        vertical-align: top;\n",
              "    }\n",
              "\n",
              "    .dataframe thead th {\n",
              "        text-align: right;\n",
              "    }\n",
              "</style>\n",
              "<table border=\"1\" class=\"dataframe\">\n",
              "  <thead>\n",
              "    <tr style=\"text-align: right;\">\n",
              "      <th></th>\n",
              "      <th>R_fighter</th>\n",
              "      <th>B_fighter</th>\n",
              "      <th>R_odds</th>\n",
              "      <th>B_odds</th>\n",
              "      <th>R_ev</th>\n",
              "      <th>B_ev</th>\n",
              "      <th>date</th>\n",
              "      <th>location</th>\n",
              "      <th>country</th>\n",
              "      <th>Winner</th>\n",
              "      <th>...</th>\n",
              "      <th>finish_details</th>\n",
              "      <th>finish_round</th>\n",
              "      <th>finish_round_time</th>\n",
              "      <th>total_fight_time_secs</th>\n",
              "      <th>r_dec_odds</th>\n",
              "      <th>b_dec_odds</th>\n",
              "      <th>r_sub_odds</th>\n",
              "      <th>b_sub_odds</th>\n",
              "      <th>r_ko_odds</th>\n",
              "      <th>b_ko_odds</th>\n",
              "    </tr>\n",
              "  </thead>\n",
              "  <tbody>\n",
              "    <tr>\n",
              "      <th>0</th>\n",
              "      <td>Thiago Santos</td>\n",
              "      <td>Johnny Walker</td>\n",
              "      <td>-150.0</td>\n",
              "      <td>130</td>\n",
              "      <td>66.666667</td>\n",
              "      <td>130.0</td>\n",
              "      <td>2021-10-02</td>\n",
              "      <td>Las Vegas, Nevada, USA</td>\n",
              "      <td>USA</td>\n",
              "      <td>Red</td>\n",
              "      <td>...</td>\n",
              "      <td>NaN</td>\n",
              "      <td>5.0</td>\n",
              "      <td>5:00</td>\n",
              "      <td>1500.0</td>\n",
              "      <td>800.0</td>\n",
              "      <td>900.0</td>\n",
              "      <td>2000.0</td>\n",
              "      <td>1600.0</td>\n",
              "      <td>-110.0</td>\n",
              "      <td>175.0</td>\n",
              "    </tr>\n",
              "    <tr>\n",
              "      <th>1</th>\n",
              "      <td>Alex Oliveira</td>\n",
              "      <td>Niko Price</td>\n",
              "      <td>170.0</td>\n",
              "      <td>-200</td>\n",
              "      <td>170.000000</td>\n",
              "      <td>50.0</td>\n",
              "      <td>2021-10-02</td>\n",
              "      <td>Las Vegas, Nevada, USA</td>\n",
              "      <td>USA</td>\n",
              "      <td>Blue</td>\n",
              "      <td>...</td>\n",
              "      <td>NaN</td>\n",
              "      <td>3.0</td>\n",
              "      <td>5:00</td>\n",
              "      <td>900.0</td>\n",
              "      <td>450.0</td>\n",
              "      <td>350.0</td>\n",
              "      <td>700.0</td>\n",
              "      <td>1100.0</td>\n",
              "      <td>550.0</td>\n",
              "      <td>120.0</td>\n",
              "    </tr>\n",
              "  </tbody>\n",
              "</table>\n",
              "<p>2 rows × 119 columns</p>\n",
              "</div>\n",
              "      <button class=\"colab-df-convert\" onclick=\"convertToInteractive('df-6011834f-3d44-44e3-a499-d612ff816ac9')\"\n",
              "              title=\"Convert this dataframe to an interactive table.\"\n",
              "              style=\"display:none;\">\n",
              "        \n",
              "  <svg xmlns=\"http://www.w3.org/2000/svg\" height=\"24px\"viewBox=\"0 0 24 24\"\n",
              "       width=\"24px\">\n",
              "    <path d=\"M0 0h24v24H0V0z\" fill=\"none\"/>\n",
              "    <path d=\"M18.56 5.44l.94 2.06.94-2.06 2.06-.94-2.06-.94-.94-2.06-.94 2.06-2.06.94zm-11 1L8.5 8.5l.94-2.06 2.06-.94-2.06-.94L8.5 2.5l-.94 2.06-2.06.94zm10 10l.94 2.06.94-2.06 2.06-.94-2.06-.94-.94-2.06-.94 2.06-2.06.94z\"/><path d=\"M17.41 7.96l-1.37-1.37c-.4-.4-.92-.59-1.43-.59-.52 0-1.04.2-1.43.59L10.3 9.45l-7.72 7.72c-.78.78-.78 2.05 0 2.83L4 21.41c.39.39.9.59 1.41.59.51 0 1.02-.2 1.41-.59l7.78-7.78 2.81-2.81c.8-.78.8-2.07 0-2.86zM5.41 20L4 18.59l7.72-7.72 1.47 1.35L5.41 20z\"/>\n",
              "  </svg>\n",
              "      </button>\n",
              "      \n",
              "  <style>\n",
              "    .colab-df-container {\n",
              "      display:flex;\n",
              "      flex-wrap:wrap;\n",
              "      gap: 12px;\n",
              "    }\n",
              "\n",
              "    .colab-df-convert {\n",
              "      background-color: #E8F0FE;\n",
              "      border: none;\n",
              "      border-radius: 50%;\n",
              "      cursor: pointer;\n",
              "      display: none;\n",
              "      fill: #1967D2;\n",
              "      height: 32px;\n",
              "      padding: 0 0 0 0;\n",
              "      width: 32px;\n",
              "    }\n",
              "\n",
              "    .colab-df-convert:hover {\n",
              "      background-color: #E2EBFA;\n",
              "      box-shadow: 0px 1px 2px rgba(60, 64, 67, 0.3), 0px 1px 3px 1px rgba(60, 64, 67, 0.15);\n",
              "      fill: #174EA6;\n",
              "    }\n",
              "\n",
              "    [theme=dark] .colab-df-convert {\n",
              "      background-color: #3B4455;\n",
              "      fill: #D2E3FC;\n",
              "    }\n",
              "\n",
              "    [theme=dark] .colab-df-convert:hover {\n",
              "      background-color: #434B5C;\n",
              "      box-shadow: 0px 1px 3px 1px rgba(0, 0, 0, 0.15);\n",
              "      filter: drop-shadow(0px 1px 2px rgba(0, 0, 0, 0.3));\n",
              "      fill: #FFFFFF;\n",
              "    }\n",
              "  </style>\n",
              "\n",
              "      <script>\n",
              "        const buttonEl =\n",
              "          document.querySelector('#df-6011834f-3d44-44e3-a499-d612ff816ac9 button.colab-df-convert');\n",
              "        buttonEl.style.display =\n",
              "          google.colab.kernel.accessAllowed ? 'block' : 'none';\n",
              "\n",
              "        async function convertToInteractive(key) {\n",
              "          const element = document.querySelector('#df-6011834f-3d44-44e3-a499-d612ff816ac9');\n",
              "          const dataTable =\n",
              "            await google.colab.kernel.invokeFunction('convertToInteractive',\n",
              "                                                     [key], {});\n",
              "          if (!dataTable) return;\n",
              "\n",
              "          const docLinkHtml = 'Like what you see? Visit the ' +\n",
              "            '<a target=\"_blank\" href=https://colab.research.google.com/notebooks/data_table.ipynb>data table notebook</a>'\n",
              "            + ' to learn more about interactive tables.';\n",
              "          element.innerHTML = '';\n",
              "          dataTable['output_type'] = 'display_data';\n",
              "          await google.colab.output.renderOutput(dataTable, element);\n",
              "          const docLink = document.createElement('div');\n",
              "          docLink.innerHTML = docLinkHtml;\n",
              "          element.appendChild(docLink);\n",
              "        }\n",
              "      </script>\n",
              "    </div>\n",
              "  </div>\n",
              "  "
            ]
          },
          "metadata": {},
          "execution_count": 12
        }
      ]
    },
    {
      "cell_type": "code",
      "source": [
        "for _ in ufc_df.columns:\n",
        "  print(_)"
      ],
      "metadata": {
        "colab": {
          "base_uri": "https://localhost:8080/"
        },
        "id": "ZMhmWcxWkHZj",
        "outputId": "b2b2bf6f-6804-4cf0-e204-6a8572efad20"
      },
      "execution_count": null,
      "outputs": [
        {
          "output_type": "stream",
          "name": "stdout",
          "text": [
            "R_fighter\n",
            "B_fighter\n",
            "R_odds\n",
            "B_odds\n",
            "R_ev\n",
            "B_ev\n",
            "date\n",
            "location\n",
            "country\n",
            "Winner\n",
            "title_bout\n",
            "weight_class\n",
            "gender\n",
            "no_of_rounds\n",
            "B_current_lose_streak\n",
            "B_current_win_streak\n",
            "B_draw\n",
            "B_avg_SIG_STR_landed\n",
            "B_avg_SIG_STR_pct\n",
            "B_avg_SUB_ATT\n",
            "B_avg_TD_landed\n",
            "B_avg_TD_pct\n",
            "B_longest_win_streak\n",
            "B_losses\n",
            "B_total_rounds_fought\n",
            "B_total_title_bouts\n",
            "B_win_by_Decision_Majority\n",
            "B_win_by_Decision_Split\n",
            "B_win_by_Decision_Unanimous\n",
            "B_win_by_KO/TKO\n",
            "B_win_by_Submission\n",
            "B_win_by_TKO_Doctor_Stoppage\n",
            "B_wins\n",
            "B_Stance\n",
            "B_Height_cms\n",
            "B_Reach_cms\n",
            "B_Weight_lbs\n",
            "R_current_lose_streak\n",
            "R_current_win_streak\n",
            "R_draw\n",
            "R_avg_SIG_STR_landed\n",
            "R_avg_SIG_STR_pct\n",
            "R_avg_SUB_ATT\n",
            "R_avg_TD_landed\n",
            "R_avg_TD_pct\n",
            "R_longest_win_streak\n",
            "R_losses\n",
            "R_total_rounds_fought\n",
            "R_total_title_bouts\n",
            "R_win_by_Decision_Majority\n",
            "R_win_by_Decision_Split\n",
            "R_win_by_Decision_Unanimous\n",
            "R_win_by_KO/TKO\n",
            "R_win_by_Submission\n",
            "R_win_by_TKO_Doctor_Stoppage\n",
            "R_wins\n",
            "R_Stance\n",
            "R_Height_cms\n",
            "R_Reach_cms\n",
            "R_Weight_lbs\n",
            "R_age\n",
            "B_age\n",
            "lose_streak_dif\n",
            "win_streak_dif\n",
            "longest_win_streak_dif\n",
            "win_dif\n",
            "loss_dif\n",
            "total_round_dif\n",
            "total_title_bout_dif\n",
            "ko_dif\n",
            "sub_dif\n",
            "height_dif\n",
            "reach_dif\n",
            "age_dif\n",
            "sig_str_dif\n",
            "avg_sub_att_dif\n",
            "avg_td_dif\n",
            "empty_arena\n",
            "constant_1\n",
            "B_match_weightclass_rank\n",
            "R_match_weightclass_rank\n",
            "R_Women's Flyweight_rank\n",
            "R_Women's Featherweight_rank\n",
            "R_Women's Strawweight_rank\n",
            "R_Women's Bantamweight_rank\n",
            "R_Heavyweight_rank\n",
            "R_Light Heavyweight_rank\n",
            "R_Middleweight_rank\n",
            "R_Welterweight_rank\n",
            "R_Lightweight_rank\n",
            "R_Featherweight_rank\n",
            "R_Bantamweight_rank\n",
            "R_Flyweight_rank\n",
            "R_Pound-for-Pound_rank\n",
            "B_Women's Flyweight_rank\n",
            "B_Women's Featherweight_rank\n",
            "B_Women's Strawweight_rank\n",
            "B_Women's Bantamweight_rank\n",
            "B_Heavyweight_rank\n",
            "B_Light Heavyweight_rank\n",
            "B_Middleweight_rank\n",
            "B_Welterweight_rank\n",
            "B_Lightweight_rank\n",
            "B_Featherweight_rank\n",
            "B_Bantamweight_rank\n",
            "B_Flyweight_rank\n",
            "B_Pound-for-Pound_rank\n",
            "better_rank\n",
            "finish\n",
            "finish_details\n",
            "finish_round\n",
            "finish_round_time\n",
            "total_fight_time_secs\n",
            "r_dec_odds\n",
            "b_dec_odds\n",
            "r_sub_odds\n",
            "b_sub_odds\n",
            "r_ko_odds\n",
            "b_ko_odds\n"
          ]
        }
      ]
    },
    {
      "cell_type": "code",
      "source": [
        "ufc_df.location.value_counts()"
      ],
      "metadata": {
        "colab": {
          "base_uri": "https://localhost:8080/"
        },
        "id": "suZhj80oi8hw",
        "outputId": "a5bae432-8bd7-409a-deb9-c76c96f135cd"
      },
      "execution_count": null,
      "outputs": [
        {
          "output_type": "execute_result",
          "data": {
            "text/plain": [
              "Las Vegas, Nevada, USA                        1251\n",
              "Abu Dhabi, Abu Dhabi, United Arab Emirates     153\n",
              "Houston, Texas, USA                             82\n",
              "Chicago, Illinois, USA                          80\n",
              "Newark, New Jersey, USA                         79\n",
              "                                              ... \n",
              "Bangor, Maine, USA                              10\n",
              "Hollywood, Florida, USA                          9\n",
              "Gold Coast, Queensland, Australia                9\n",
              "Omaha, Nebraska, USA                             9\n",
              "Ledyard, Connecticut, USA                        9\n",
              "Name: location, Length: 145, dtype: int64"
            ]
          },
          "metadata": {},
          "execution_count": 15
        }
      ]
    },
    {
      "cell_type": "code",
      "source": [
        "ufc_df.country.value_counts()"
      ],
      "metadata": {
        "colab": {
          "base_uri": "https://localhost:8080/"
        },
        "id": "lJomQ9_cjT-P",
        "outputId": "d3982577-07fe-4e74-a089-0d9f7500016c"
      },
      "execution_count": null,
      "outputs": [
        {
          "output_type": "execute_result",
          "data": {
            "text/plain": [
              " USA                     2450\n",
              "USA                       599\n",
              " Brazil                   400\n",
              " Canada                   337\n",
              " United Kingdom           165\n",
              " Australia                160\n",
              "United Arab Emirates      141\n",
              " Sweden                    72\n",
              " Mexico                    70\n",
              " China                     61\n",
              " Germany                   54\n",
              " Japan                     53\n",
              " Singapore                 45\n",
              " Russia                    36\n",
              " New Zealand               33\n",
              " United Arab Emirates      29\n",
              " Netherlands               25\n",
              " South Korea               24\n",
              " Poland                    23\n",
              " Ireland                   19\n",
              " Croatia                   13\n",
              " Czech Republic            13\n",
              " Denmark                   13\n",
              " Chile                     13\n",
              " Uruguay                   13\n",
              " Philippines               12\n",
              " Argentina                 12\n",
              "Brazil                     11\n",
              "Name: country, dtype: int64"
            ]
          },
          "metadata": {},
          "execution_count": 16
        }
      ]
    },
    {
      "cell_type": "code",
      "source": [
        "ufc_df.R_draw.value_counts()"
      ],
      "metadata": {
        "colab": {
          "base_uri": "https://localhost:8080/"
        },
        "id": "UG_yuGnWj5yK",
        "outputId": "bb30677b-921c-4c49-febe-f8f58c0bd96e"
      },
      "execution_count": null,
      "outputs": [
        {
          "output_type": "execute_result",
          "data": {
            "text/plain": [
              "0    4835\n",
              "1      56\n",
              "2       5\n",
              "Name: R_draw, dtype: int64"
            ]
          },
          "metadata": {},
          "execution_count": 26
        }
      ]
    },
    {
      "cell_type": "markdown",
      "source": [
        "* Tratar o campo `country`"
      ],
      "metadata": {
        "id": "EbIBhU1Kjz47"
      }
    },
    {
      "cell_type": "code",
      "source": [],
      "metadata": {
        "id": "0nhT6U-Fj4KR"
      },
      "execution_count": null,
      "outputs": []
    }
  ]
}