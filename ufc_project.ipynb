{
  "nbformat": 4,
  "nbformat_minor": 0,
  "metadata": {
    "colab": {
      "provenance": [],
      "toc_visible": true,
      "authorship_tag": "ABX9TyM/BmJPiD4glx0T/8oaoUu9",
      "include_colab_link": true
    },
    "kernelspec": {
      "name": "python3",
      "display_name": "Python 3"
    },
    "language_info": {
      "name": "python"
    }
  },
  "cells": [
    {
      "cell_type": "markdown",
      "metadata": {
        "id": "view-in-github",
        "colab_type": "text"
      },
      "source": [
        "<a href=\"https://colab.research.google.com/github/OseiasBeu/fight_project/blob/main/ufc_project.ipynb\" target=\"_parent\"><img src=\"https://colab.research.google.com/assets/colab-badge.svg\" alt=\"Open In Colab\"/></a>"
      ]
    },
    {
      "cell_type": "markdown",
      "source": [
        "# Detalhamento da base:"
      ],
      "metadata": {
        "id": "FjCDlSoSVLgE"
      }
    },
    {
      "cell_type": "markdown",
      "source": [
        "## Datasets: \n",
        " ufc_df_o -> Dataset original:\n",
        " > Linhas: 4896\n",
        " \n",
        " > Colunas: 119\n",
        "\n",
        " ufc_df_t -> Dataset tratado:\n",
        " > Linhas: 4896\n",
        "\n",
        " > Colunas: 85 (Sem campos de labels)\n",
        "\n",
        " > Colunas:    (Com campos de labels)\n",
        "\n",
        "\n",
        "Tipos de dados contidos:\n",
        "> bool(1)\n",
        "\n",
        "> float64(58)\n",
        "\n",
        "> int64(46)\n",
        "\n",
        "> object(14)\n",
        "--- \n",
        "## Informações sobre o evento:\n",
        "- weight_class -> Categoria da luta;\n",
        "- country -> País onde o evento vai acontecer;\n",
        "- finish -> Forma de finalização da luta;\n",
        "- finish_round -> Round de finalização da luta;\n",
        "- finish_round_time -> Tempo de finalização da luta no round;\n",
        "- Winner -> Corner vencedor;\n",
        "\n",
        "--- \n",
        "\n",
        "## Informações sobre os lutadores:\n",
        "- age -> Idade do lutador/a\n",
        "- age_dif -> Diferença de idade entre os lutadores;\n",
        "- Stance -> Base de luta do lutador;\n",
        "- draw -> Número de empates;\n",
        "- longest_win_streak -> Sequência de vitórias mais longa;\n",
        "- current_win_streak -> Sequência de vitórias atual;\n",
        "- current_lose_streak -> Sequência de derrotas atual;\n",
        "- total_rounds_fought -> Quantidade de rounds já lutados;\n",
        "- total_title_bouts -> Quantidade de lutas pelo título;\n",
        "- win_by_Decision_Majority -> Vitória por decisão majoritária;\n",
        "- win_by_Decision_Split -> Vitória por decisão dividida;\n",
        "- win_by_Decision_Unanimous -> Vitória por decisão unânime;\n",
        "- win_by_KO/TKO -> Vitória por nocaute ou nocaute técnico;\n",
        "- win_by_Submission -> Vitória por submissão;\n",
        "- win_by_TKO_Doctor_Stoppage -> Vitória por decisão médica;\n",
        "- wins -> Quantidade de vitórias;\n",
        "- Weight_lbs -> Peso do atleta em libras;\n",
        "---\n"
      ],
      "metadata": {
        "id": "sfCOgMiNtXOE"
      }
    },
    {
      "cell_type": "markdown",
      "source": [
        "## Campos para remover:\n",
        "- constant_1\n",
        "- finish_details\n",
        "- finish_round_time\n",
        "- empty_arena\n",
        "- date\n",
        "- location\n",
        "- better_rank\n",
        "- R_fighter\n",
        "- B_fighter\n",
        "- B_odds\n",
        "- R_odds\n",
        "- R_ev\n",
        "- B_ev\n",
        "- finish\n",
        "- B_Stance\n",
        "- R_Stance\n",
        "- gender\n",
        "- winner\n",
        "- country\n",
        "- age_dif\n",
        "- total_title_bout_dif\n",
        "- ko_dif\n",
        "- sub_dif\n",
        "- longest_win_streak_dif\n",
        "- win_dif\n",
        "- loss_dif\n",
        "- total_round_dif\n",
        "- B_avg_SIG_STR_landed\n",
        "- B_avg_SIG_STR_pct\n",
        "- R_avg_SIG_STR_landed\n",
        "- R_avg_SIG_STR_pct\n",
        "- B_avg_SUB_ATT\n",
        "- R_avg_SUB_ATT\n",
        "- B_avg_TD_landed\n",
        "- B_avg_TD_pct\n",
        "- R_avg_TD_landed\n",
        "- R_avg_TD_pct\n",
        "- sig_str_dif\n",
        "- avg_sub_att_dif\n",
        "- avg_td_dif\n",
        "- r_dec_odds\n",
        "- b_dec_odds\n",
        "- r_sub_odds\n",
        "- b_sub_odds\n",
        "- r_ko_odds\n",
        "- b_ko_odds\n",
        "- height_dif\n",
        "- reach_dif\n",
        "- title_bout\n",
        "\n",
        "--- \n",
        "\n",
        "## Campos de classe: \n",
        "- Gender\n",
        "> gender_t : 0 = Male; 1 = Female\n",
        "- Winner \n",
        "> winner_t : 0 = Red; 1 = Blue;\n",
        "- title_bout:\n",
        "> title_bout_t : 0 = True; 1 = False;\n",
        "\n",
        "---\n",
        "## Campos para labels:\n",
        "- country_t\n",
        "- B_Stance \n",
        "- R_Stance\n",
        "- better_rank\n",
        "- finish ( 7 agrupamentos )\n",
        "\n",
        "\n",
        "---\n",
        "\n",
        "## Campos calculados:\n",
        "- lose_streak_dif\n",
        "- win_streak_dif\n",
        "- longest_win_streak_dif\n",
        "- win_dif\n",
        "- loss_dif\n",
        "- total_round_dif\n",
        "- total_title_bout_dif\n",
        "- ko_dif\n",
        "- sub_dif\n",
        "- height_dif\n",
        "- age_dif\n",
        "- sig_str_dif\n",
        "- avg_sub_att_dif\n",
        "- avg_td_dif"
      ],
      "metadata": {
        "id": "0cIJ_w_5U3le"
      }
    },
    {
      "cell_type": "markdown",
      "source": [
        "# Leitura do dataset:"
      ],
      "metadata": {
        "id": "z99WmBtVZx6J"
      }
    },
    {
      "cell_type": "code",
      "execution_count": 247,
      "metadata": {
        "id": "1zpV7VY6fplA"
      },
      "outputs": [],
      "source": [
        "import pandas as pd\n",
        "import numpy as np"
      ]
    },
    {
      "cell_type": "code",
      "source": [
        "ufc_df_o = pd.read_csv('https://raw.githubusercontent.com/OseiasBeu/fight_project/main/datasets/ufc-master.csv')\n",
        "ufc_df_o = pd.DataFrame(ufc_df_o)"
      ],
      "metadata": {
        "id": "a5hcd0B0hTNV"
      },
      "execution_count": 248,
      "outputs": []
    },
    {
      "cell_type": "code",
      "source": [
        "ufc_df_o.info()"
      ],
      "metadata": {
        "colab": {
          "base_uri": "https://localhost:8080/"
        },
        "id": "2-IsH2ZuherT",
        "outputId": "543f2e7e-aa44-48bb-b0e6-46885f62fdc2"
      },
      "execution_count": 249,
      "outputs": [
        {
          "output_type": "stream",
          "name": "stdout",
          "text": [
            "<class 'pandas.core.frame.DataFrame'>\n",
            "RangeIndex: 4896 entries, 0 to 4895\n",
            "Columns: 119 entries, R_fighter to b_ko_odds\n",
            "dtypes: bool(1), float64(58), int64(46), object(14)\n",
            "memory usage: 4.4+ MB\n"
          ]
        }
      ]
    },
    {
      "cell_type": "code",
      "source": [
        "ufc_df_o.shape"
      ],
      "metadata": {
        "id": "iKTju5-JESCf",
        "outputId": "98c6bdff-de11-4b7c-fdf5-e23705bea027",
        "colab": {
          "base_uri": "https://localhost:8080/"
        }
      },
      "execution_count": 250,
      "outputs": [
        {
          "output_type": "execute_result",
          "data": {
            "text/plain": [
              "(4896, 119)"
            ]
          },
          "metadata": {},
          "execution_count": 250
        }
      ]
    },
    {
      "cell_type": "code",
      "source": [
        "ufc_df_o.describe()"
      ],
      "metadata": {
        "id": "DoDorzjoWfbO",
        "outputId": "7735ab8c-8c99-4348-c835-13b0aa9cea18",
        "colab": {
          "base_uri": "https://localhost:8080/",
          "height": 428
        }
      },
      "execution_count": 251,
      "outputs": [
        {
          "output_type": "execute_result",
          "data": {
            "text/plain": [
              "            R_odds       B_odds         R_ev         B_ev  no_of_rounds  \\\n",
              "count  4895.000000  4896.000000  4895.000000  4896.000000   4896.000000   \n",
              "mean   -117.640449    66.030637    94.827397   167.083323      3.181985   \n",
              "std     268.881452   247.803928    82.843409   136.944643      0.571515   \n",
              "min   -1700.000000 -1200.000000     5.882353     8.333333      3.000000   \n",
              "25%    -255.000000  -145.000000    39.215686    68.965517      3.000000   \n",
              "50%    -150.000000   130.000000    66.666667   130.000000      3.000000   \n",
              "75%     126.500000   220.000000   126.500000   220.000000      3.000000   \n",
              "max     775.000000  1300.000000   775.000000  1300.000000      5.000000   \n",
              "\n",
              "       B_current_lose_streak  B_current_win_streak       B_draw  \\\n",
              "count            4896.000000           4896.000000  4896.000000   \n",
              "mean                0.477941              0.875408     0.010621   \n",
              "std                 0.769386              1.311379     0.108333   \n",
              "min                 0.000000              0.000000     0.000000   \n",
              "25%                 0.000000              0.000000     0.000000   \n",
              "50%                 0.000000              0.000000     0.000000   \n",
              "75%                 1.000000              1.000000     0.000000   \n",
              "max                 6.000000             12.000000     2.000000   \n",
              "\n",
              "       B_avg_SIG_STR_landed  B_avg_SIG_STR_pct  ...  B_Flyweight_rank  \\\n",
              "count           3966.000000        4131.000000  ...         95.000000   \n",
              "mean              26.308553           0.444741  ...          8.473684   \n",
              "std               20.935885           0.121332  ...          4.259763   \n",
              "min                0.000000           0.000000  ...          1.000000   \n",
              "25%                5.610000           0.387500  ...          5.000000   \n",
              "50%               24.759615           0.450000  ...          8.000000   \n",
              "75%               39.075000           0.510000  ...         12.000000   \n",
              "max              154.000000           1.000000  ...         15.000000   \n",
              "\n",
              "       B_Pound-for-Pound_rank  finish_round  total_fight_time_secs  \\\n",
              "count               35.000000   4274.000000            4274.000000   \n",
              "mean                 9.485714      2.408049             652.313758   \n",
              "std                  4.300283      0.996643             357.911423   \n",
              "min                  2.000000      1.000000               5.000000   \n",
              "25%                  5.000000      1.000000             297.000000   \n",
              "50%                 10.000000      3.000000             900.000000   \n",
              "75%                 13.500000      3.000000             900.000000   \n",
              "max                 15.000000      5.000000            1500.000000   \n",
              "\n",
              "        r_dec_odds   b_dec_odds   r_sub_odds   b_sub_odds    r_ko_odds  \\\n",
              "count  4093.000000  4077.000000  3847.000000  3835.000000  3847.000000   \n",
              "mean    294.064745   416.544027   843.010138  1064.543155   514.231869   \n",
              "std     230.583958   306.571299   550.126761   627.285034   413.622768   \n",
              "min    -440.000000  -200.000000  -370.000000 -1250.000000  -550.000000   \n",
              "25%     167.000000   225.000000   435.000000   590.000000   240.000000   \n",
              "50%     250.000000   349.000000   720.000000   975.000000   435.000000   \n",
              "75%     400.000000   525.000000  1200.000000  1400.000000   700.000000   \n",
              "max    2200.000000  2600.000000  4665.000000  4785.000000  2675.000000   \n",
              "\n",
              "         b_ko_odds  \n",
              "count  3834.000000  \n",
              "mean    647.257173  \n",
              "std     458.846643  \n",
              "min    -275.000000  \n",
              "25%     325.000000  \n",
              "50%     548.500000  \n",
              "75%     880.750000  \n",
              "max    3200.000000  \n",
              "\n",
              "[8 rows x 104 columns]"
            ],
            "text/html": [
              "\n",
              "  <div id=\"df-050e9b24-adf2-4e89-a436-49e5f56cbc3a\">\n",
              "    <div class=\"colab-df-container\">\n",
              "      <div>\n",
              "<style scoped>\n",
              "    .dataframe tbody tr th:only-of-type {\n",
              "        vertical-align: middle;\n",
              "    }\n",
              "\n",
              "    .dataframe tbody tr th {\n",
              "        vertical-align: top;\n",
              "    }\n",
              "\n",
              "    .dataframe thead th {\n",
              "        text-align: right;\n",
              "    }\n",
              "</style>\n",
              "<table border=\"1\" class=\"dataframe\">\n",
              "  <thead>\n",
              "    <tr style=\"text-align: right;\">\n",
              "      <th></th>\n",
              "      <th>R_odds</th>\n",
              "      <th>B_odds</th>\n",
              "      <th>R_ev</th>\n",
              "      <th>B_ev</th>\n",
              "      <th>no_of_rounds</th>\n",
              "      <th>B_current_lose_streak</th>\n",
              "      <th>B_current_win_streak</th>\n",
              "      <th>B_draw</th>\n",
              "      <th>B_avg_SIG_STR_landed</th>\n",
              "      <th>B_avg_SIG_STR_pct</th>\n",
              "      <th>...</th>\n",
              "      <th>B_Flyweight_rank</th>\n",
              "      <th>B_Pound-for-Pound_rank</th>\n",
              "      <th>finish_round</th>\n",
              "      <th>total_fight_time_secs</th>\n",
              "      <th>r_dec_odds</th>\n",
              "      <th>b_dec_odds</th>\n",
              "      <th>r_sub_odds</th>\n",
              "      <th>b_sub_odds</th>\n",
              "      <th>r_ko_odds</th>\n",
              "      <th>b_ko_odds</th>\n",
              "    </tr>\n",
              "  </thead>\n",
              "  <tbody>\n",
              "    <tr>\n",
              "      <th>count</th>\n",
              "      <td>4895.000000</td>\n",
              "      <td>4896.000000</td>\n",
              "      <td>4895.000000</td>\n",
              "      <td>4896.000000</td>\n",
              "      <td>4896.000000</td>\n",
              "      <td>4896.000000</td>\n",
              "      <td>4896.000000</td>\n",
              "      <td>4896.000000</td>\n",
              "      <td>3966.000000</td>\n",
              "      <td>4131.000000</td>\n",
              "      <td>...</td>\n",
              "      <td>95.000000</td>\n",
              "      <td>35.000000</td>\n",
              "      <td>4274.000000</td>\n",
              "      <td>4274.000000</td>\n",
              "      <td>4093.000000</td>\n",
              "      <td>4077.000000</td>\n",
              "      <td>3847.000000</td>\n",
              "      <td>3835.000000</td>\n",
              "      <td>3847.000000</td>\n",
              "      <td>3834.000000</td>\n",
              "    </tr>\n",
              "    <tr>\n",
              "      <th>mean</th>\n",
              "      <td>-117.640449</td>\n",
              "      <td>66.030637</td>\n",
              "      <td>94.827397</td>\n",
              "      <td>167.083323</td>\n",
              "      <td>3.181985</td>\n",
              "      <td>0.477941</td>\n",
              "      <td>0.875408</td>\n",
              "      <td>0.010621</td>\n",
              "      <td>26.308553</td>\n",
              "      <td>0.444741</td>\n",
              "      <td>...</td>\n",
              "      <td>8.473684</td>\n",
              "      <td>9.485714</td>\n",
              "      <td>2.408049</td>\n",
              "      <td>652.313758</td>\n",
              "      <td>294.064745</td>\n",
              "      <td>416.544027</td>\n",
              "      <td>843.010138</td>\n",
              "      <td>1064.543155</td>\n",
              "      <td>514.231869</td>\n",
              "      <td>647.257173</td>\n",
              "    </tr>\n",
              "    <tr>\n",
              "      <th>std</th>\n",
              "      <td>268.881452</td>\n",
              "      <td>247.803928</td>\n",
              "      <td>82.843409</td>\n",
              "      <td>136.944643</td>\n",
              "      <td>0.571515</td>\n",
              "      <td>0.769386</td>\n",
              "      <td>1.311379</td>\n",
              "      <td>0.108333</td>\n",
              "      <td>20.935885</td>\n",
              "      <td>0.121332</td>\n",
              "      <td>...</td>\n",
              "      <td>4.259763</td>\n",
              "      <td>4.300283</td>\n",
              "      <td>0.996643</td>\n",
              "      <td>357.911423</td>\n",
              "      <td>230.583958</td>\n",
              "      <td>306.571299</td>\n",
              "      <td>550.126761</td>\n",
              "      <td>627.285034</td>\n",
              "      <td>413.622768</td>\n",
              "      <td>458.846643</td>\n",
              "    </tr>\n",
              "    <tr>\n",
              "      <th>min</th>\n",
              "      <td>-1700.000000</td>\n",
              "      <td>-1200.000000</td>\n",
              "      <td>5.882353</td>\n",
              "      <td>8.333333</td>\n",
              "      <td>3.000000</td>\n",
              "      <td>0.000000</td>\n",
              "      <td>0.000000</td>\n",
              "      <td>0.000000</td>\n",
              "      <td>0.000000</td>\n",
              "      <td>0.000000</td>\n",
              "      <td>...</td>\n",
              "      <td>1.000000</td>\n",
              "      <td>2.000000</td>\n",
              "      <td>1.000000</td>\n",
              "      <td>5.000000</td>\n",
              "      <td>-440.000000</td>\n",
              "      <td>-200.000000</td>\n",
              "      <td>-370.000000</td>\n",
              "      <td>-1250.000000</td>\n",
              "      <td>-550.000000</td>\n",
              "      <td>-275.000000</td>\n",
              "    </tr>\n",
              "    <tr>\n",
              "      <th>25%</th>\n",
              "      <td>-255.000000</td>\n",
              "      <td>-145.000000</td>\n",
              "      <td>39.215686</td>\n",
              "      <td>68.965517</td>\n",
              "      <td>3.000000</td>\n",
              "      <td>0.000000</td>\n",
              "      <td>0.000000</td>\n",
              "      <td>0.000000</td>\n",
              "      <td>5.610000</td>\n",
              "      <td>0.387500</td>\n",
              "      <td>...</td>\n",
              "      <td>5.000000</td>\n",
              "      <td>5.000000</td>\n",
              "      <td>1.000000</td>\n",
              "      <td>297.000000</td>\n",
              "      <td>167.000000</td>\n",
              "      <td>225.000000</td>\n",
              "      <td>435.000000</td>\n",
              "      <td>590.000000</td>\n",
              "      <td>240.000000</td>\n",
              "      <td>325.000000</td>\n",
              "    </tr>\n",
              "    <tr>\n",
              "      <th>50%</th>\n",
              "      <td>-150.000000</td>\n",
              "      <td>130.000000</td>\n",
              "      <td>66.666667</td>\n",
              "      <td>130.000000</td>\n",
              "      <td>3.000000</td>\n",
              "      <td>0.000000</td>\n",
              "      <td>0.000000</td>\n",
              "      <td>0.000000</td>\n",
              "      <td>24.759615</td>\n",
              "      <td>0.450000</td>\n",
              "      <td>...</td>\n",
              "      <td>8.000000</td>\n",
              "      <td>10.000000</td>\n",
              "      <td>3.000000</td>\n",
              "      <td>900.000000</td>\n",
              "      <td>250.000000</td>\n",
              "      <td>349.000000</td>\n",
              "      <td>720.000000</td>\n",
              "      <td>975.000000</td>\n",
              "      <td>435.000000</td>\n",
              "      <td>548.500000</td>\n",
              "    </tr>\n",
              "    <tr>\n",
              "      <th>75%</th>\n",
              "      <td>126.500000</td>\n",
              "      <td>220.000000</td>\n",
              "      <td>126.500000</td>\n",
              "      <td>220.000000</td>\n",
              "      <td>3.000000</td>\n",
              "      <td>1.000000</td>\n",
              "      <td>1.000000</td>\n",
              "      <td>0.000000</td>\n",
              "      <td>39.075000</td>\n",
              "      <td>0.510000</td>\n",
              "      <td>...</td>\n",
              "      <td>12.000000</td>\n",
              "      <td>13.500000</td>\n",
              "      <td>3.000000</td>\n",
              "      <td>900.000000</td>\n",
              "      <td>400.000000</td>\n",
              "      <td>525.000000</td>\n",
              "      <td>1200.000000</td>\n",
              "      <td>1400.000000</td>\n",
              "      <td>700.000000</td>\n",
              "      <td>880.750000</td>\n",
              "    </tr>\n",
              "    <tr>\n",
              "      <th>max</th>\n",
              "      <td>775.000000</td>\n",
              "      <td>1300.000000</td>\n",
              "      <td>775.000000</td>\n",
              "      <td>1300.000000</td>\n",
              "      <td>5.000000</td>\n",
              "      <td>6.000000</td>\n",
              "      <td>12.000000</td>\n",
              "      <td>2.000000</td>\n",
              "      <td>154.000000</td>\n",
              "      <td>1.000000</td>\n",
              "      <td>...</td>\n",
              "      <td>15.000000</td>\n",
              "      <td>15.000000</td>\n",
              "      <td>5.000000</td>\n",
              "      <td>1500.000000</td>\n",
              "      <td>2200.000000</td>\n",
              "      <td>2600.000000</td>\n",
              "      <td>4665.000000</td>\n",
              "      <td>4785.000000</td>\n",
              "      <td>2675.000000</td>\n",
              "      <td>3200.000000</td>\n",
              "    </tr>\n",
              "  </tbody>\n",
              "</table>\n",
              "<p>8 rows × 104 columns</p>\n",
              "</div>\n",
              "      <button class=\"colab-df-convert\" onclick=\"convertToInteractive('df-050e9b24-adf2-4e89-a436-49e5f56cbc3a')\"\n",
              "              title=\"Convert this dataframe to an interactive table.\"\n",
              "              style=\"display:none;\">\n",
              "        \n",
              "  <svg xmlns=\"http://www.w3.org/2000/svg\" height=\"24px\"viewBox=\"0 0 24 24\"\n",
              "       width=\"24px\">\n",
              "    <path d=\"M0 0h24v24H0V0z\" fill=\"none\"/>\n",
              "    <path d=\"M18.56 5.44l.94 2.06.94-2.06 2.06-.94-2.06-.94-.94-2.06-.94 2.06-2.06.94zm-11 1L8.5 8.5l.94-2.06 2.06-.94-2.06-.94L8.5 2.5l-.94 2.06-2.06.94zm10 10l.94 2.06.94-2.06 2.06-.94-2.06-.94-.94-2.06-.94 2.06-2.06.94z\"/><path d=\"M17.41 7.96l-1.37-1.37c-.4-.4-.92-.59-1.43-.59-.52 0-1.04.2-1.43.59L10.3 9.45l-7.72 7.72c-.78.78-.78 2.05 0 2.83L4 21.41c.39.39.9.59 1.41.59.51 0 1.02-.2 1.41-.59l7.78-7.78 2.81-2.81c.8-.78.8-2.07 0-2.86zM5.41 20L4 18.59l7.72-7.72 1.47 1.35L5.41 20z\"/>\n",
              "  </svg>\n",
              "      </button>\n",
              "      \n",
              "  <style>\n",
              "    .colab-df-container {\n",
              "      display:flex;\n",
              "      flex-wrap:wrap;\n",
              "      gap: 12px;\n",
              "    }\n",
              "\n",
              "    .colab-df-convert {\n",
              "      background-color: #E8F0FE;\n",
              "      border: none;\n",
              "      border-radius: 50%;\n",
              "      cursor: pointer;\n",
              "      display: none;\n",
              "      fill: #1967D2;\n",
              "      height: 32px;\n",
              "      padding: 0 0 0 0;\n",
              "      width: 32px;\n",
              "    }\n",
              "\n",
              "    .colab-df-convert:hover {\n",
              "      background-color: #E2EBFA;\n",
              "      box-shadow: 0px 1px 2px rgba(60, 64, 67, 0.3), 0px 1px 3px 1px rgba(60, 64, 67, 0.15);\n",
              "      fill: #174EA6;\n",
              "    }\n",
              "\n",
              "    [theme=dark] .colab-df-convert {\n",
              "      background-color: #3B4455;\n",
              "      fill: #D2E3FC;\n",
              "    }\n",
              "\n",
              "    [theme=dark] .colab-df-convert:hover {\n",
              "      background-color: #434B5C;\n",
              "      box-shadow: 0px 1px 3px 1px rgba(0, 0, 0, 0.15);\n",
              "      filter: drop-shadow(0px 1px 2px rgba(0, 0, 0, 0.3));\n",
              "      fill: #FFFFFF;\n",
              "    }\n",
              "  </style>\n",
              "\n",
              "      <script>\n",
              "        const buttonEl =\n",
              "          document.querySelector('#df-050e9b24-adf2-4e89-a436-49e5f56cbc3a button.colab-df-convert');\n",
              "        buttonEl.style.display =\n",
              "          google.colab.kernel.accessAllowed ? 'block' : 'none';\n",
              "\n",
              "        async function convertToInteractive(key) {\n",
              "          const element = document.querySelector('#df-050e9b24-adf2-4e89-a436-49e5f56cbc3a');\n",
              "          const dataTable =\n",
              "            await google.colab.kernel.invokeFunction('convertToInteractive',\n",
              "                                                     [key], {});\n",
              "          if (!dataTable) return;\n",
              "\n",
              "          const docLinkHtml = 'Like what you see? Visit the ' +\n",
              "            '<a target=\"_blank\" href=https://colab.research.google.com/notebooks/data_table.ipynb>data table notebook</a>'\n",
              "            + ' to learn more about interactive tables.';\n",
              "          element.innerHTML = '';\n",
              "          dataTable['output_type'] = 'display_data';\n",
              "          await google.colab.output.renderOutput(dataTable, element);\n",
              "          const docLink = document.createElement('div');\n",
              "          docLink.innerHTML = docLinkHtml;\n",
              "          element.appendChild(docLink);\n",
              "        }\n",
              "      </script>\n",
              "    </div>\n",
              "  </div>\n",
              "  "
            ]
          },
          "metadata": {},
          "execution_count": 251
        }
      ]
    },
    {
      "cell_type": "code",
      "source": [
        "ufc_df_o.head(2)"
      ],
      "metadata": {
        "colab": {
          "base_uri": "https://localhost:8080/",
          "height": 310
        },
        "id": "RXhD3yMyhtnG",
        "outputId": "48babd3e-c6d2-4526-f6a3-f3eaa010e3a8"
      },
      "execution_count": 252,
      "outputs": [
        {
          "output_type": "execute_result",
          "data": {
            "text/plain": [
              "       R_fighter      B_fighter  R_odds  B_odds        R_ev   B_ev  \\\n",
              "0  Thiago Santos  Johnny Walker  -150.0     130   66.666667  130.0   \n",
              "1  Alex Oliveira     Niko Price   170.0    -200  170.000000   50.0   \n",
              "\n",
              "         date                location country Winner  ...  finish_details  \\\n",
              "0  2021-10-02  Las Vegas, Nevada, USA     USA    Red  ...             NaN   \n",
              "1  2021-10-02  Las Vegas, Nevada, USA     USA   Blue  ...             NaN   \n",
              "\n",
              "  finish_round finish_round_time  total_fight_time_secs  r_dec_odds  \\\n",
              "0          5.0              5:00                 1500.0       800.0   \n",
              "1          3.0              5:00                  900.0       450.0   \n",
              "\n",
              "   b_dec_odds  r_sub_odds  b_sub_odds  r_ko_odds  b_ko_odds  \n",
              "0       900.0      2000.0      1600.0     -110.0      175.0  \n",
              "1       350.0       700.0      1100.0      550.0      120.0  \n",
              "\n",
              "[2 rows x 119 columns]"
            ],
            "text/html": [
              "\n",
              "  <div id=\"df-45d874d8-f088-47d2-b068-491696a72251\">\n",
              "    <div class=\"colab-df-container\">\n",
              "      <div>\n",
              "<style scoped>\n",
              "    .dataframe tbody tr th:only-of-type {\n",
              "        vertical-align: middle;\n",
              "    }\n",
              "\n",
              "    .dataframe tbody tr th {\n",
              "        vertical-align: top;\n",
              "    }\n",
              "\n",
              "    .dataframe thead th {\n",
              "        text-align: right;\n",
              "    }\n",
              "</style>\n",
              "<table border=\"1\" class=\"dataframe\">\n",
              "  <thead>\n",
              "    <tr style=\"text-align: right;\">\n",
              "      <th></th>\n",
              "      <th>R_fighter</th>\n",
              "      <th>B_fighter</th>\n",
              "      <th>R_odds</th>\n",
              "      <th>B_odds</th>\n",
              "      <th>R_ev</th>\n",
              "      <th>B_ev</th>\n",
              "      <th>date</th>\n",
              "      <th>location</th>\n",
              "      <th>country</th>\n",
              "      <th>Winner</th>\n",
              "      <th>...</th>\n",
              "      <th>finish_details</th>\n",
              "      <th>finish_round</th>\n",
              "      <th>finish_round_time</th>\n",
              "      <th>total_fight_time_secs</th>\n",
              "      <th>r_dec_odds</th>\n",
              "      <th>b_dec_odds</th>\n",
              "      <th>r_sub_odds</th>\n",
              "      <th>b_sub_odds</th>\n",
              "      <th>r_ko_odds</th>\n",
              "      <th>b_ko_odds</th>\n",
              "    </tr>\n",
              "  </thead>\n",
              "  <tbody>\n",
              "    <tr>\n",
              "      <th>0</th>\n",
              "      <td>Thiago Santos</td>\n",
              "      <td>Johnny Walker</td>\n",
              "      <td>-150.0</td>\n",
              "      <td>130</td>\n",
              "      <td>66.666667</td>\n",
              "      <td>130.0</td>\n",
              "      <td>2021-10-02</td>\n",
              "      <td>Las Vegas, Nevada, USA</td>\n",
              "      <td>USA</td>\n",
              "      <td>Red</td>\n",
              "      <td>...</td>\n",
              "      <td>NaN</td>\n",
              "      <td>5.0</td>\n",
              "      <td>5:00</td>\n",
              "      <td>1500.0</td>\n",
              "      <td>800.0</td>\n",
              "      <td>900.0</td>\n",
              "      <td>2000.0</td>\n",
              "      <td>1600.0</td>\n",
              "      <td>-110.0</td>\n",
              "      <td>175.0</td>\n",
              "    </tr>\n",
              "    <tr>\n",
              "      <th>1</th>\n",
              "      <td>Alex Oliveira</td>\n",
              "      <td>Niko Price</td>\n",
              "      <td>170.0</td>\n",
              "      <td>-200</td>\n",
              "      <td>170.000000</td>\n",
              "      <td>50.0</td>\n",
              "      <td>2021-10-02</td>\n",
              "      <td>Las Vegas, Nevada, USA</td>\n",
              "      <td>USA</td>\n",
              "      <td>Blue</td>\n",
              "      <td>...</td>\n",
              "      <td>NaN</td>\n",
              "      <td>3.0</td>\n",
              "      <td>5:00</td>\n",
              "      <td>900.0</td>\n",
              "      <td>450.0</td>\n",
              "      <td>350.0</td>\n",
              "      <td>700.0</td>\n",
              "      <td>1100.0</td>\n",
              "      <td>550.0</td>\n",
              "      <td>120.0</td>\n",
              "    </tr>\n",
              "  </tbody>\n",
              "</table>\n",
              "<p>2 rows × 119 columns</p>\n",
              "</div>\n",
              "      <button class=\"colab-df-convert\" onclick=\"convertToInteractive('df-45d874d8-f088-47d2-b068-491696a72251')\"\n",
              "              title=\"Convert this dataframe to an interactive table.\"\n",
              "              style=\"display:none;\">\n",
              "        \n",
              "  <svg xmlns=\"http://www.w3.org/2000/svg\" height=\"24px\"viewBox=\"0 0 24 24\"\n",
              "       width=\"24px\">\n",
              "    <path d=\"M0 0h24v24H0V0z\" fill=\"none\"/>\n",
              "    <path d=\"M18.56 5.44l.94 2.06.94-2.06 2.06-.94-2.06-.94-.94-2.06-.94 2.06-2.06.94zm-11 1L8.5 8.5l.94-2.06 2.06-.94-2.06-.94L8.5 2.5l-.94 2.06-2.06.94zm10 10l.94 2.06.94-2.06 2.06-.94-2.06-.94-.94-2.06-.94 2.06-2.06.94z\"/><path d=\"M17.41 7.96l-1.37-1.37c-.4-.4-.92-.59-1.43-.59-.52 0-1.04.2-1.43.59L10.3 9.45l-7.72 7.72c-.78.78-.78 2.05 0 2.83L4 21.41c.39.39.9.59 1.41.59.51 0 1.02-.2 1.41-.59l7.78-7.78 2.81-2.81c.8-.78.8-2.07 0-2.86zM5.41 20L4 18.59l7.72-7.72 1.47 1.35L5.41 20z\"/>\n",
              "  </svg>\n",
              "      </button>\n",
              "      \n",
              "  <style>\n",
              "    .colab-df-container {\n",
              "      display:flex;\n",
              "      flex-wrap:wrap;\n",
              "      gap: 12px;\n",
              "    }\n",
              "\n",
              "    .colab-df-convert {\n",
              "      background-color: #E8F0FE;\n",
              "      border: none;\n",
              "      border-radius: 50%;\n",
              "      cursor: pointer;\n",
              "      display: none;\n",
              "      fill: #1967D2;\n",
              "      height: 32px;\n",
              "      padding: 0 0 0 0;\n",
              "      width: 32px;\n",
              "    }\n",
              "\n",
              "    .colab-df-convert:hover {\n",
              "      background-color: #E2EBFA;\n",
              "      box-shadow: 0px 1px 2px rgba(60, 64, 67, 0.3), 0px 1px 3px 1px rgba(60, 64, 67, 0.15);\n",
              "      fill: #174EA6;\n",
              "    }\n",
              "\n",
              "    [theme=dark] .colab-df-convert {\n",
              "      background-color: #3B4455;\n",
              "      fill: #D2E3FC;\n",
              "    }\n",
              "\n",
              "    [theme=dark] .colab-df-convert:hover {\n",
              "      background-color: #434B5C;\n",
              "      box-shadow: 0px 1px 3px 1px rgba(0, 0, 0, 0.15);\n",
              "      filter: drop-shadow(0px 1px 2px rgba(0, 0, 0, 0.3));\n",
              "      fill: #FFFFFF;\n",
              "    }\n",
              "  </style>\n",
              "\n",
              "      <script>\n",
              "        const buttonEl =\n",
              "          document.querySelector('#df-45d874d8-f088-47d2-b068-491696a72251 button.colab-df-convert');\n",
              "        buttonEl.style.display =\n",
              "          google.colab.kernel.accessAllowed ? 'block' : 'none';\n",
              "\n",
              "        async function convertToInteractive(key) {\n",
              "          const element = document.querySelector('#df-45d874d8-f088-47d2-b068-491696a72251');\n",
              "          const dataTable =\n",
              "            await google.colab.kernel.invokeFunction('convertToInteractive',\n",
              "                                                     [key], {});\n",
              "          if (!dataTable) return;\n",
              "\n",
              "          const docLinkHtml = 'Like what you see? Visit the ' +\n",
              "            '<a target=\"_blank\" href=https://colab.research.google.com/notebooks/data_table.ipynb>data table notebook</a>'\n",
              "            + ' to learn more about interactive tables.';\n",
              "          element.innerHTML = '';\n",
              "          dataTable['output_type'] = 'display_data';\n",
              "          await google.colab.output.renderOutput(dataTable, element);\n",
              "          const docLink = document.createElement('div');\n",
              "          docLink.innerHTML = docLinkHtml;\n",
              "          element.appendChild(docLink);\n",
              "        }\n",
              "      </script>\n",
              "    </div>\n",
              "  </div>\n",
              "  "
            ]
          },
          "metadata": {},
          "execution_count": 252
        }
      ]
    },
    {
      "cell_type": "code",
      "source": [
        "columns_arr = []\n",
        "for i in ufc_df_o.columns:\n",
        "  if i[0] != 'R' and i[0] != 'B' and i[0] != 'r' and i[0] != 'b':\n",
        "    columns_arr.append(i)\n"
      ],
      "metadata": {
        "id": "0nhT6U-Fj4KR"
      },
      "execution_count": 253,
      "outputs": []
    },
    {
      "cell_type": "code",
      "source": [
        "columns_arr = []\n",
        "for i in ufc_df_o.columns:\n",
        "  if i[0] != 'R' and i[0] != 'B' and i[0] != 'r' and i[0] != 'b':\n",
        "    pass\n",
        "  else:\n",
        "    columns_arr.append(i)\n"
      ],
      "metadata": {
        "id": "g5jXk6MMUtDz"
      },
      "execution_count": 254,
      "outputs": []
    },
    {
      "cell_type": "markdown",
      "source": [
        "## Tipos de dados contidos no dataframe:"
      ],
      "metadata": {
        "id": "ZitH5IFV5Ais"
      }
    },
    {
      "cell_type": "code",
      "source": [
        "datatypes = ufc_df_o.dtypes.values\n",
        "datatypes = np.unique(datatypes)"
      ],
      "metadata": {
        "id": "nU0ScVRSVBB_"
      },
      "execution_count": 255,
      "outputs": []
    },
    {
      "cell_type": "code",
      "source": [
        "datatypes"
      ],
      "metadata": {
        "id": "CzRN6QfT5ORK",
        "outputId": "f2a7416b-f4f3-4bbe-a708-e3a85a7cffa1",
        "colab": {
          "base_uri": "https://localhost:8080/"
        }
      },
      "execution_count": 256,
      "outputs": [
        {
          "output_type": "execute_result",
          "data": {
            "text/plain": [
              "array([dtype('bool'), dtype('int64'), dtype('float64'), dtype('O')],\n",
              "      dtype=object)"
            ]
          },
          "metadata": {},
          "execution_count": 256
        }
      ]
    },
    {
      "cell_type": "markdown",
      "source": [
        "# Analisando campos de classes:"
      ],
      "metadata": {
        "id": "UUxCHdLFq_wp"
      }
    },
    {
      "cell_type": "code",
      "source": [
        "ufc_df_o.select_dtypes(include='object').describe().columns"
      ],
      "metadata": {
        "id": "z46GvOTBU277",
        "outputId": "c644a714-c911-40c8-bbf2-9e1d29ed7808",
        "colab": {
          "base_uri": "https://localhost:8080/"
        }
      },
      "execution_count": 257,
      "outputs": [
        {
          "output_type": "execute_result",
          "data": {
            "text/plain": [
              "Index(['R_fighter', 'B_fighter', 'date', 'location', 'country', 'Winner',\n",
              "       'weight_class', 'gender', 'B_Stance', 'R_Stance', 'better_rank',\n",
              "       'finish', 'finish_details', 'finish_round_time'],\n",
              "      dtype='object')"
            ]
          },
          "metadata": {},
          "execution_count": 257
        }
      ]
    },
    {
      "cell_type": "markdown",
      "source": [
        "## Tratar o campo Winner"
      ],
      "metadata": {
        "id": "MAL5bNGRrmMp"
      }
    },
    {
      "cell_type": "markdown",
      "source": [
        "- 0 = Red; \n",
        "- 1 = Blue;"
      ],
      "metadata": {
        "id": "7aoZDLAKIFrU"
      }
    },
    {
      "cell_type": "code",
      "source": [
        "ufc_df_o.Winner.value_counts()"
      ],
      "metadata": {
        "id": "DtOAFPo7rEXe",
        "outputId": "bde633b1-3b4d-42d9-e8f9-b4110db8ea41",
        "colab": {
          "base_uri": "https://localhost:8080/"
        }
      },
      "execution_count": 258,
      "outputs": [
        {
          "output_type": "execute_result",
          "data": {
            "text/plain": [
              "Red     2859\n",
              "Blue    2037\n",
              "Name: Winner, dtype: int64"
            ]
          },
          "metadata": {},
          "execution_count": 258
        }
      ]
    },
    {
      "cell_type": "code",
      "source": [
        "de_para_Winner = {\n",
        "    'Red': 0,\n",
        "    'Blue': 1\n",
        "}\n",
        "\n",
        "ufc_df_o['winner_t'] = ufc_df_o.Winner.map(de_para_Winner)"
      ],
      "metadata": {
        "id": "QePaUrS_ImkX"
      },
      "execution_count": 259,
      "outputs": []
    },
    {
      "cell_type": "code",
      "source": [
        "ufc_df_o[['Winner','winner_t']].head(3)"
      ],
      "metadata": {
        "id": "IhFT0_7iJItI",
        "outputId": "c3a76756-368b-41fc-c651-431c281f9e0d",
        "colab": {
          "base_uri": "https://localhost:8080/",
          "height": 0
        }
      },
      "execution_count": 260,
      "outputs": [
        {
          "output_type": "execute_result",
          "data": {
            "text/plain": [
              "  Winner  winner_t\n",
              "0    Red         0\n",
              "1   Blue         1\n",
              "2   Blue         1"
            ],
            "text/html": [
              "\n",
              "  <div id=\"df-fcdd1b3d-c00d-41f9-b2db-eba52e9de0c8\">\n",
              "    <div class=\"colab-df-container\">\n",
              "      <div>\n",
              "<style scoped>\n",
              "    .dataframe tbody tr th:only-of-type {\n",
              "        vertical-align: middle;\n",
              "    }\n",
              "\n",
              "    .dataframe tbody tr th {\n",
              "        vertical-align: top;\n",
              "    }\n",
              "\n",
              "    .dataframe thead th {\n",
              "        text-align: right;\n",
              "    }\n",
              "</style>\n",
              "<table border=\"1\" class=\"dataframe\">\n",
              "  <thead>\n",
              "    <tr style=\"text-align: right;\">\n",
              "      <th></th>\n",
              "      <th>Winner</th>\n",
              "      <th>winner_t</th>\n",
              "    </tr>\n",
              "  </thead>\n",
              "  <tbody>\n",
              "    <tr>\n",
              "      <th>0</th>\n",
              "      <td>Red</td>\n",
              "      <td>0</td>\n",
              "    </tr>\n",
              "    <tr>\n",
              "      <th>1</th>\n",
              "      <td>Blue</td>\n",
              "      <td>1</td>\n",
              "    </tr>\n",
              "    <tr>\n",
              "      <th>2</th>\n",
              "      <td>Blue</td>\n",
              "      <td>1</td>\n",
              "    </tr>\n",
              "  </tbody>\n",
              "</table>\n",
              "</div>\n",
              "      <button class=\"colab-df-convert\" onclick=\"convertToInteractive('df-fcdd1b3d-c00d-41f9-b2db-eba52e9de0c8')\"\n",
              "              title=\"Convert this dataframe to an interactive table.\"\n",
              "              style=\"display:none;\">\n",
              "        \n",
              "  <svg xmlns=\"http://www.w3.org/2000/svg\" height=\"24px\"viewBox=\"0 0 24 24\"\n",
              "       width=\"24px\">\n",
              "    <path d=\"M0 0h24v24H0V0z\" fill=\"none\"/>\n",
              "    <path d=\"M18.56 5.44l.94 2.06.94-2.06 2.06-.94-2.06-.94-.94-2.06-.94 2.06-2.06.94zm-11 1L8.5 8.5l.94-2.06 2.06-.94-2.06-.94L8.5 2.5l-.94 2.06-2.06.94zm10 10l.94 2.06.94-2.06 2.06-.94-2.06-.94-.94-2.06-.94 2.06-2.06.94z\"/><path d=\"M17.41 7.96l-1.37-1.37c-.4-.4-.92-.59-1.43-.59-.52 0-1.04.2-1.43.59L10.3 9.45l-7.72 7.72c-.78.78-.78 2.05 0 2.83L4 21.41c.39.39.9.59 1.41.59.51 0 1.02-.2 1.41-.59l7.78-7.78 2.81-2.81c.8-.78.8-2.07 0-2.86zM5.41 20L4 18.59l7.72-7.72 1.47 1.35L5.41 20z\"/>\n",
              "  </svg>\n",
              "      </button>\n",
              "      \n",
              "  <style>\n",
              "    .colab-df-container {\n",
              "      display:flex;\n",
              "      flex-wrap:wrap;\n",
              "      gap: 12px;\n",
              "    }\n",
              "\n",
              "    .colab-df-convert {\n",
              "      background-color: #E8F0FE;\n",
              "      border: none;\n",
              "      border-radius: 50%;\n",
              "      cursor: pointer;\n",
              "      display: none;\n",
              "      fill: #1967D2;\n",
              "      height: 32px;\n",
              "      padding: 0 0 0 0;\n",
              "      width: 32px;\n",
              "    }\n",
              "\n",
              "    .colab-df-convert:hover {\n",
              "      background-color: #E2EBFA;\n",
              "      box-shadow: 0px 1px 2px rgba(60, 64, 67, 0.3), 0px 1px 3px 1px rgba(60, 64, 67, 0.15);\n",
              "      fill: #174EA6;\n",
              "    }\n",
              "\n",
              "    [theme=dark] .colab-df-convert {\n",
              "      background-color: #3B4455;\n",
              "      fill: #D2E3FC;\n",
              "    }\n",
              "\n",
              "    [theme=dark] .colab-df-convert:hover {\n",
              "      background-color: #434B5C;\n",
              "      box-shadow: 0px 1px 3px 1px rgba(0, 0, 0, 0.15);\n",
              "      filter: drop-shadow(0px 1px 2px rgba(0, 0, 0, 0.3));\n",
              "      fill: #FFFFFF;\n",
              "    }\n",
              "  </style>\n",
              "\n",
              "      <script>\n",
              "        const buttonEl =\n",
              "          document.querySelector('#df-fcdd1b3d-c00d-41f9-b2db-eba52e9de0c8 button.colab-df-convert');\n",
              "        buttonEl.style.display =\n",
              "          google.colab.kernel.accessAllowed ? 'block' : 'none';\n",
              "\n",
              "        async function convertToInteractive(key) {\n",
              "          const element = document.querySelector('#df-fcdd1b3d-c00d-41f9-b2db-eba52e9de0c8');\n",
              "          const dataTable =\n",
              "            await google.colab.kernel.invokeFunction('convertToInteractive',\n",
              "                                                     [key], {});\n",
              "          if (!dataTable) return;\n",
              "\n",
              "          const docLinkHtml = 'Like what you see? Visit the ' +\n",
              "            '<a target=\"_blank\" href=https://colab.research.google.com/notebooks/data_table.ipynb>data table notebook</a>'\n",
              "            + ' to learn more about interactive tables.';\n",
              "          element.innerHTML = '';\n",
              "          dataTable['output_type'] = 'display_data';\n",
              "          await google.colab.output.renderOutput(dataTable, element);\n",
              "          const docLink = document.createElement('div');\n",
              "          docLink.innerHTML = docLinkHtml;\n",
              "          element.appendChild(docLink);\n",
              "        }\n",
              "      </script>\n",
              "    </div>\n",
              "  </div>\n",
              "  "
            ]
          },
          "metadata": {},
          "execution_count": 260
        }
      ]
    },
    {
      "cell_type": "markdown",
      "source": [
        "## Tratar o campo Gender"
      ],
      "metadata": {
        "id": "1RFnt8lsrx1X"
      }
    },
    {
      "cell_type": "code",
      "source": [
        "ufc_df_o.gender.value_counts()"
      ],
      "metadata": {
        "id": "jqZ4WSClrxQG",
        "outputId": "d09bf389-2bd1-43f1-e88b-ac2b8f44c3f3",
        "colab": {
          "base_uri": "https://localhost:8080/"
        }
      },
      "execution_count": 261,
      "outputs": [
        {
          "output_type": "execute_result",
          "data": {
            "text/plain": [
              "MALE      4384\n",
              "FEMALE     512\n",
              "Name: gender, dtype: int64"
            ]
          },
          "metadata": {},
          "execution_count": 261
        }
      ]
    },
    {
      "cell_type": "code",
      "source": [
        "de_para_Gender = {\n",
        "    'MALE': 0,\n",
        "    'FEMALE': 1\n",
        "}\n",
        "\n",
        "ufc_df_o['gender_t'] = ufc_df_o.gender.map(de_para_Gender)\n",
        "ufc_df_o[['gender_t','gender']].value_counts()"
      ],
      "metadata": {
        "id": "tC4T59g5Jisn",
        "outputId": "81d801d4-7ead-4536-da39-1f6c3012c237",
        "colab": {
          "base_uri": "https://localhost:8080/"
        }
      },
      "execution_count": 262,
      "outputs": [
        {
          "output_type": "execute_result",
          "data": {
            "text/plain": [
              "gender_t  gender\n",
              "0         MALE      4384\n",
              "1         FEMALE     512\n",
              "dtype: int64"
            ]
          },
          "metadata": {},
          "execution_count": 262
        }
      ]
    },
    {
      "cell_type": "markdown",
      "source": [
        "## Tratar o campo country:"
      ],
      "metadata": {
        "id": "FmtFm0jes1hG"
      }
    },
    {
      "cell_type": "code",
      "source": [
        "ufc_df_o.country.value_counts()"
      ],
      "metadata": {
        "id": "gIdkJTuosFEP",
        "outputId": "3e63e9d6-5583-4c67-e59f-f3898e444033",
        "colab": {
          "base_uri": "https://localhost:8080/"
        }
      },
      "execution_count": 263,
      "outputs": [
        {
          "output_type": "execute_result",
          "data": {
            "text/plain": [
              " USA                     2450\n",
              "USA                       599\n",
              " Brazil                   400\n",
              " Canada                   337\n",
              " United Kingdom           165\n",
              " Australia                160\n",
              "United Arab Emirates      141\n",
              " Sweden                    72\n",
              " Mexico                    70\n",
              " China                     61\n",
              " Germany                   54\n",
              " Japan                     53\n",
              " Singapore                 45\n",
              " Russia                    36\n",
              " New Zealand               33\n",
              " United Arab Emirates      29\n",
              " Netherlands               25\n",
              " South Korea               24\n",
              " Poland                    23\n",
              " Ireland                   19\n",
              " Croatia                   13\n",
              " Czech Republic            13\n",
              " Denmark                   13\n",
              " Chile                     13\n",
              " Uruguay                   13\n",
              " Philippines               12\n",
              " Argentina                 12\n",
              "Brazil                     11\n",
              "Name: country, dtype: int64"
            ]
          },
          "metadata": {},
          "execution_count": 263
        }
      ]
    },
    {
      "cell_type": "code",
      "source": [
        "ufc_df_o['country_t'] = ufc_df_o.country.str.strip()"
      ],
      "metadata": {
        "id": "cukJD6ROKJnX"
      },
      "execution_count": 264,
      "outputs": []
    },
    {
      "cell_type": "code",
      "source": [
        "ufc_df_o[['country','country_t']].value_counts()"
      ],
      "metadata": {
        "id": "_I1Fe0NcKuCe",
        "outputId": "9acb614d-3e61-42de-daee-ef1436edece1",
        "colab": {
          "base_uri": "https://localhost:8080/"
        }
      },
      "execution_count": 265,
      "outputs": [
        {
          "output_type": "execute_result",
          "data": {
            "text/plain": [
              "country                country_t           \n",
              " USA                   USA                     2450\n",
              "USA                    USA                      599\n",
              " Brazil                Brazil                   400\n",
              " Canada                Canada                   337\n",
              " United Kingdom        United Kingdom           165\n",
              " Australia             Australia                160\n",
              "United Arab Emirates   United Arab Emirates     141\n",
              " Sweden                Sweden                    72\n",
              " Mexico                Mexico                    70\n",
              " China                 China                     61\n",
              " Germany               Germany                   54\n",
              " Japan                 Japan                     53\n",
              " Singapore             Singapore                 45\n",
              " Russia                Russia                    36\n",
              " New Zealand           New Zealand               33\n",
              " United Arab Emirates  United Arab Emirates      29\n",
              " Netherlands           Netherlands               25\n",
              " South Korea           South Korea               24\n",
              " Poland                Poland                    23\n",
              " Ireland               Ireland                   19\n",
              " Denmark               Denmark                   13\n",
              " Czech Republic        Czech Republic            13\n",
              " Croatia               Croatia                   13\n",
              " Uruguay               Uruguay                   13\n",
              " Chile                 Chile                     13\n",
              " Philippines           Philippines               12\n",
              " Argentina             Argentina                 12\n",
              "Brazil                 Brazil                    11\n",
              "dtype: int64"
            ]
          },
          "metadata": {},
          "execution_count": 265
        }
      ]
    },
    {
      "cell_type": "code",
      "source": [
        "ufc_df_o['finish'].value_counts()"
      ],
      "metadata": {
        "id": "ABwpwTEiyR40",
        "outputId": "e23ce3bc-8ba8-4673-ddd3-75ce1c4cdcf3",
        "colab": {
          "base_uri": "https://localhost:8080/"
        }
      },
      "execution_count": 266,
      "outputs": [
        {
          "output_type": "execute_result",
          "data": {
            "text/plain": [
              "U-DEC         1778\n",
              "KO/TKO        1495\n",
              "SUB            854\n",
              "S-DEC          483\n",
              "M-DEC           32\n",
              "DQ              14\n",
              "Overturned       2\n",
              "Name: finish, dtype: int64"
            ]
          },
          "metadata": {},
          "execution_count": 266
        }
      ]
    },
    {
      "cell_type": "markdown",
      "source": [
        "## Converter campo finish_round_time:\n"
      ],
      "metadata": {
        "id": "g8nn1uOZVk3X"
      }
    },
    {
      "cell_type": "code",
      "source": [
        "ufc_df_o[['no_of_rounds','finish_round_time','total_fight_time_secs']].head(4)"
      ],
      "metadata": {
        "id": "UNh_-nH1Uy71",
        "outputId": "fe2f1659-c0d6-47aa-e11a-65789d092267",
        "colab": {
          "base_uri": "https://localhost:8080/",
          "height": 0
        }
      },
      "execution_count": 267,
      "outputs": [
        {
          "output_type": "execute_result",
          "data": {
            "text/plain": [
              "   no_of_rounds finish_round_time  total_fight_time_secs\n",
              "0             5              5:00                 1500.0\n",
              "1             3              5:00                  900.0\n",
              "2             3              5:00                  900.0\n",
              "3             3              1:20                   80.0"
            ],
            "text/html": [
              "\n",
              "  <div id=\"df-7148ff9b-8219-4bab-913e-0bd4ac4e24a0\">\n",
              "    <div class=\"colab-df-container\">\n",
              "      <div>\n",
              "<style scoped>\n",
              "    .dataframe tbody tr th:only-of-type {\n",
              "        vertical-align: middle;\n",
              "    }\n",
              "\n",
              "    .dataframe tbody tr th {\n",
              "        vertical-align: top;\n",
              "    }\n",
              "\n",
              "    .dataframe thead th {\n",
              "        text-align: right;\n",
              "    }\n",
              "</style>\n",
              "<table border=\"1\" class=\"dataframe\">\n",
              "  <thead>\n",
              "    <tr style=\"text-align: right;\">\n",
              "      <th></th>\n",
              "      <th>no_of_rounds</th>\n",
              "      <th>finish_round_time</th>\n",
              "      <th>total_fight_time_secs</th>\n",
              "    </tr>\n",
              "  </thead>\n",
              "  <tbody>\n",
              "    <tr>\n",
              "      <th>0</th>\n",
              "      <td>5</td>\n",
              "      <td>5:00</td>\n",
              "      <td>1500.0</td>\n",
              "    </tr>\n",
              "    <tr>\n",
              "      <th>1</th>\n",
              "      <td>3</td>\n",
              "      <td>5:00</td>\n",
              "      <td>900.0</td>\n",
              "    </tr>\n",
              "    <tr>\n",
              "      <th>2</th>\n",
              "      <td>3</td>\n",
              "      <td>5:00</td>\n",
              "      <td>900.0</td>\n",
              "    </tr>\n",
              "    <tr>\n",
              "      <th>3</th>\n",
              "      <td>3</td>\n",
              "      <td>1:20</td>\n",
              "      <td>80.0</td>\n",
              "    </tr>\n",
              "  </tbody>\n",
              "</table>\n",
              "</div>\n",
              "      <button class=\"colab-df-convert\" onclick=\"convertToInteractive('df-7148ff9b-8219-4bab-913e-0bd4ac4e24a0')\"\n",
              "              title=\"Convert this dataframe to an interactive table.\"\n",
              "              style=\"display:none;\">\n",
              "        \n",
              "  <svg xmlns=\"http://www.w3.org/2000/svg\" height=\"24px\"viewBox=\"0 0 24 24\"\n",
              "       width=\"24px\">\n",
              "    <path d=\"M0 0h24v24H0V0z\" fill=\"none\"/>\n",
              "    <path d=\"M18.56 5.44l.94 2.06.94-2.06 2.06-.94-2.06-.94-.94-2.06-.94 2.06-2.06.94zm-11 1L8.5 8.5l.94-2.06 2.06-.94-2.06-.94L8.5 2.5l-.94 2.06-2.06.94zm10 10l.94 2.06.94-2.06 2.06-.94-2.06-.94-.94-2.06-.94 2.06-2.06.94z\"/><path d=\"M17.41 7.96l-1.37-1.37c-.4-.4-.92-.59-1.43-.59-.52 0-1.04.2-1.43.59L10.3 9.45l-7.72 7.72c-.78.78-.78 2.05 0 2.83L4 21.41c.39.39.9.59 1.41.59.51 0 1.02-.2 1.41-.59l7.78-7.78 2.81-2.81c.8-.78.8-2.07 0-2.86zM5.41 20L4 18.59l7.72-7.72 1.47 1.35L5.41 20z\"/>\n",
              "  </svg>\n",
              "      </button>\n",
              "      \n",
              "  <style>\n",
              "    .colab-df-container {\n",
              "      display:flex;\n",
              "      flex-wrap:wrap;\n",
              "      gap: 12px;\n",
              "    }\n",
              "\n",
              "    .colab-df-convert {\n",
              "      background-color: #E8F0FE;\n",
              "      border: none;\n",
              "      border-radius: 50%;\n",
              "      cursor: pointer;\n",
              "      display: none;\n",
              "      fill: #1967D2;\n",
              "      height: 32px;\n",
              "      padding: 0 0 0 0;\n",
              "      width: 32px;\n",
              "    }\n",
              "\n",
              "    .colab-df-convert:hover {\n",
              "      background-color: #E2EBFA;\n",
              "      box-shadow: 0px 1px 2px rgba(60, 64, 67, 0.3), 0px 1px 3px 1px rgba(60, 64, 67, 0.15);\n",
              "      fill: #174EA6;\n",
              "    }\n",
              "\n",
              "    [theme=dark] .colab-df-convert {\n",
              "      background-color: #3B4455;\n",
              "      fill: #D2E3FC;\n",
              "    }\n",
              "\n",
              "    [theme=dark] .colab-df-convert:hover {\n",
              "      background-color: #434B5C;\n",
              "      box-shadow: 0px 1px 3px 1px rgba(0, 0, 0, 0.15);\n",
              "      filter: drop-shadow(0px 1px 2px rgba(0, 0, 0, 0.3));\n",
              "      fill: #FFFFFF;\n",
              "    }\n",
              "  </style>\n",
              "\n",
              "      <script>\n",
              "        const buttonEl =\n",
              "          document.querySelector('#df-7148ff9b-8219-4bab-913e-0bd4ac4e24a0 button.colab-df-convert');\n",
              "        buttonEl.style.display =\n",
              "          google.colab.kernel.accessAllowed ? 'block' : 'none';\n",
              "\n",
              "        async function convertToInteractive(key) {\n",
              "          const element = document.querySelector('#df-7148ff9b-8219-4bab-913e-0bd4ac4e24a0');\n",
              "          const dataTable =\n",
              "            await google.colab.kernel.invokeFunction('convertToInteractive',\n",
              "                                                     [key], {});\n",
              "          if (!dataTable) return;\n",
              "\n",
              "          const docLinkHtml = 'Like what you see? Visit the ' +\n",
              "            '<a target=\"_blank\" href=https://colab.research.google.com/notebooks/data_table.ipynb>data table notebook</a>'\n",
              "            + ' to learn more about interactive tables.';\n",
              "          element.innerHTML = '';\n",
              "          dataTable['output_type'] = 'display_data';\n",
              "          await google.colab.output.renderOutput(dataTable, element);\n",
              "          const docLink = document.createElement('div');\n",
              "          docLink.innerHTML = docLinkHtml;\n",
              "          element.appendChild(docLink);\n",
              "        }\n",
              "      </script>\n",
              "    </div>\n",
              "  </div>\n",
              "  "
            ]
          },
          "metadata": {},
          "execution_count": 267
        }
      ]
    },
    {
      "cell_type": "code",
      "source": [
        "ufc_df_o['finish_round_time_t'] = ufc_df_o.finish_round_time.str.replace(':','.')\n",
        "ufc_df_o['finish_round_time_t'] = ufc_df_o[\"finish_round_time_t\"].astype(float)\n",
        "ufc_df_o[['finish_round_time','finish_round_time_t','no_of_rounds','total_fight_time_secs']].head(5)"
      ],
      "metadata": {
        "id": "EqEOzER32IRv",
        "outputId": "bf71873f-35ca-4570-96b2-f2be9e775d67",
        "colab": {
          "base_uri": "https://localhost:8080/",
          "height": 0
        }
      },
      "execution_count": 268,
      "outputs": [
        {
          "output_type": "execute_result",
          "data": {
            "text/plain": [
              "  finish_round_time  finish_round_time_t  no_of_rounds  total_fight_time_secs\n",
              "0              5:00                  5.0             5                 1500.0\n",
              "1              5:00                  5.0             3                  900.0\n",
              "2              5:00                  5.0             3                  900.0\n",
              "3              1:20                  1.2             3                   80.0\n",
              "4              5:00                  5.0             3                  900.0"
            ],
            "text/html": [
              "\n",
              "  <div id=\"df-a7d41c08-f342-4675-8f6a-a3fa8933ab4a\">\n",
              "    <div class=\"colab-df-container\">\n",
              "      <div>\n",
              "<style scoped>\n",
              "    .dataframe tbody tr th:only-of-type {\n",
              "        vertical-align: middle;\n",
              "    }\n",
              "\n",
              "    .dataframe tbody tr th {\n",
              "        vertical-align: top;\n",
              "    }\n",
              "\n",
              "    .dataframe thead th {\n",
              "        text-align: right;\n",
              "    }\n",
              "</style>\n",
              "<table border=\"1\" class=\"dataframe\">\n",
              "  <thead>\n",
              "    <tr style=\"text-align: right;\">\n",
              "      <th></th>\n",
              "      <th>finish_round_time</th>\n",
              "      <th>finish_round_time_t</th>\n",
              "      <th>no_of_rounds</th>\n",
              "      <th>total_fight_time_secs</th>\n",
              "    </tr>\n",
              "  </thead>\n",
              "  <tbody>\n",
              "    <tr>\n",
              "      <th>0</th>\n",
              "      <td>5:00</td>\n",
              "      <td>5.0</td>\n",
              "      <td>5</td>\n",
              "      <td>1500.0</td>\n",
              "    </tr>\n",
              "    <tr>\n",
              "      <th>1</th>\n",
              "      <td>5:00</td>\n",
              "      <td>5.0</td>\n",
              "      <td>3</td>\n",
              "      <td>900.0</td>\n",
              "    </tr>\n",
              "    <tr>\n",
              "      <th>2</th>\n",
              "      <td>5:00</td>\n",
              "      <td>5.0</td>\n",
              "      <td>3</td>\n",
              "      <td>900.0</td>\n",
              "    </tr>\n",
              "    <tr>\n",
              "      <th>3</th>\n",
              "      <td>1:20</td>\n",
              "      <td>1.2</td>\n",
              "      <td>3</td>\n",
              "      <td>80.0</td>\n",
              "    </tr>\n",
              "    <tr>\n",
              "      <th>4</th>\n",
              "      <td>5:00</td>\n",
              "      <td>5.0</td>\n",
              "      <td>3</td>\n",
              "      <td>900.0</td>\n",
              "    </tr>\n",
              "  </tbody>\n",
              "</table>\n",
              "</div>\n",
              "      <button class=\"colab-df-convert\" onclick=\"convertToInteractive('df-a7d41c08-f342-4675-8f6a-a3fa8933ab4a')\"\n",
              "              title=\"Convert this dataframe to an interactive table.\"\n",
              "              style=\"display:none;\">\n",
              "        \n",
              "  <svg xmlns=\"http://www.w3.org/2000/svg\" height=\"24px\"viewBox=\"0 0 24 24\"\n",
              "       width=\"24px\">\n",
              "    <path d=\"M0 0h24v24H0V0z\" fill=\"none\"/>\n",
              "    <path d=\"M18.56 5.44l.94 2.06.94-2.06 2.06-.94-2.06-.94-.94-2.06-.94 2.06-2.06.94zm-11 1L8.5 8.5l.94-2.06 2.06-.94-2.06-.94L8.5 2.5l-.94 2.06-2.06.94zm10 10l.94 2.06.94-2.06 2.06-.94-2.06-.94-.94-2.06-.94 2.06-2.06.94z\"/><path d=\"M17.41 7.96l-1.37-1.37c-.4-.4-.92-.59-1.43-.59-.52 0-1.04.2-1.43.59L10.3 9.45l-7.72 7.72c-.78.78-.78 2.05 0 2.83L4 21.41c.39.39.9.59 1.41.59.51 0 1.02-.2 1.41-.59l7.78-7.78 2.81-2.81c.8-.78.8-2.07 0-2.86zM5.41 20L4 18.59l7.72-7.72 1.47 1.35L5.41 20z\"/>\n",
              "  </svg>\n",
              "      </button>\n",
              "      \n",
              "  <style>\n",
              "    .colab-df-container {\n",
              "      display:flex;\n",
              "      flex-wrap:wrap;\n",
              "      gap: 12px;\n",
              "    }\n",
              "\n",
              "    .colab-df-convert {\n",
              "      background-color: #E8F0FE;\n",
              "      border: none;\n",
              "      border-radius: 50%;\n",
              "      cursor: pointer;\n",
              "      display: none;\n",
              "      fill: #1967D2;\n",
              "      height: 32px;\n",
              "      padding: 0 0 0 0;\n",
              "      width: 32px;\n",
              "    }\n",
              "\n",
              "    .colab-df-convert:hover {\n",
              "      background-color: #E2EBFA;\n",
              "      box-shadow: 0px 1px 2px rgba(60, 64, 67, 0.3), 0px 1px 3px 1px rgba(60, 64, 67, 0.15);\n",
              "      fill: #174EA6;\n",
              "    }\n",
              "\n",
              "    [theme=dark] .colab-df-convert {\n",
              "      background-color: #3B4455;\n",
              "      fill: #D2E3FC;\n",
              "    }\n",
              "\n",
              "    [theme=dark] .colab-df-convert:hover {\n",
              "      background-color: #434B5C;\n",
              "      box-shadow: 0px 1px 3px 1px rgba(0, 0, 0, 0.15);\n",
              "      filter: drop-shadow(0px 1px 2px rgba(0, 0, 0, 0.3));\n",
              "      fill: #FFFFFF;\n",
              "    }\n",
              "  </style>\n",
              "\n",
              "      <script>\n",
              "        const buttonEl =\n",
              "          document.querySelector('#df-a7d41c08-f342-4675-8f6a-a3fa8933ab4a button.colab-df-convert');\n",
              "        buttonEl.style.display =\n",
              "          google.colab.kernel.accessAllowed ? 'block' : 'none';\n",
              "\n",
              "        async function convertToInteractive(key) {\n",
              "          const element = document.querySelector('#df-a7d41c08-f342-4675-8f6a-a3fa8933ab4a');\n",
              "          const dataTable =\n",
              "            await google.colab.kernel.invokeFunction('convertToInteractive',\n",
              "                                                     [key], {});\n",
              "          if (!dataTable) return;\n",
              "\n",
              "          const docLinkHtml = 'Like what you see? Visit the ' +\n",
              "            '<a target=\"_blank\" href=https://colab.research.google.com/notebooks/data_table.ipynb>data table notebook</a>'\n",
              "            + ' to learn more about interactive tables.';\n",
              "          element.innerHTML = '';\n",
              "          dataTable['output_type'] = 'display_data';\n",
              "          await google.colab.output.renderOutput(dataTable, element);\n",
              "          const docLink = document.createElement('div');\n",
              "          docLink.innerHTML = docLinkHtml;\n",
              "          element.appendChild(docLink);\n",
              "        }\n",
              "      </script>\n",
              "    </div>\n",
              "  </div>\n",
              "  "
            ]
          },
          "metadata": {},
          "execution_count": 268
        }
      ]
    },
    {
      "cell_type": "markdown",
      "source": [
        "# Analisando campos do tipo numérico:"
      ],
      "metadata": {
        "id": "YHuow7XTWApf"
      }
    },
    {
      "cell_type": "code",
      "source": [
        "ufc_df_o.select_dtypes(include='int').describe().columns"
      ],
      "metadata": {
        "id": "0zvPZ4f7WFGB",
        "outputId": "d3545610-c59c-42d2-fb8a-53dd7c58fd73",
        "colab": {
          "base_uri": "https://localhost:8080/"
        }
      },
      "execution_count": 269,
      "outputs": [
        {
          "output_type": "execute_result",
          "data": {
            "text/plain": [
              "Index(['B_odds', 'no_of_rounds', 'B_current_lose_streak',\n",
              "       'B_current_win_streak', 'B_draw', 'B_longest_win_streak', 'B_losses',\n",
              "       'B_total_rounds_fought', 'B_total_title_bouts',\n",
              "       'B_win_by_Decision_Majority', 'B_win_by_Decision_Split',\n",
              "       'B_win_by_Decision_Unanimous', 'B_win_by_KO/TKO', 'B_win_by_Submission',\n",
              "       'B_win_by_TKO_Doctor_Stoppage', 'B_wins', 'B_Weight_lbs',\n",
              "       'R_current_lose_streak', 'R_current_win_streak', 'R_draw',\n",
              "       'R_longest_win_streak', 'R_losses', 'R_total_rounds_fought',\n",
              "       'R_total_title_bouts', 'R_win_by_Decision_Majority',\n",
              "       'R_win_by_Decision_Split', 'R_win_by_Decision_Unanimous',\n",
              "       'R_win_by_KO/TKO', 'R_win_by_Submission',\n",
              "       'R_win_by_TKO_Doctor_Stoppage', 'R_wins', 'R_Weight_lbs', 'R_age',\n",
              "       'B_age', 'lose_streak_dif', 'win_streak_dif', 'longest_win_streak_dif',\n",
              "       'win_dif', 'loss_dif', 'total_round_dif', 'total_title_bout_dif',\n",
              "       'ko_dif', 'sub_dif', 'age_dif', 'empty_arena', 'constant_1', 'winner_t',\n",
              "       'gender_t'],\n",
              "      dtype='object')"
            ]
          },
          "metadata": {},
          "execution_count": 269
        }
      ]
    },
    {
      "cell_type": "code",
      "source": [],
      "metadata": {
        "id": "PYRwpc4Ajh21"
      },
      "execution_count": 269,
      "outputs": []
    },
    {
      "cell_type": "markdown",
      "source": [
        "## Tratar campos calculados:"
      ],
      "metadata": {
        "id": "bSMAkLNuEyi1"
      }
    },
    {
      "cell_type": "markdown",
      "source": [
        "### Tratar campo total_round_dif"
      ],
      "metadata": {
        "id": "6DQ6Wy-9Ecrh"
      }
    },
    {
      "cell_type": "code",
      "source": [
        "ufc_df_o.total_round_dif.value_counts().head(2)"
      ],
      "metadata": {
        "id": "0JZHH2PtEgk6",
        "outputId": "e1c3c1a6-2335-4a1f-a28b-40819a0e8b31",
        "colab": {
          "base_uri": "https://localhost:8080/"
        }
      },
      "execution_count": 270,
      "outputs": [
        {
          "output_type": "execute_result",
          "data": {
            "text/plain": [
              " 0    497\n",
              "-3    266\n",
              "Name: total_round_dif, dtype: int64"
            ]
          },
          "metadata": {},
          "execution_count": 270
        }
      ]
    },
    {
      "cell_type": "markdown",
      "source": [
        "### Tratar campo loss_dif"
      ],
      "metadata": {
        "id": "uQBNP0T8EV0x"
      }
    },
    {
      "cell_type": "code",
      "source": [
        "ufc_df_o.loss_dif.value_counts().head(2)"
      ],
      "metadata": {
        "id": "_m2R65AkEYXK",
        "outputId": "5e6599ef-3937-44b3-db26-d3c9b5244c34",
        "colab": {
          "base_uri": "https://localhost:8080/"
        }
      },
      "execution_count": 271,
      "outputs": [
        {
          "output_type": "execute_result",
          "data": {
            "text/plain": [
              "0    1222\n",
              "1     812\n",
              "Name: loss_dif, dtype: int64"
            ]
          },
          "metadata": {},
          "execution_count": 271
        }
      ]
    },
    {
      "cell_type": "markdown",
      "source": [
        "### Tratar campo win_dif"
      ],
      "metadata": {
        "id": "B17zP9jQEIMj"
      }
    },
    {
      "cell_type": "code",
      "source": [
        "ufc_df_o[['win_dif']].head(2)"
      ],
      "metadata": {
        "id": "6MgfVvqLEPX5",
        "outputId": "8f4f54a2-5736-4b65-be24-4450c11ab20d",
        "colab": {
          "base_uri": "https://localhost:8080/",
          "height": 0
        }
      },
      "execution_count": 272,
      "outputs": [
        {
          "output_type": "execute_result",
          "data": {
            "text/plain": [
              "   win_dif\n",
              "0       -8\n",
              "1       -5"
            ],
            "text/html": [
              "\n",
              "  <div id=\"df-fe4fafe8-9990-4671-99cf-8c9bb4eb61a1\">\n",
              "    <div class=\"colab-df-container\">\n",
              "      <div>\n",
              "<style scoped>\n",
              "    .dataframe tbody tr th:only-of-type {\n",
              "        vertical-align: middle;\n",
              "    }\n",
              "\n",
              "    .dataframe tbody tr th {\n",
              "        vertical-align: top;\n",
              "    }\n",
              "\n",
              "    .dataframe thead th {\n",
              "        text-align: right;\n",
              "    }\n",
              "</style>\n",
              "<table border=\"1\" class=\"dataframe\">\n",
              "  <thead>\n",
              "    <tr style=\"text-align: right;\">\n",
              "      <th></th>\n",
              "      <th>win_dif</th>\n",
              "    </tr>\n",
              "  </thead>\n",
              "  <tbody>\n",
              "    <tr>\n",
              "      <th>0</th>\n",
              "      <td>-8</td>\n",
              "    </tr>\n",
              "    <tr>\n",
              "      <th>1</th>\n",
              "      <td>-5</td>\n",
              "    </tr>\n",
              "  </tbody>\n",
              "</table>\n",
              "</div>\n",
              "      <button class=\"colab-df-convert\" onclick=\"convertToInteractive('df-fe4fafe8-9990-4671-99cf-8c9bb4eb61a1')\"\n",
              "              title=\"Convert this dataframe to an interactive table.\"\n",
              "              style=\"display:none;\">\n",
              "        \n",
              "  <svg xmlns=\"http://www.w3.org/2000/svg\" height=\"24px\"viewBox=\"0 0 24 24\"\n",
              "       width=\"24px\">\n",
              "    <path d=\"M0 0h24v24H0V0z\" fill=\"none\"/>\n",
              "    <path d=\"M18.56 5.44l.94 2.06.94-2.06 2.06-.94-2.06-.94-.94-2.06-.94 2.06-2.06.94zm-11 1L8.5 8.5l.94-2.06 2.06-.94-2.06-.94L8.5 2.5l-.94 2.06-2.06.94zm10 10l.94 2.06.94-2.06 2.06-.94-2.06-.94-.94-2.06-.94 2.06-2.06.94z\"/><path d=\"M17.41 7.96l-1.37-1.37c-.4-.4-.92-.59-1.43-.59-.52 0-1.04.2-1.43.59L10.3 9.45l-7.72 7.72c-.78.78-.78 2.05 0 2.83L4 21.41c.39.39.9.59 1.41.59.51 0 1.02-.2 1.41-.59l7.78-7.78 2.81-2.81c.8-.78.8-2.07 0-2.86zM5.41 20L4 18.59l7.72-7.72 1.47 1.35L5.41 20z\"/>\n",
              "  </svg>\n",
              "      </button>\n",
              "      \n",
              "  <style>\n",
              "    .colab-df-container {\n",
              "      display:flex;\n",
              "      flex-wrap:wrap;\n",
              "      gap: 12px;\n",
              "    }\n",
              "\n",
              "    .colab-df-convert {\n",
              "      background-color: #E8F0FE;\n",
              "      border: none;\n",
              "      border-radius: 50%;\n",
              "      cursor: pointer;\n",
              "      display: none;\n",
              "      fill: #1967D2;\n",
              "      height: 32px;\n",
              "      padding: 0 0 0 0;\n",
              "      width: 32px;\n",
              "    }\n",
              "\n",
              "    .colab-df-convert:hover {\n",
              "      background-color: #E2EBFA;\n",
              "      box-shadow: 0px 1px 2px rgba(60, 64, 67, 0.3), 0px 1px 3px 1px rgba(60, 64, 67, 0.15);\n",
              "      fill: #174EA6;\n",
              "    }\n",
              "\n",
              "    [theme=dark] .colab-df-convert {\n",
              "      background-color: #3B4455;\n",
              "      fill: #D2E3FC;\n",
              "    }\n",
              "\n",
              "    [theme=dark] .colab-df-convert:hover {\n",
              "      background-color: #434B5C;\n",
              "      box-shadow: 0px 1px 3px 1px rgba(0, 0, 0, 0.15);\n",
              "      filter: drop-shadow(0px 1px 2px rgba(0, 0, 0, 0.3));\n",
              "      fill: #FFFFFF;\n",
              "    }\n",
              "  </style>\n",
              "\n",
              "      <script>\n",
              "        const buttonEl =\n",
              "          document.querySelector('#df-fe4fafe8-9990-4671-99cf-8c9bb4eb61a1 button.colab-df-convert');\n",
              "        buttonEl.style.display =\n",
              "          google.colab.kernel.accessAllowed ? 'block' : 'none';\n",
              "\n",
              "        async function convertToInteractive(key) {\n",
              "          const element = document.querySelector('#df-fe4fafe8-9990-4671-99cf-8c9bb4eb61a1');\n",
              "          const dataTable =\n",
              "            await google.colab.kernel.invokeFunction('convertToInteractive',\n",
              "                                                     [key], {});\n",
              "          if (!dataTable) return;\n",
              "\n",
              "          const docLinkHtml = 'Like what you see? Visit the ' +\n",
              "            '<a target=\"_blank\" href=https://colab.research.google.com/notebooks/data_table.ipynb>data table notebook</a>'\n",
              "            + ' to learn more about interactive tables.';\n",
              "          element.innerHTML = '';\n",
              "          dataTable['output_type'] = 'display_data';\n",
              "          await google.colab.output.renderOutput(dataTable, element);\n",
              "          const docLink = document.createElement('div');\n",
              "          docLink.innerHTML = docLinkHtml;\n",
              "          element.appendChild(docLink);\n",
              "        }\n",
              "      </script>\n",
              "    </div>\n",
              "  </div>\n",
              "  "
            ]
          },
          "metadata": {},
          "execution_count": 272
        }
      ]
    },
    {
      "cell_type": "markdown",
      "source": [
        "### Tratar campo longest_win_streak_dif"
      ],
      "metadata": {
        "id": "KimVlFQvBXze"
      }
    },
    {
      "cell_type": "code",
      "source": [
        "ufc_df_o.longest_win_streak_dif.value_counts().head(2)"
      ],
      "metadata": {
        "id": "q2HVVdiQBe4D",
        "outputId": "f078f5c0-6551-4d6c-ff33-3692cdd1763e",
        "colab": {
          "base_uri": "https://localhost:8080/"
        }
      },
      "execution_count": 273,
      "outputs": [
        {
          "output_type": "execute_result",
          "data": {
            "text/plain": [
              " 0    1406\n",
              "-1    1102\n",
              "Name: longest_win_streak_dif, dtype: int64"
            ]
          },
          "metadata": {},
          "execution_count": 273
        }
      ]
    },
    {
      "cell_type": "markdown",
      "source": [
        "### Tratar campo sub_dif"
      ],
      "metadata": {
        "id": "WbkRHYnDBKEg"
      }
    },
    {
      "cell_type": "code",
      "source": [
        "ufc_df_o.sub_dif.value_counts().head(2)"
      ],
      "metadata": {
        "id": "zS62nXsqBNFp",
        "outputId": "3f04b559-9c7a-4e7c-c58c-1b9de6ae56b8",
        "colab": {
          "base_uri": "https://localhost:8080/"
        }
      },
      "execution_count": 274,
      "outputs": [
        {
          "output_type": "execute_result",
          "data": {
            "text/plain": [
              " 0    2448\n",
              "-1     812\n",
              "Name: sub_dif, dtype: int64"
            ]
          },
          "metadata": {},
          "execution_count": 274
        }
      ]
    },
    {
      "cell_type": "code",
      "source": [],
      "metadata": {
        "id": "kMj45YMQBNCR"
      },
      "execution_count": 274,
      "outputs": []
    },
    {
      "cell_type": "markdown",
      "source": [
        "### Tratar campo ko_dif:"
      ],
      "metadata": {
        "id": "PoGCQHfFA4E7"
      }
    },
    {
      "cell_type": "code",
      "source": [
        "ufc_df_o.ko_dif.value_counts().head(2)"
      ],
      "metadata": {
        "id": "SNSJdzKqA8xm",
        "outputId": "e9246f8b-458e-4ff4-f83b-8ae7d86358a1",
        "colab": {
          "base_uri": "https://localhost:8080/"
        }
      },
      "execution_count": 275,
      "outputs": [
        {
          "output_type": "execute_result",
          "data": {
            "text/plain": [
              " 0    2037\n",
              "-1     903\n",
              "Name: ko_dif, dtype: int64"
            ]
          },
          "metadata": {},
          "execution_count": 275
        }
      ]
    },
    {
      "cell_type": "code",
      "source": [],
      "metadata": {
        "id": "8q8mHkqGA8ou"
      },
      "execution_count": 275,
      "outputs": []
    },
    {
      "cell_type": "markdown",
      "source": [
        "### Tratar campo title_bout"
      ],
      "metadata": {
        "id": "NnWV2ljOAkEp"
      }
    },
    {
      "cell_type": "code",
      "source": [
        "ufc_df_o.total_title_bout_dif.head(2)"
      ],
      "metadata": {
        "id": "55ctL7DpjhvY",
        "outputId": "f10ed301-80b5-4d83-f1c2-0da0790ff587",
        "colab": {
          "base_uri": "https://localhost:8080/"
        }
      },
      "execution_count": 276,
      "outputs": [
        {
          "output_type": "execute_result",
          "data": {
            "text/plain": [
              "0   -1\n",
              "1    0\n",
              "Name: total_title_bout_dif, dtype: int64"
            ]
          },
          "metadata": {},
          "execution_count": 276
        }
      ]
    },
    {
      "cell_type": "markdown",
      "source": [
        "### Tratar campo age_dif:"
      ],
      "metadata": {
        "id": "O-zQA_Qfi5V_"
      }
    },
    {
      "cell_type": "code",
      "source": [
        "ufc_df_o.age_dif.value_counts().head(2)"
      ],
      "metadata": {
        "id": "jNl2Ax1RWFCh",
        "outputId": "b2824f4c-0241-43c3-8e7d-3b589e476b06",
        "colab": {
          "base_uri": "https://localhost:8080/"
        }
      },
      "execution_count": 277,
      "outputs": [
        {
          "output_type": "execute_result",
          "data": {
            "text/plain": [
              "-1    384\n",
              " 0    361\n",
              "Name: age_dif, dtype: int64"
            ]
          },
          "metadata": {},
          "execution_count": 277
        }
      ]
    },
    {
      "cell_type": "code",
      "source": [
        "ufc_df_o[['R_age','B_age','age_dif']].head(10)"
      ],
      "metadata": {
        "id": "Pd0b8xwRjHnr",
        "outputId": "66400bb3-d3b9-4ab0-e419-90bb751e5e11",
        "colab": {
          "base_uri": "https://localhost:8080/",
          "height": 0
        }
      },
      "execution_count": 278,
      "outputs": [
        {
          "output_type": "execute_result",
          "data": {
            "text/plain": [
              "   R_age  B_age  age_dif\n",
              "0     37     29       -8\n",
              "1     33     32       -1\n",
              "2     34     32       -2\n",
              "3     29     32        3\n",
              "4     28     33        5\n",
              "5     36     23      -13\n",
              "6     38     26      -12\n",
              "7     28     27       -1\n",
              "8     36     29       -7\n",
              "9     33     30       -3"
            ],
            "text/html": [
              "\n",
              "  <div id=\"df-d432c0a1-7ca0-4344-9790-8c5d21dee245\">\n",
              "    <div class=\"colab-df-container\">\n",
              "      <div>\n",
              "<style scoped>\n",
              "    .dataframe tbody tr th:only-of-type {\n",
              "        vertical-align: middle;\n",
              "    }\n",
              "\n",
              "    .dataframe tbody tr th {\n",
              "        vertical-align: top;\n",
              "    }\n",
              "\n",
              "    .dataframe thead th {\n",
              "        text-align: right;\n",
              "    }\n",
              "</style>\n",
              "<table border=\"1\" class=\"dataframe\">\n",
              "  <thead>\n",
              "    <tr style=\"text-align: right;\">\n",
              "      <th></th>\n",
              "      <th>R_age</th>\n",
              "      <th>B_age</th>\n",
              "      <th>age_dif</th>\n",
              "    </tr>\n",
              "  </thead>\n",
              "  <tbody>\n",
              "    <tr>\n",
              "      <th>0</th>\n",
              "      <td>37</td>\n",
              "      <td>29</td>\n",
              "      <td>-8</td>\n",
              "    </tr>\n",
              "    <tr>\n",
              "      <th>1</th>\n",
              "      <td>33</td>\n",
              "      <td>32</td>\n",
              "      <td>-1</td>\n",
              "    </tr>\n",
              "    <tr>\n",
              "      <th>2</th>\n",
              "      <td>34</td>\n",
              "      <td>32</td>\n",
              "      <td>-2</td>\n",
              "    </tr>\n",
              "    <tr>\n",
              "      <th>3</th>\n",
              "      <td>29</td>\n",
              "      <td>32</td>\n",
              "      <td>3</td>\n",
              "    </tr>\n",
              "    <tr>\n",
              "      <th>4</th>\n",
              "      <td>28</td>\n",
              "      <td>33</td>\n",
              "      <td>5</td>\n",
              "    </tr>\n",
              "    <tr>\n",
              "      <th>5</th>\n",
              "      <td>36</td>\n",
              "      <td>23</td>\n",
              "      <td>-13</td>\n",
              "    </tr>\n",
              "    <tr>\n",
              "      <th>6</th>\n",
              "      <td>38</td>\n",
              "      <td>26</td>\n",
              "      <td>-12</td>\n",
              "    </tr>\n",
              "    <tr>\n",
              "      <th>7</th>\n",
              "      <td>28</td>\n",
              "      <td>27</td>\n",
              "      <td>-1</td>\n",
              "    </tr>\n",
              "    <tr>\n",
              "      <th>8</th>\n",
              "      <td>36</td>\n",
              "      <td>29</td>\n",
              "      <td>-7</td>\n",
              "    </tr>\n",
              "    <tr>\n",
              "      <th>9</th>\n",
              "      <td>33</td>\n",
              "      <td>30</td>\n",
              "      <td>-3</td>\n",
              "    </tr>\n",
              "  </tbody>\n",
              "</table>\n",
              "</div>\n",
              "      <button class=\"colab-df-convert\" onclick=\"convertToInteractive('df-d432c0a1-7ca0-4344-9790-8c5d21dee245')\"\n",
              "              title=\"Convert this dataframe to an interactive table.\"\n",
              "              style=\"display:none;\">\n",
              "        \n",
              "  <svg xmlns=\"http://www.w3.org/2000/svg\" height=\"24px\"viewBox=\"0 0 24 24\"\n",
              "       width=\"24px\">\n",
              "    <path d=\"M0 0h24v24H0V0z\" fill=\"none\"/>\n",
              "    <path d=\"M18.56 5.44l.94 2.06.94-2.06 2.06-.94-2.06-.94-.94-2.06-.94 2.06-2.06.94zm-11 1L8.5 8.5l.94-2.06 2.06-.94-2.06-.94L8.5 2.5l-.94 2.06-2.06.94zm10 10l.94 2.06.94-2.06 2.06-.94-2.06-.94-.94-2.06-.94 2.06-2.06.94z\"/><path d=\"M17.41 7.96l-1.37-1.37c-.4-.4-.92-.59-1.43-.59-.52 0-1.04.2-1.43.59L10.3 9.45l-7.72 7.72c-.78.78-.78 2.05 0 2.83L4 21.41c.39.39.9.59 1.41.59.51 0 1.02-.2 1.41-.59l7.78-7.78 2.81-2.81c.8-.78.8-2.07 0-2.86zM5.41 20L4 18.59l7.72-7.72 1.47 1.35L5.41 20z\"/>\n",
              "  </svg>\n",
              "      </button>\n",
              "      \n",
              "  <style>\n",
              "    .colab-df-container {\n",
              "      display:flex;\n",
              "      flex-wrap:wrap;\n",
              "      gap: 12px;\n",
              "    }\n",
              "\n",
              "    .colab-df-convert {\n",
              "      background-color: #E8F0FE;\n",
              "      border: none;\n",
              "      border-radius: 50%;\n",
              "      cursor: pointer;\n",
              "      display: none;\n",
              "      fill: #1967D2;\n",
              "      height: 32px;\n",
              "      padding: 0 0 0 0;\n",
              "      width: 32px;\n",
              "    }\n",
              "\n",
              "    .colab-df-convert:hover {\n",
              "      background-color: #E2EBFA;\n",
              "      box-shadow: 0px 1px 2px rgba(60, 64, 67, 0.3), 0px 1px 3px 1px rgba(60, 64, 67, 0.15);\n",
              "      fill: #174EA6;\n",
              "    }\n",
              "\n",
              "    [theme=dark] .colab-df-convert {\n",
              "      background-color: #3B4455;\n",
              "      fill: #D2E3FC;\n",
              "    }\n",
              "\n",
              "    [theme=dark] .colab-df-convert:hover {\n",
              "      background-color: #434B5C;\n",
              "      box-shadow: 0px 1px 3px 1px rgba(0, 0, 0, 0.15);\n",
              "      filter: drop-shadow(0px 1px 2px rgba(0, 0, 0, 0.3));\n",
              "      fill: #FFFFFF;\n",
              "    }\n",
              "  </style>\n",
              "\n",
              "      <script>\n",
              "        const buttonEl =\n",
              "          document.querySelector('#df-d432c0a1-7ca0-4344-9790-8c5d21dee245 button.colab-df-convert');\n",
              "        buttonEl.style.display =\n",
              "          google.colab.kernel.accessAllowed ? 'block' : 'none';\n",
              "\n",
              "        async function convertToInteractive(key) {\n",
              "          const element = document.querySelector('#df-d432c0a1-7ca0-4344-9790-8c5d21dee245');\n",
              "          const dataTable =\n",
              "            await google.colab.kernel.invokeFunction('convertToInteractive',\n",
              "                                                     [key], {});\n",
              "          if (!dataTable) return;\n",
              "\n",
              "          const docLinkHtml = 'Like what you see? Visit the ' +\n",
              "            '<a target=\"_blank\" href=https://colab.research.google.com/notebooks/data_table.ipynb>data table notebook</a>'\n",
              "            + ' to learn more about interactive tables.';\n",
              "          element.innerHTML = '';\n",
              "          dataTable['output_type'] = 'display_data';\n",
              "          await google.colab.output.renderOutput(dataTable, element);\n",
              "          const docLink = document.createElement('div');\n",
              "          docLink.innerHTML = docLinkHtml;\n",
              "          element.appendChild(docLink);\n",
              "        }\n",
              "      </script>\n",
              "    </div>\n",
              "  </div>\n",
              "  "
            ]
          },
          "metadata": {},
          "execution_count": 278
        }
      ]
    },
    {
      "cell_type": "code",
      "source": [
        "ufc_df_o[['R_fighter','R_win_by_Decision_Majority',\n",
        "       'R_win_by_Decision_Split', 'R_win_by_Decision_Unanimous',\n",
        "       'R_win_by_KO/TKO', 'R_win_by_Submission',\n",
        "       'R_win_by_TKO_Doctor_Stoppage', 'R_wins']].head(10)"
      ],
      "metadata": {
        "id": "oWpsWrSyWFAP",
        "outputId": "8a3624b1-fce3-465e-f784-2f8268519157",
        "colab": {
          "base_uri": "https://localhost:8080/",
          "height": 0
        }
      },
      "execution_count": 279,
      "outputs": [
        {
          "output_type": "execute_result",
          "data": {
            "text/plain": [
              "                  R_fighter  R_win_by_Decision_Majority  \\\n",
              "0             Thiago Santos                           0   \n",
              "1             Alex Oliveira                           0   \n",
              "2            Misha Cirkunov                           0   \n",
              "3       Alexander Hernandez                           0   \n",
              "4               Joe Solecki                           0   \n",
              "5       Antonina Shevchenko                           0   \n",
              "6             Bethe Correia                           0   \n",
              "7             Devonte Smith                           0   \n",
              "8  Douglas Silva de Andrade                           0   \n",
              "9           Stephanie Egger                           0   \n",
              "\n",
              "   R_win_by_Decision_Split  R_win_by_Decision_Unanimous  R_win_by_KO/TKO  \\\n",
              "0                        0                            2               11   \n",
              "1                        1                            3                4   \n",
              "2                        0                            0                1   \n",
              "3                        0                            2                2   \n",
              "4                        0                            2                0   \n",
              "5                        0                            1                2   \n",
              "6                        2                            2                1   \n",
              "7                        0                            0                4   \n",
              "8                        0                            3                1   \n",
              "9                        0                            0                0   \n",
              "\n",
              "   R_win_by_Submission  R_win_by_TKO_Doctor_Stoppage  R_wins  \n",
              "0                    0                             0      13  \n",
              "1                    3                             0      11  \n",
              "2                    5                             0       6  \n",
              "3                    0                             0       4  \n",
              "4                    2                             0       4  \n",
              "5                    1                             0       4  \n",
              "6                    0                             0       5  \n",
              "7                    0                             0       4  \n",
              "8                    0                             0       4  \n",
              "9                    0                             0       0  "
            ],
            "text/html": [
              "\n",
              "  <div id=\"df-d4385de0-7977-4679-80a1-1eddbe4992e1\">\n",
              "    <div class=\"colab-df-container\">\n",
              "      <div>\n",
              "<style scoped>\n",
              "    .dataframe tbody tr th:only-of-type {\n",
              "        vertical-align: middle;\n",
              "    }\n",
              "\n",
              "    .dataframe tbody tr th {\n",
              "        vertical-align: top;\n",
              "    }\n",
              "\n",
              "    .dataframe thead th {\n",
              "        text-align: right;\n",
              "    }\n",
              "</style>\n",
              "<table border=\"1\" class=\"dataframe\">\n",
              "  <thead>\n",
              "    <tr style=\"text-align: right;\">\n",
              "      <th></th>\n",
              "      <th>R_fighter</th>\n",
              "      <th>R_win_by_Decision_Majority</th>\n",
              "      <th>R_win_by_Decision_Split</th>\n",
              "      <th>R_win_by_Decision_Unanimous</th>\n",
              "      <th>R_win_by_KO/TKO</th>\n",
              "      <th>R_win_by_Submission</th>\n",
              "      <th>R_win_by_TKO_Doctor_Stoppage</th>\n",
              "      <th>R_wins</th>\n",
              "    </tr>\n",
              "  </thead>\n",
              "  <tbody>\n",
              "    <tr>\n",
              "      <th>0</th>\n",
              "      <td>Thiago Santos</td>\n",
              "      <td>0</td>\n",
              "      <td>0</td>\n",
              "      <td>2</td>\n",
              "      <td>11</td>\n",
              "      <td>0</td>\n",
              "      <td>0</td>\n",
              "      <td>13</td>\n",
              "    </tr>\n",
              "    <tr>\n",
              "      <th>1</th>\n",
              "      <td>Alex Oliveira</td>\n",
              "      <td>0</td>\n",
              "      <td>1</td>\n",
              "      <td>3</td>\n",
              "      <td>4</td>\n",
              "      <td>3</td>\n",
              "      <td>0</td>\n",
              "      <td>11</td>\n",
              "    </tr>\n",
              "    <tr>\n",
              "      <th>2</th>\n",
              "      <td>Misha Cirkunov</td>\n",
              "      <td>0</td>\n",
              "      <td>0</td>\n",
              "      <td>0</td>\n",
              "      <td>1</td>\n",
              "      <td>5</td>\n",
              "      <td>0</td>\n",
              "      <td>6</td>\n",
              "    </tr>\n",
              "    <tr>\n",
              "      <th>3</th>\n",
              "      <td>Alexander Hernandez</td>\n",
              "      <td>0</td>\n",
              "      <td>0</td>\n",
              "      <td>2</td>\n",
              "      <td>2</td>\n",
              "      <td>0</td>\n",
              "      <td>0</td>\n",
              "      <td>4</td>\n",
              "    </tr>\n",
              "    <tr>\n",
              "      <th>4</th>\n",
              "      <td>Joe Solecki</td>\n",
              "      <td>0</td>\n",
              "      <td>0</td>\n",
              "      <td>2</td>\n",
              "      <td>0</td>\n",
              "      <td>2</td>\n",
              "      <td>0</td>\n",
              "      <td>4</td>\n",
              "    </tr>\n",
              "    <tr>\n",
              "      <th>5</th>\n",
              "      <td>Antonina Shevchenko</td>\n",
              "      <td>0</td>\n",
              "      <td>0</td>\n",
              "      <td>1</td>\n",
              "      <td>2</td>\n",
              "      <td>1</td>\n",
              "      <td>0</td>\n",
              "      <td>4</td>\n",
              "    </tr>\n",
              "    <tr>\n",
              "      <th>6</th>\n",
              "      <td>Bethe Correia</td>\n",
              "      <td>0</td>\n",
              "      <td>2</td>\n",
              "      <td>2</td>\n",
              "      <td>1</td>\n",
              "      <td>0</td>\n",
              "      <td>0</td>\n",
              "      <td>5</td>\n",
              "    </tr>\n",
              "    <tr>\n",
              "      <th>7</th>\n",
              "      <td>Devonte Smith</td>\n",
              "      <td>0</td>\n",
              "      <td>0</td>\n",
              "      <td>0</td>\n",
              "      <td>4</td>\n",
              "      <td>0</td>\n",
              "      <td>0</td>\n",
              "      <td>4</td>\n",
              "    </tr>\n",
              "    <tr>\n",
              "      <th>8</th>\n",
              "      <td>Douglas Silva de Andrade</td>\n",
              "      <td>0</td>\n",
              "      <td>0</td>\n",
              "      <td>3</td>\n",
              "      <td>1</td>\n",
              "      <td>0</td>\n",
              "      <td>0</td>\n",
              "      <td>4</td>\n",
              "    </tr>\n",
              "    <tr>\n",
              "      <th>9</th>\n",
              "      <td>Stephanie Egger</td>\n",
              "      <td>0</td>\n",
              "      <td>0</td>\n",
              "      <td>0</td>\n",
              "      <td>0</td>\n",
              "      <td>0</td>\n",
              "      <td>0</td>\n",
              "      <td>0</td>\n",
              "    </tr>\n",
              "  </tbody>\n",
              "</table>\n",
              "</div>\n",
              "      <button class=\"colab-df-convert\" onclick=\"convertToInteractive('df-d4385de0-7977-4679-80a1-1eddbe4992e1')\"\n",
              "              title=\"Convert this dataframe to an interactive table.\"\n",
              "              style=\"display:none;\">\n",
              "        \n",
              "  <svg xmlns=\"http://www.w3.org/2000/svg\" height=\"24px\"viewBox=\"0 0 24 24\"\n",
              "       width=\"24px\">\n",
              "    <path d=\"M0 0h24v24H0V0z\" fill=\"none\"/>\n",
              "    <path d=\"M18.56 5.44l.94 2.06.94-2.06 2.06-.94-2.06-.94-.94-2.06-.94 2.06-2.06.94zm-11 1L8.5 8.5l.94-2.06 2.06-.94-2.06-.94L8.5 2.5l-.94 2.06-2.06.94zm10 10l.94 2.06.94-2.06 2.06-.94-2.06-.94-.94-2.06-.94 2.06-2.06.94z\"/><path d=\"M17.41 7.96l-1.37-1.37c-.4-.4-.92-.59-1.43-.59-.52 0-1.04.2-1.43.59L10.3 9.45l-7.72 7.72c-.78.78-.78 2.05 0 2.83L4 21.41c.39.39.9.59 1.41.59.51 0 1.02-.2 1.41-.59l7.78-7.78 2.81-2.81c.8-.78.8-2.07 0-2.86zM5.41 20L4 18.59l7.72-7.72 1.47 1.35L5.41 20z\"/>\n",
              "  </svg>\n",
              "      </button>\n",
              "      \n",
              "  <style>\n",
              "    .colab-df-container {\n",
              "      display:flex;\n",
              "      flex-wrap:wrap;\n",
              "      gap: 12px;\n",
              "    }\n",
              "\n",
              "    .colab-df-convert {\n",
              "      background-color: #E8F0FE;\n",
              "      border: none;\n",
              "      border-radius: 50%;\n",
              "      cursor: pointer;\n",
              "      display: none;\n",
              "      fill: #1967D2;\n",
              "      height: 32px;\n",
              "      padding: 0 0 0 0;\n",
              "      width: 32px;\n",
              "    }\n",
              "\n",
              "    .colab-df-convert:hover {\n",
              "      background-color: #E2EBFA;\n",
              "      box-shadow: 0px 1px 2px rgba(60, 64, 67, 0.3), 0px 1px 3px 1px rgba(60, 64, 67, 0.15);\n",
              "      fill: #174EA6;\n",
              "    }\n",
              "\n",
              "    [theme=dark] .colab-df-convert {\n",
              "      background-color: #3B4455;\n",
              "      fill: #D2E3FC;\n",
              "    }\n",
              "\n",
              "    [theme=dark] .colab-df-convert:hover {\n",
              "      background-color: #434B5C;\n",
              "      box-shadow: 0px 1px 3px 1px rgba(0, 0, 0, 0.15);\n",
              "      filter: drop-shadow(0px 1px 2px rgba(0, 0, 0, 0.3));\n",
              "      fill: #FFFFFF;\n",
              "    }\n",
              "  </style>\n",
              "\n",
              "      <script>\n",
              "        const buttonEl =\n",
              "          document.querySelector('#df-d4385de0-7977-4679-80a1-1eddbe4992e1 button.colab-df-convert');\n",
              "        buttonEl.style.display =\n",
              "          google.colab.kernel.accessAllowed ? 'block' : 'none';\n",
              "\n",
              "        async function convertToInteractive(key) {\n",
              "          const element = document.querySelector('#df-d4385de0-7977-4679-80a1-1eddbe4992e1');\n",
              "          const dataTable =\n",
              "            await google.colab.kernel.invokeFunction('convertToInteractive',\n",
              "                                                     [key], {});\n",
              "          if (!dataTable) return;\n",
              "\n",
              "          const docLinkHtml = 'Like what you see? Visit the ' +\n",
              "            '<a target=\"_blank\" href=https://colab.research.google.com/notebooks/data_table.ipynb>data table notebook</a>'\n",
              "            + ' to learn more about interactive tables.';\n",
              "          element.innerHTML = '';\n",
              "          dataTable['output_type'] = 'display_data';\n",
              "          await google.colab.output.renderOutput(dataTable, element);\n",
              "          const docLink = document.createElement('div');\n",
              "          docLink.innerHTML = docLinkHtml;\n",
              "          element.appendChild(docLink);\n",
              "        }\n",
              "      </script>\n",
              "    </div>\n",
              "  </div>\n",
              "  "
            ]
          },
          "metadata": {},
          "execution_count": 279
        }
      ]
    },
    {
      "cell_type": "code",
      "source": [],
      "metadata": {
        "id": "NXeeq6ttWE-J"
      },
      "execution_count": 279,
      "outputs": []
    },
    {
      "cell_type": "markdown",
      "source": [
        "### Criar função para tratamento:"
      ],
      "metadata": {
        "id": "tlW_gphw63qh"
      }
    },
    {
      "cell_type": "code",
      "source": [
        "def aplica_abs(dataframe, arr_columns):\n",
        "  arr_newColumn = []\n",
        "  for column in arr_columns:\n",
        "    arr_newColumn.append(column+'_t')\n",
        "    dataframe[column+'_t'] = abs(dataframe[column])\n",
        "  print(arr_newColumn)\n",
        "  return dataframe"
      ],
      "metadata": {
        "id": "34Y0db1D61mj"
      },
      "execution_count": 280,
      "outputs": []
    },
    {
      "cell_type": "code",
      "source": [
        "arr_columns = ['age_dif','total_title_bout_dif','ko_dif','sub_dif','longest_win_streak_dif','win_dif','loss_dif','total_round_dif']\n",
        "ufc_df_o = aplica_abs(ufc_df_o, arr_columns)"
      ],
      "metadata": {
        "id": "nDBX6lb38O6D",
        "outputId": "ae7fbe68-d80d-43da-9636-072dabf878e0",
        "colab": {
          "base_uri": "https://localhost:8080/"
        }
      },
      "execution_count": 281,
      "outputs": [
        {
          "output_type": "stream",
          "name": "stdout",
          "text": [
            "['age_dif_t', 'total_title_bout_dif_t', 'ko_dif_t', 'sub_dif_t', 'longest_win_streak_dif_t', 'win_dif_t', 'loss_dif_t', 'total_round_dif_t']\n"
          ]
        }
      ]
    },
    {
      "cell_type": "code",
      "source": [
        "ufc_df_o[['age_dif_t', 'total_title_bout_dif_t', 'ko_dif_t', 'sub_dif_t', 'longest_win_streak_dif_t', 'win_dif_t', 'loss_dif_t', 'total_round_dif_t']].describe()"
      ],
      "metadata": {
        "id": "v0cZNxUI8934",
        "outputId": "edf0f55d-c822-494b-cbbb-aec49c2d1fdd",
        "colab": {
          "base_uri": "https://localhost:8080/",
          "height": 0
        }
      },
      "execution_count": 282,
      "outputs": [
        {
          "output_type": "execute_result",
          "data": {
            "text/plain": [
              "         age_dif_t  total_title_bout_dif_t     ko_dif_t    sub_dif_t  \\\n",
              "count  4896.000000             4896.000000  4896.000000  4896.000000   \n",
              "mean      4.130515                0.610294     1.266136     0.991217   \n",
              "std       3.133124                1.565358     1.731533     1.479628   \n",
              "min       0.000000                0.000000     0.000000     0.000000   \n",
              "25%       2.000000                0.000000     0.000000     0.000000   \n",
              "50%       3.000000                0.000000     1.000000     0.500000   \n",
              "75%       6.000000                1.000000     2.000000     1.000000   \n",
              "max      17.000000               16.000000    21.000000    13.000000   \n",
              "\n",
              "       longest_win_streak_dif_t    win_dif_t   loss_dif_t  total_round_dif_t  \n",
              "count               4896.000000  4896.000000  4896.000000        4896.000000  \n",
              "mean                   1.481209     2.815564     1.968137          11.185662  \n",
              "std                    1.584544     3.211269     2.125627          13.807078  \n",
              "min                    0.000000     0.000000     0.000000           0.000000  \n",
              "25%                    0.000000     1.000000     1.000000           3.000000  \n",
              "50%                    1.000000     2.000000     1.000000           7.000000  \n",
              "75%                    2.000000     4.000000     3.000000          15.000000  \n",
              "max                   14.000000    28.000000    18.000000         448.000000  "
            ],
            "text/html": [
              "\n",
              "  <div id=\"df-823045dc-c971-41f3-a28e-be5158a81f75\">\n",
              "    <div class=\"colab-df-container\">\n",
              "      <div>\n",
              "<style scoped>\n",
              "    .dataframe tbody tr th:only-of-type {\n",
              "        vertical-align: middle;\n",
              "    }\n",
              "\n",
              "    .dataframe tbody tr th {\n",
              "        vertical-align: top;\n",
              "    }\n",
              "\n",
              "    .dataframe thead th {\n",
              "        text-align: right;\n",
              "    }\n",
              "</style>\n",
              "<table border=\"1\" class=\"dataframe\">\n",
              "  <thead>\n",
              "    <tr style=\"text-align: right;\">\n",
              "      <th></th>\n",
              "      <th>age_dif_t</th>\n",
              "      <th>total_title_bout_dif_t</th>\n",
              "      <th>ko_dif_t</th>\n",
              "      <th>sub_dif_t</th>\n",
              "      <th>longest_win_streak_dif_t</th>\n",
              "      <th>win_dif_t</th>\n",
              "      <th>loss_dif_t</th>\n",
              "      <th>total_round_dif_t</th>\n",
              "    </tr>\n",
              "  </thead>\n",
              "  <tbody>\n",
              "    <tr>\n",
              "      <th>count</th>\n",
              "      <td>4896.000000</td>\n",
              "      <td>4896.000000</td>\n",
              "      <td>4896.000000</td>\n",
              "      <td>4896.000000</td>\n",
              "      <td>4896.000000</td>\n",
              "      <td>4896.000000</td>\n",
              "      <td>4896.000000</td>\n",
              "      <td>4896.000000</td>\n",
              "    </tr>\n",
              "    <tr>\n",
              "      <th>mean</th>\n",
              "      <td>4.130515</td>\n",
              "      <td>0.610294</td>\n",
              "      <td>1.266136</td>\n",
              "      <td>0.991217</td>\n",
              "      <td>1.481209</td>\n",
              "      <td>2.815564</td>\n",
              "      <td>1.968137</td>\n",
              "      <td>11.185662</td>\n",
              "    </tr>\n",
              "    <tr>\n",
              "      <th>std</th>\n",
              "      <td>3.133124</td>\n",
              "      <td>1.565358</td>\n",
              "      <td>1.731533</td>\n",
              "      <td>1.479628</td>\n",
              "      <td>1.584544</td>\n",
              "      <td>3.211269</td>\n",
              "      <td>2.125627</td>\n",
              "      <td>13.807078</td>\n",
              "    </tr>\n",
              "    <tr>\n",
              "      <th>min</th>\n",
              "      <td>0.000000</td>\n",
              "      <td>0.000000</td>\n",
              "      <td>0.000000</td>\n",
              "      <td>0.000000</td>\n",
              "      <td>0.000000</td>\n",
              "      <td>0.000000</td>\n",
              "      <td>0.000000</td>\n",
              "      <td>0.000000</td>\n",
              "    </tr>\n",
              "    <tr>\n",
              "      <th>25%</th>\n",
              "      <td>2.000000</td>\n",
              "      <td>0.000000</td>\n",
              "      <td>0.000000</td>\n",
              "      <td>0.000000</td>\n",
              "      <td>0.000000</td>\n",
              "      <td>1.000000</td>\n",
              "      <td>1.000000</td>\n",
              "      <td>3.000000</td>\n",
              "    </tr>\n",
              "    <tr>\n",
              "      <th>50%</th>\n",
              "      <td>3.000000</td>\n",
              "      <td>0.000000</td>\n",
              "      <td>1.000000</td>\n",
              "      <td>0.500000</td>\n",
              "      <td>1.000000</td>\n",
              "      <td>2.000000</td>\n",
              "      <td>1.000000</td>\n",
              "      <td>7.000000</td>\n",
              "    </tr>\n",
              "    <tr>\n",
              "      <th>75%</th>\n",
              "      <td>6.000000</td>\n",
              "      <td>1.000000</td>\n",
              "      <td>2.000000</td>\n",
              "      <td>1.000000</td>\n",
              "      <td>2.000000</td>\n",
              "      <td>4.000000</td>\n",
              "      <td>3.000000</td>\n",
              "      <td>15.000000</td>\n",
              "    </tr>\n",
              "    <tr>\n",
              "      <th>max</th>\n",
              "      <td>17.000000</td>\n",
              "      <td>16.000000</td>\n",
              "      <td>21.000000</td>\n",
              "      <td>13.000000</td>\n",
              "      <td>14.000000</td>\n",
              "      <td>28.000000</td>\n",
              "      <td>18.000000</td>\n",
              "      <td>448.000000</td>\n",
              "    </tr>\n",
              "  </tbody>\n",
              "</table>\n",
              "</div>\n",
              "      <button class=\"colab-df-convert\" onclick=\"convertToInteractive('df-823045dc-c971-41f3-a28e-be5158a81f75')\"\n",
              "              title=\"Convert this dataframe to an interactive table.\"\n",
              "              style=\"display:none;\">\n",
              "        \n",
              "  <svg xmlns=\"http://www.w3.org/2000/svg\" height=\"24px\"viewBox=\"0 0 24 24\"\n",
              "       width=\"24px\">\n",
              "    <path d=\"M0 0h24v24H0V0z\" fill=\"none\"/>\n",
              "    <path d=\"M18.56 5.44l.94 2.06.94-2.06 2.06-.94-2.06-.94-.94-2.06-.94 2.06-2.06.94zm-11 1L8.5 8.5l.94-2.06 2.06-.94-2.06-.94L8.5 2.5l-.94 2.06-2.06.94zm10 10l.94 2.06.94-2.06 2.06-.94-2.06-.94-.94-2.06-.94 2.06-2.06.94z\"/><path d=\"M17.41 7.96l-1.37-1.37c-.4-.4-.92-.59-1.43-.59-.52 0-1.04.2-1.43.59L10.3 9.45l-7.72 7.72c-.78.78-.78 2.05 0 2.83L4 21.41c.39.39.9.59 1.41.59.51 0 1.02-.2 1.41-.59l7.78-7.78 2.81-2.81c.8-.78.8-2.07 0-2.86zM5.41 20L4 18.59l7.72-7.72 1.47 1.35L5.41 20z\"/>\n",
              "  </svg>\n",
              "      </button>\n",
              "      \n",
              "  <style>\n",
              "    .colab-df-container {\n",
              "      display:flex;\n",
              "      flex-wrap:wrap;\n",
              "      gap: 12px;\n",
              "    }\n",
              "\n",
              "    .colab-df-convert {\n",
              "      background-color: #E8F0FE;\n",
              "      border: none;\n",
              "      border-radius: 50%;\n",
              "      cursor: pointer;\n",
              "      display: none;\n",
              "      fill: #1967D2;\n",
              "      height: 32px;\n",
              "      padding: 0 0 0 0;\n",
              "      width: 32px;\n",
              "    }\n",
              "\n",
              "    .colab-df-convert:hover {\n",
              "      background-color: #E2EBFA;\n",
              "      box-shadow: 0px 1px 2px rgba(60, 64, 67, 0.3), 0px 1px 3px 1px rgba(60, 64, 67, 0.15);\n",
              "      fill: #174EA6;\n",
              "    }\n",
              "\n",
              "    [theme=dark] .colab-df-convert {\n",
              "      background-color: #3B4455;\n",
              "      fill: #D2E3FC;\n",
              "    }\n",
              "\n",
              "    [theme=dark] .colab-df-convert:hover {\n",
              "      background-color: #434B5C;\n",
              "      box-shadow: 0px 1px 3px 1px rgba(0, 0, 0, 0.15);\n",
              "      filter: drop-shadow(0px 1px 2px rgba(0, 0, 0, 0.3));\n",
              "      fill: #FFFFFF;\n",
              "    }\n",
              "  </style>\n",
              "\n",
              "      <script>\n",
              "        const buttonEl =\n",
              "          document.querySelector('#df-823045dc-c971-41f3-a28e-be5158a81f75 button.colab-df-convert');\n",
              "        buttonEl.style.display =\n",
              "          google.colab.kernel.accessAllowed ? 'block' : 'none';\n",
              "\n",
              "        async function convertToInteractive(key) {\n",
              "          const element = document.querySelector('#df-823045dc-c971-41f3-a28e-be5158a81f75');\n",
              "          const dataTable =\n",
              "            await google.colab.kernel.invokeFunction('convertToInteractive',\n",
              "                                                     [key], {});\n",
              "          if (!dataTable) return;\n",
              "\n",
              "          const docLinkHtml = 'Like what you see? Visit the ' +\n",
              "            '<a target=\"_blank\" href=https://colab.research.google.com/notebooks/data_table.ipynb>data table notebook</a>'\n",
              "            + ' to learn more about interactive tables.';\n",
              "          element.innerHTML = '';\n",
              "          dataTable['output_type'] = 'display_data';\n",
              "          await google.colab.output.renderOutput(dataTable, element);\n",
              "          const docLink = document.createElement('div');\n",
              "          docLink.innerHTML = docLinkHtml;\n",
              "          element.appendChild(docLink);\n",
              "        }\n",
              "      </script>\n",
              "    </div>\n",
              "  </div>\n",
              "  "
            ]
          },
          "metadata": {},
          "execution_count": 282
        }
      ]
    },
    {
      "cell_type": "code",
      "source": [],
      "metadata": {
        "id": "SaWjjgIr-RJi"
      },
      "execution_count": 282,
      "outputs": []
    },
    {
      "cell_type": "markdown",
      "source": [
        "## Analisando campos do tipo float:"
      ],
      "metadata": {
        "id": "roaaels0-R5u"
      }
    },
    {
      "cell_type": "code",
      "source": [
        "ufc_df_o.select_dtypes(include='float64').describe().columns"
      ],
      "metadata": {
        "id": "HR4ugOm7-UeJ",
        "outputId": "7037700c-d1c5-4e41-8c8d-3e74c2da239b",
        "colab": {
          "base_uri": "https://localhost:8080/"
        }
      },
      "execution_count": 283,
      "outputs": [
        {
          "output_type": "execute_result",
          "data": {
            "text/plain": [
              "Index(['R_odds', 'R_ev', 'B_ev', 'B_avg_SIG_STR_landed', 'B_avg_SIG_STR_pct',\n",
              "       'B_avg_SUB_ATT', 'B_avg_TD_landed', 'B_avg_TD_pct', 'B_Height_cms',\n",
              "       'B_Reach_cms', 'R_avg_SIG_STR_landed', 'R_avg_SIG_STR_pct',\n",
              "       'R_avg_SUB_ATT', 'R_avg_TD_landed', 'R_avg_TD_pct', 'R_Height_cms',\n",
              "       'R_Reach_cms', 'height_dif', 'reach_dif', 'sig_str_dif',\n",
              "       'avg_sub_att_dif', 'avg_td_dif', 'B_match_weightclass_rank',\n",
              "       'R_match_weightclass_rank', 'R_Women's Flyweight_rank',\n",
              "       'R_Women's Featherweight_rank', 'R_Women's Strawweight_rank',\n",
              "       'R_Women's Bantamweight_rank', 'R_Heavyweight_rank',\n",
              "       'R_Light Heavyweight_rank', 'R_Middleweight_rank',\n",
              "       'R_Welterweight_rank', 'R_Lightweight_rank', 'R_Featherweight_rank',\n",
              "       'R_Bantamweight_rank', 'R_Flyweight_rank', 'R_Pound-for-Pound_rank',\n",
              "       'B_Women's Flyweight_rank', 'B_Women's Featherweight_rank',\n",
              "       'B_Women's Strawweight_rank', 'B_Women's Bantamweight_rank',\n",
              "       'B_Heavyweight_rank', 'B_Light Heavyweight_rank', 'B_Middleweight_rank',\n",
              "       'B_Welterweight_rank', 'B_Lightweight_rank', 'B_Featherweight_rank',\n",
              "       'B_Bantamweight_rank', 'B_Flyweight_rank', 'B_Pound-for-Pound_rank',\n",
              "       'finish_round', 'total_fight_time_secs', 'r_dec_odds', 'b_dec_odds',\n",
              "       'r_sub_odds', 'b_sub_odds', 'r_ko_odds', 'b_ko_odds',\n",
              "       'finish_round_time_t'],\n",
              "      dtype='object')"
            ]
          },
          "metadata": {},
          "execution_count": 283
        }
      ]
    },
    {
      "cell_type": "code",
      "source": [
        "ufc_df_o.r_dec_odds.describe()"
      ],
      "metadata": {
        "id": "tD2aOGZqAQYj",
        "outputId": "86a4b72d-a4af-48e7-97af-6a3f500062ba",
        "colab": {
          "base_uri": "https://localhost:8080/"
        }
      },
      "execution_count": 284,
      "outputs": [
        {
          "output_type": "execute_result",
          "data": {
            "text/plain": [
              "count    4093.000000\n",
              "mean      294.064745\n",
              "std       230.583958\n",
              "min      -440.000000\n",
              "25%       167.000000\n",
              "50%       250.000000\n",
              "75%       400.000000\n",
              "max      2200.000000\n",
              "Name: r_dec_odds, dtype: float64"
            ]
          },
          "metadata": {},
          "execution_count": 284
        }
      ]
    },
    {
      "cell_type": "code",
      "source": [
        "ufc_df_o[['height_dif', 'reach_dif']].describe()"
      ],
      "metadata": {
        "id": "uiMP-RyJ-UQq",
        "outputId": "39872f36-5d5a-4d35-8f95-66db9cda6d56",
        "colab": {
          "base_uri": "https://localhost:8080/",
          "height": 0
        }
      },
      "execution_count": 285,
      "outputs": [
        {
          "output_type": "execute_result",
          "data": {
            "text/plain": [
              "        height_dif    reach_dif\n",
              "count  4896.000000  4896.000000\n",
              "mean      0.018591    -0.251172\n",
              "std       6.963455     9.433336\n",
              "min    -187.960000  -187.960000\n",
              "25%      -5.080000    -5.080000\n",
              "50%       0.000000     0.000000\n",
              "75%       5.080000     5.080000\n",
              "max      30.480000    30.480000"
            ],
            "text/html": [
              "\n",
              "  <div id=\"df-985f61e1-b731-460a-bea1-0861874e47e4\">\n",
              "    <div class=\"colab-df-container\">\n",
              "      <div>\n",
              "<style scoped>\n",
              "    .dataframe tbody tr th:only-of-type {\n",
              "        vertical-align: middle;\n",
              "    }\n",
              "\n",
              "    .dataframe tbody tr th {\n",
              "        vertical-align: top;\n",
              "    }\n",
              "\n",
              "    .dataframe thead th {\n",
              "        text-align: right;\n",
              "    }\n",
              "</style>\n",
              "<table border=\"1\" class=\"dataframe\">\n",
              "  <thead>\n",
              "    <tr style=\"text-align: right;\">\n",
              "      <th></th>\n",
              "      <th>height_dif</th>\n",
              "      <th>reach_dif</th>\n",
              "    </tr>\n",
              "  </thead>\n",
              "  <tbody>\n",
              "    <tr>\n",
              "      <th>count</th>\n",
              "      <td>4896.000000</td>\n",
              "      <td>4896.000000</td>\n",
              "    </tr>\n",
              "    <tr>\n",
              "      <th>mean</th>\n",
              "      <td>0.018591</td>\n",
              "      <td>-0.251172</td>\n",
              "    </tr>\n",
              "    <tr>\n",
              "      <th>std</th>\n",
              "      <td>6.963455</td>\n",
              "      <td>9.433336</td>\n",
              "    </tr>\n",
              "    <tr>\n",
              "      <th>min</th>\n",
              "      <td>-187.960000</td>\n",
              "      <td>-187.960000</td>\n",
              "    </tr>\n",
              "    <tr>\n",
              "      <th>25%</th>\n",
              "      <td>-5.080000</td>\n",
              "      <td>-5.080000</td>\n",
              "    </tr>\n",
              "    <tr>\n",
              "      <th>50%</th>\n",
              "      <td>0.000000</td>\n",
              "      <td>0.000000</td>\n",
              "    </tr>\n",
              "    <tr>\n",
              "      <th>75%</th>\n",
              "      <td>5.080000</td>\n",
              "      <td>5.080000</td>\n",
              "    </tr>\n",
              "    <tr>\n",
              "      <th>max</th>\n",
              "      <td>30.480000</td>\n",
              "      <td>30.480000</td>\n",
              "    </tr>\n",
              "  </tbody>\n",
              "</table>\n",
              "</div>\n",
              "      <button class=\"colab-df-convert\" onclick=\"convertToInteractive('df-985f61e1-b731-460a-bea1-0861874e47e4')\"\n",
              "              title=\"Convert this dataframe to an interactive table.\"\n",
              "              style=\"display:none;\">\n",
              "        \n",
              "  <svg xmlns=\"http://www.w3.org/2000/svg\" height=\"24px\"viewBox=\"0 0 24 24\"\n",
              "       width=\"24px\">\n",
              "    <path d=\"M0 0h24v24H0V0z\" fill=\"none\"/>\n",
              "    <path d=\"M18.56 5.44l.94 2.06.94-2.06 2.06-.94-2.06-.94-.94-2.06-.94 2.06-2.06.94zm-11 1L8.5 8.5l.94-2.06 2.06-.94-2.06-.94L8.5 2.5l-.94 2.06-2.06.94zm10 10l.94 2.06.94-2.06 2.06-.94-2.06-.94-.94-2.06-.94 2.06-2.06.94z\"/><path d=\"M17.41 7.96l-1.37-1.37c-.4-.4-.92-.59-1.43-.59-.52 0-1.04.2-1.43.59L10.3 9.45l-7.72 7.72c-.78.78-.78 2.05 0 2.83L4 21.41c.39.39.9.59 1.41.59.51 0 1.02-.2 1.41-.59l7.78-7.78 2.81-2.81c.8-.78.8-2.07 0-2.86zM5.41 20L4 18.59l7.72-7.72 1.47 1.35L5.41 20z\"/>\n",
              "  </svg>\n",
              "      </button>\n",
              "      \n",
              "  <style>\n",
              "    .colab-df-container {\n",
              "      display:flex;\n",
              "      flex-wrap:wrap;\n",
              "      gap: 12px;\n",
              "    }\n",
              "\n",
              "    .colab-df-convert {\n",
              "      background-color: #E8F0FE;\n",
              "      border: none;\n",
              "      border-radius: 50%;\n",
              "      cursor: pointer;\n",
              "      display: none;\n",
              "      fill: #1967D2;\n",
              "      height: 32px;\n",
              "      padding: 0 0 0 0;\n",
              "      width: 32px;\n",
              "    }\n",
              "\n",
              "    .colab-df-convert:hover {\n",
              "      background-color: #E2EBFA;\n",
              "      box-shadow: 0px 1px 2px rgba(60, 64, 67, 0.3), 0px 1px 3px 1px rgba(60, 64, 67, 0.15);\n",
              "      fill: #174EA6;\n",
              "    }\n",
              "\n",
              "    [theme=dark] .colab-df-convert {\n",
              "      background-color: #3B4455;\n",
              "      fill: #D2E3FC;\n",
              "    }\n",
              "\n",
              "    [theme=dark] .colab-df-convert:hover {\n",
              "      background-color: #434B5C;\n",
              "      box-shadow: 0px 1px 3px 1px rgba(0, 0, 0, 0.15);\n",
              "      filter: drop-shadow(0px 1px 2px rgba(0, 0, 0, 0.3));\n",
              "      fill: #FFFFFF;\n",
              "    }\n",
              "  </style>\n",
              "\n",
              "      <script>\n",
              "        const buttonEl =\n",
              "          document.querySelector('#df-985f61e1-b731-460a-bea1-0861874e47e4 button.colab-df-convert');\n",
              "        buttonEl.style.display =\n",
              "          google.colab.kernel.accessAllowed ? 'block' : 'none';\n",
              "\n",
              "        async function convertToInteractive(key) {\n",
              "          const element = document.querySelector('#df-985f61e1-b731-460a-bea1-0861874e47e4');\n",
              "          const dataTable =\n",
              "            await google.colab.kernel.invokeFunction('convertToInteractive',\n",
              "                                                     [key], {});\n",
              "          if (!dataTable) return;\n",
              "\n",
              "          const docLinkHtml = 'Like what you see? Visit the ' +\n",
              "            '<a target=\"_blank\" href=https://colab.research.google.com/notebooks/data_table.ipynb>data table notebook</a>'\n",
              "            + ' to learn more about interactive tables.';\n",
              "          element.innerHTML = '';\n",
              "          dataTable['output_type'] = 'display_data';\n",
              "          await google.colab.output.renderOutput(dataTable, element);\n",
              "          const docLink = document.createElement('div');\n",
              "          docLink.innerHTML = docLinkHtml;\n",
              "          element.appendChild(docLink);\n",
              "        }\n",
              "      </script>\n",
              "    </div>\n",
              "  </div>\n",
              "  "
            ]
          },
          "metadata": {},
          "execution_count": 285
        }
      ]
    },
    {
      "cell_type": "markdown",
      "source": [
        "### Tratar campos de diferença de altura e alcance:"
      ],
      "metadata": {
        "id": "UuxrowW4BGfQ"
      }
    },
    {
      "cell_type": "code",
      "source": [
        "columns = ['height_dif', 'reach_dif']\n",
        "ufc_df_o = aplica_abs(ufc_df_o,columns)"
      ],
      "metadata": {
        "id": "e0GysCsHBL8L",
        "outputId": "77f0dfc4-a2de-4ee8-eef5-b98f7d46e6c6",
        "colab": {
          "base_uri": "https://localhost:8080/"
        }
      },
      "execution_count": 286,
      "outputs": [
        {
          "output_type": "stream",
          "name": "stdout",
          "text": [
            "['height_dif_t', 'reach_dif_t']\n"
          ]
        }
      ]
    },
    {
      "cell_type": "markdown",
      "source": [
        "# Analisando campos do tipo bool:"
      ],
      "metadata": {
        "id": "efrDhHK3Bslh"
      }
    },
    {
      "cell_type": "code",
      "source": [
        "ufc_df_o.select_dtypes(include='bool').describe().columns"
      ],
      "metadata": {
        "id": "F7bDjw-6BxWJ",
        "outputId": "25a3a825-cd9f-42d9-dd7a-93c11416ae7a",
        "colab": {
          "base_uri": "https://localhost:8080/"
        }
      },
      "execution_count": 287,
      "outputs": [
        {
          "output_type": "execute_result",
          "data": {
            "text/plain": [
              "Index(['title_bout'], dtype='object')"
            ]
          },
          "metadata": {},
          "execution_count": 287
        }
      ]
    },
    {
      "cell_type": "code",
      "source": [
        "de_para_title_bout = {\n",
        "    True: 0,\n",
        "    False: 1\n",
        "}\n",
        "\n",
        "ufc_df_o['title_bout_t'] = ufc_df_o.title_bout.map(de_para_title_bout)\n",
        "ufc_df_o[['title_bout','title_bout_t']].value_counts()"
      ],
      "metadata": {
        "id": "0G0XePTiBxS9",
        "outputId": "035aa0dd-f81c-44a3-9fc4-04e3e2553ec4",
        "colab": {
          "base_uri": "https://localhost:8080/"
        }
      },
      "execution_count": 288,
      "outputs": [
        {
          "output_type": "execute_result",
          "data": {
            "text/plain": [
              "title_bout  title_bout_t\n",
              "False       1               4660\n",
              "True        0                236\n",
              "dtype: int64"
            ]
          },
          "metadata": {},
          "execution_count": 288
        }
      ]
    },
    {
      "cell_type": "markdown",
      "source": [
        "# Criando labels:"
      ],
      "metadata": {
        "id": "Q7gms7CFFPR5"
      }
    },
    {
      "cell_type": "code",
      "source": [
        "ufc_df_o.select_dtypes(include='O').describe().columns"
      ],
      "metadata": {
        "id": "Brr3bl8EGlaN",
        "outputId": "e1e9e4fc-4100-4430-8ec5-d5a32230e2a0",
        "colab": {
          "base_uri": "https://localhost:8080/"
        }
      },
      "execution_count": 294,
      "outputs": [
        {
          "output_type": "execute_result",
          "data": {
            "text/plain": [
              "Index(['R_fighter', 'B_fighter', 'date', 'location', 'country', 'Winner',\n",
              "       'weight_class', 'gender', 'B_Stance', 'R_Stance', 'better_rank',\n",
              "       'finish', 'finish_details', 'finish_round_time', 'country_t'],\n",
              "      dtype='object')"
            ]
          },
          "metadata": {},
          "execution_count": 294
        }
      ]
    },
    {
      "cell_type": "code",
      "source": [
        "cols = ['weight_class','country_t','B_Stance','R_Stance','better_rank','finish']\n",
        "\n",
        "print(f'Dimensão ANTES de gerar as features: {ufc_df_o.shape}')\n",
        "ufc_df_o = pd.get_dummies(ufc_df_o, columns=cols)\n",
        "print(f'Dimensão DEPOIS de gerar features: {ufc_df_o.shape}')"
      ],
      "metadata": {
        "id": "z3ZxG-UKHNkN",
        "outputId": "b7483dfd-a397-4fef-c451-ada19e0bd7f3",
        "colab": {
          "base_uri": "https://localhost:8080/"
        }
      },
      "execution_count": 301,
      "outputs": [
        {
          "output_type": "stream",
          "name": "stdout",
          "text": [
            "Dimensão ANTES de gerar as features: (4896, 134)\n",
            "Dimensão DEPOIS de gerar features: (4896, 185)\n"
          ]
        }
      ]
    },
    {
      "cell_type": "markdown",
      "source": [
        "# Limpeza no dataset:"
      ],
      "metadata": {
        "id": "Adfo9aolfgOF"
      }
    },
    {
      "cell_type": "code",
      "source": [
        "ufc_df_t = ufc_df_o.drop(\n",
        "    columns=['constant_1','finish_details','finish_round_time','empty_arena','date','location','R_fighter','B_fighter','B_odds','R_odds','R_ev','B_ev','gender','Winner','country','age_dif','total_title_bout_dif','ko_dif','sub_dif','longest_win_streak_dif','win_dif','loss_dif','total_round_dif','B_avg_SIG_STR_landed','B_avg_SIG_STR_pct','R_avg_SIG_STR_landed','R_avg_SIG_STR_pct','B_avg_SUB_ATT','R_avg_SUB_ATT','B_avg_TD_landed','B_avg_TD_pct','R_avg_TD_landed','R_avg_TD_pct','sig_str_dif','avg_sub_att_dif','avg_td_dif','r_dec_odds','b_dec_odds','r_sub_odds','b_sub_odds','r_ko_odds','b_ko_odds','height_dif','reach_dif','title_bout'],\n",
        "    axis=1\n",
        "    )"
      ],
      "metadata": {
        "id": "nwN8shustxNm"
      },
      "execution_count": 303,
      "outputs": []
    },
    {
      "cell_type": "code",
      "source": [
        "print(ufc_df_o.shape)\n",
        "print(ufc_df_t.shape)"
      ],
      "metadata": {
        "id": "UioXSbvLD8at",
        "outputId": "0a8f83cd-ed24-4470-e3fb-6e2ead84ef2b",
        "colab": {
          "base_uri": "https://localhost:8080/"
        }
      },
      "execution_count": 304,
      "outputs": [
        {
          "output_type": "stream",
          "name": "stdout",
          "text": [
            "(4896, 185)\n",
            "(4896, 140)\n"
          ]
        }
      ]
    },
    {
      "cell_type": "markdown",
      "source": [
        "# Criando lista com variáveis alvo:"
      ],
      "metadata": {
        "id": "uYyZfWyoIwv6"
      }
    },
    {
      "cell_type": "code",
      "source": [
        "columns_arr = []\n",
        "for i in ufc_df_t.columns:\n",
        "  if i[0] != 'R' and i[0] != 'B' and i[0] != 'r' and i[0] != 'b':\n",
        "    columns_arr.append(i)\n",
        "columns_arr    "
      ],
      "metadata": {
        "id": "9PDlZeuCIwKk",
        "outputId": "64919ff6-569c-4491-f03b-19f75d049856",
        "colab": {
          "base_uri": "https://localhost:8080/"
        }
      },
      "execution_count": 309,
      "outputs": [
        {
          "output_type": "execute_result",
          "data": {
            "text/plain": [
              "['no_of_rounds',\n",
              " 'lose_streak_dif',\n",
              " 'win_streak_dif',\n",
              " 'finish_round',\n",
              " 'total_fight_time_secs',\n",
              " 'winner_t',\n",
              " 'gender_t',\n",
              " 'finish_round_time_t',\n",
              " 'age_dif_t',\n",
              " 'total_title_bout_dif_t',\n",
              " 'ko_dif_t',\n",
              " 'sub_dif_t',\n",
              " 'longest_win_streak_dif_t',\n",
              " 'win_dif_t',\n",
              " 'loss_dif_t',\n",
              " 'total_round_dif_t',\n",
              " 'height_dif_t',\n",
              " 'title_bout_t',\n",
              " 'weight_class_Bantamweight',\n",
              " 'weight_class_Catch Weight',\n",
              " 'weight_class_Featherweight',\n",
              " 'weight_class_Flyweight',\n",
              " 'weight_class_Heavyweight',\n",
              " 'weight_class_Light Heavyweight',\n",
              " 'weight_class_Lightweight',\n",
              " 'weight_class_Middleweight',\n",
              " 'weight_class_Welterweight',\n",
              " \"weight_class_Women's Bantamweight\",\n",
              " \"weight_class_Women's Featherweight\",\n",
              " \"weight_class_Women's Flyweight\",\n",
              " \"weight_class_Women's Strawweight\",\n",
              " 'country_t_Argentina',\n",
              " 'country_t_Australia',\n",
              " 'country_t_Brazil',\n",
              " 'country_t_Canada',\n",
              " 'country_t_Chile',\n",
              " 'country_t_China',\n",
              " 'country_t_Croatia',\n",
              " 'country_t_Czech Republic',\n",
              " 'country_t_Denmark',\n",
              " 'country_t_Germany',\n",
              " 'country_t_Ireland',\n",
              " 'country_t_Japan',\n",
              " 'country_t_Mexico',\n",
              " 'country_t_Netherlands',\n",
              " 'country_t_New Zealand',\n",
              " 'country_t_Philippines',\n",
              " 'country_t_Poland',\n",
              " 'country_t_Russia',\n",
              " 'country_t_Singapore',\n",
              " 'country_t_South Korea',\n",
              " 'country_t_Sweden',\n",
              " 'country_t_USA',\n",
              " 'country_t_United Arab Emirates',\n",
              " 'country_t_United Kingdom',\n",
              " 'country_t_Uruguay',\n",
              " 'finish_DQ',\n",
              " 'finish_KO/TKO',\n",
              " 'finish_M-DEC',\n",
              " 'finish_Overturned',\n",
              " 'finish_S-DEC',\n",
              " 'finish_SUB',\n",
              " 'finish_U-DEC']"
            ]
          },
          "metadata": {},
          "execution_count": 309
        }
      ]
    },
    {
      "cell_type": "code",
      "source": [
        "quem_target_list = ['winner_t']\n",
        "tempo_target_list = ['finish_round']\n",
        "como_target_list = ['finish_DQ','finish_KO/TKO','finish_M-DEC','finish_Overturned','finish_S-DEC','finish_SUB','finish_U-DEC']\n",
        "    ]"
      ],
      "metadata": {
        "id": "NTkCJ1Q6J6mD",
        "outputId": "144f3e18-42fd-4634-cb4b-75676bb33762",
        "colab": {
          "base_uri": "https://localhost:8080/"
        }
      },
      "execution_count": 306,
      "outputs": [
        {
          "output_type": "execute_result",
          "data": {
            "text/plain": [
              "0       0\n",
              "1       0\n",
              "2       0\n",
              "3       0\n",
              "4       0\n",
              "       ..\n",
              "4891    0\n",
              "4892    0\n",
              "4893    0\n",
              "4894    0\n",
              "4895    0\n",
              "Name: B_draw, Length: 4896, dtype: int64"
            ]
          },
          "metadata": {},
          "execution_count": 306
        }
      ]
    },
    {
      "cell_type": "code",
      "source": [
        "ufc_df_t.winner_t"
      ],
      "metadata": {
        "id": "RQM3Zfq4Kg6W",
        "outputId": "40bc1d1a-b3cc-435a-b42e-c2a4ce56f8cd",
        "colab": {
          "base_uri": "https://localhost:8080/"
        }
      },
      "execution_count": 308,
      "outputs": [
        {
          "output_type": "execute_result",
          "data": {
            "text/plain": [
              "0       0\n",
              "1       1\n",
              "2       1\n",
              "3       0\n",
              "4       1\n",
              "       ..\n",
              "4891    1\n",
              "4892    0\n",
              "4893    0\n",
              "4894    0\n",
              "4895    1\n",
              "Name: winner_t, Length: 4896, dtype: int64"
            ]
          },
          "metadata": {},
          "execution_count": 308
        }
      ]
    },
    {
      "cell_type": "markdown",
      "source": [
        "# O modelo deverá responder as seguintes perguntas:\n",
        "- Quem vence? \n",
        "- Como?\n",
        "- Em qual round?"
      ],
      "metadata": {
        "id": "NxTi1HzaJexX"
      }
    },
    {
      "cell_type": "code",
      "source": [],
      "metadata": {
        "id": "bY3smmxCJkeQ"
      },
      "execution_count": null,
      "outputs": []
    }
  ]
}