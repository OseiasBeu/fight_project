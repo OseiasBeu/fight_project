{
  "nbformat": 4,
  "nbformat_minor": 0,
  "metadata": {
    "colab": {
      "provenance": [],
      "toc_visible": true,
      "authorship_tag": "ABX9TyMZwPcphfBtfo3XPzjgT7Um",
      "include_colab_link": true
    },
    "kernelspec": {
      "name": "python3",
      "display_name": "Python 3"
    },
    "language_info": {
      "name": "python"
    }
  },
  "cells": [
    {
      "cell_type": "markdown",
      "metadata": {
        "id": "view-in-github",
        "colab_type": "text"
      },
      "source": [
        "<a href=\"https://colab.research.google.com/github/OseiasBeu/fight_project/blob/main/ufc_project.ipynb\" target=\"_parent\"><img src=\"https://colab.research.google.com/assets/colab-badge.svg\" alt=\"Open In Colab\"/></a>"
      ]
    },
    {
      "cell_type": "markdown",
      "source": [
        "# Detalhamento da base:"
      ],
      "metadata": {
        "id": "FjCDlSoSVLgE"
      }
    },
    {
      "cell_type": "markdown",
      "source": [
        "## Datasets: \n",
        " ufc_df_o -> Dataset original;\n",
        "\n",
        " ufc_df_t -> Dataset tratado;\n",
        "\n",
        "--- \n",
        "## Informações sobre o evento:\n",
        "- weight_class -> Categoria da luta;\n",
        "- country -> País onde o evento vai acontecer;\n",
        "- finish -> Forma de finalização da luta;\n",
        "- finish_round -> Round de finalização da luta;\n",
        "- finish_round_time -> Tempo de finalização da luta no round;\n",
        "- Winner -> Corner vencedor;\n",
        "\n",
        "--- \n",
        "\n",
        "## Informações sobre os lutadores:\n",
        "- age -> Idade do lutador/a\n",
        "- age_dif -> Diferença de idade entre os lutadores;\n",
        "- Stance -> Base de luta do lutador;\n",
        "- draw -> Número de empates;\n",
        "- longest_win_streak -> Sequência de vitórias mais longa;\n",
        "- current_win_streak -> Sequência de vitórias atual;\n",
        "- current_lose_streak -> Sequência de derrotas atual;\n",
        "- total_rounds_fought -> Quantidade de rounds já lutados;\n",
        "- total_title_bouts -> Quantidade de lutas pelo título;\n",
        "- win_by_Decision_Majority -> Vitória por decisão majoritária;\n",
        "- win_by_Decision_Split -> Vitória por decisão dividida;\n",
        "- win_by_Decision_Unanimous -> Vitória por decisão unânime;\n",
        "- win_by_KO/TKO -> Vitória por nocaute ou nocaute técnico;\n",
        "- win_by_Submission -> Vitória por submissão;\n",
        "- win_by_TKO_Doctor_Stoppage -> Vitória por decisão médica;\n",
        "- wins -> Quantidade de vitórias;\n",
        "- Weight_lbs -> Peso do atleta em libras;\n",
        "---\n"
      ],
      "metadata": {
        "id": "sfCOgMiNtXOE"
      }
    },
    {
      "cell_type": "markdown",
      "source": [
        "## Campos para remover:\n",
        "- constant_1\n",
        "- finish_details\n",
        "- finish_round_time\n",
        "- empty_arena\n",
        "- date\n",
        "- location\n",
        "- better_rank\n",
        "- R_fighter\n",
        "- B_fighter\n",
        "- B_odds\n",
        "- R_odds\n",
        "- R_ev\n",
        "- B_ev\n",
        "- finish\n",
        "- B_Stance\n",
        "- R_Stance\n",
        "- Gender\n",
        "- Winner\n",
        "- Country\n",
        "\n",
        "--- \n",
        "\n",
        "## Campos de classe: \n",
        "- Gender\n",
        "> gender_t : 0 = Male; 1 = Female\n",
        "- Winner \n",
        "> winner_t : 0 = Red; 1 = Blue;\n",
        "\n",
        "---\n",
        "## Campos para labels:\n",
        "- country_t\n",
        "- B_Stance \n",
        "- R_Stance\n",
        "- finish ( 7 agrupamentos )\n",
        "\n",
        "\n",
        "---\n",
        "\n",
        "## Campos calculados:\n",
        "- lose_streak_dif\n",
        "- win_streak_dif\n",
        "- longest_win_streak_dif\n",
        "- win_dif\n",
        "- loss_dif\n",
        "- total_round_dif\n",
        "- total_title_bout_dif\n",
        "- ko_dif\n",
        "- sub_dif\n",
        "- height_dif\n",
        "- age_dif\n",
        "- sig_str_dif\n",
        "- avg_sub_att_dif\n",
        "- avg_td_dif"
      ],
      "metadata": {
        "id": "0cIJ_w_5U3le"
      }
    },
    {
      "cell_type": "markdown",
      "source": [
        "# Leitura do dataset:"
      ],
      "metadata": {
        "id": "z99WmBtVZx6J"
      }
    },
    {
      "cell_type": "code",
      "execution_count": 1,
      "metadata": {
        "id": "1zpV7VY6fplA"
      },
      "outputs": [],
      "source": [
        "import pandas as pd\n",
        "from pandas_profiling import ProfileReport"
      ]
    },
    {
      "cell_type": "code",
      "source": [
        "ufc_df_o = pd.read_csv('https://raw.githubusercontent.com/OseiasBeu/fight_project/main/datasets/ufc-master.csv')\n",
        "ufc_df_o = pd.DataFrame(ufc_df_o)"
      ],
      "metadata": {
        "id": "a5hcd0B0hTNV"
      },
      "execution_count": 2,
      "outputs": []
    },
    {
      "cell_type": "code",
      "source": [
        "ufc_df_o.info()"
      ],
      "metadata": {
        "colab": {
          "base_uri": "https://localhost:8080/"
        },
        "id": "2-IsH2ZuherT",
        "outputId": "f9aa1bba-9bd9-46fe-b693-20168b6a38cf"
      },
      "execution_count": 3,
      "outputs": [
        {
          "output_type": "stream",
          "name": "stdout",
          "text": [
            "<class 'pandas.core.frame.DataFrame'>\n",
            "RangeIndex: 4896 entries, 0 to 4895\n",
            "Columns: 119 entries, R_fighter to b_ko_odds\n",
            "dtypes: bool(1), float64(58), int64(46), object(14)\n",
            "memory usage: 4.4+ MB\n"
          ]
        }
      ]
    },
    {
      "cell_type": "code",
      "source": [
        "ufc_df_o.describe()"
      ],
      "metadata": {
        "id": "DoDorzjoWfbO",
        "outputId": "af3387c5-5a19-4f21-eeb6-505f59c90a2c",
        "colab": {
          "base_uri": "https://localhost:8080/",
          "height": 428
        }
      },
      "execution_count": 4,
      "outputs": [
        {
          "output_type": "execute_result",
          "data": {
            "text/plain": [
              "            R_odds       B_odds         R_ev         B_ev  no_of_rounds  \\\n",
              "count  4895.000000  4896.000000  4895.000000  4896.000000   4896.000000   \n",
              "mean   -117.640449    66.030637    94.827397   167.083323      3.181985   \n",
              "std     268.881452   247.803928    82.843409   136.944643      0.571515   \n",
              "min   -1700.000000 -1200.000000     5.882353     8.333333      3.000000   \n",
              "25%    -255.000000  -145.000000    39.215686    68.965517      3.000000   \n",
              "50%    -150.000000   130.000000    66.666667   130.000000      3.000000   \n",
              "75%     126.500000   220.000000   126.500000   220.000000      3.000000   \n",
              "max     775.000000  1300.000000   775.000000  1300.000000      5.000000   \n",
              "\n",
              "       B_current_lose_streak  B_current_win_streak       B_draw  \\\n",
              "count            4896.000000           4896.000000  4896.000000   \n",
              "mean                0.477941              0.875408     0.010621   \n",
              "std                 0.769386              1.311379     0.108333   \n",
              "min                 0.000000              0.000000     0.000000   \n",
              "25%                 0.000000              0.000000     0.000000   \n",
              "50%                 0.000000              0.000000     0.000000   \n",
              "75%                 1.000000              1.000000     0.000000   \n",
              "max                 6.000000             12.000000     2.000000   \n",
              "\n",
              "       B_avg_SIG_STR_landed  B_avg_SIG_STR_pct  ...  B_Flyweight_rank  \\\n",
              "count           3966.000000        4131.000000  ...         95.000000   \n",
              "mean              26.308553           0.444741  ...          8.473684   \n",
              "std               20.935885           0.121332  ...          4.259763   \n",
              "min                0.000000           0.000000  ...          1.000000   \n",
              "25%                5.610000           0.387500  ...          5.000000   \n",
              "50%               24.759615           0.450000  ...          8.000000   \n",
              "75%               39.075000           0.510000  ...         12.000000   \n",
              "max              154.000000           1.000000  ...         15.000000   \n",
              "\n",
              "       B_Pound-for-Pound_rank  finish_round  total_fight_time_secs  \\\n",
              "count               35.000000   4274.000000            4274.000000   \n",
              "mean                 9.485714      2.408049             652.313758   \n",
              "std                  4.300283      0.996643             357.911423   \n",
              "min                  2.000000      1.000000               5.000000   \n",
              "25%                  5.000000      1.000000             297.000000   \n",
              "50%                 10.000000      3.000000             900.000000   \n",
              "75%                 13.500000      3.000000             900.000000   \n",
              "max                 15.000000      5.000000            1500.000000   \n",
              "\n",
              "        r_dec_odds   b_dec_odds   r_sub_odds   b_sub_odds    r_ko_odds  \\\n",
              "count  4093.000000  4077.000000  3847.000000  3835.000000  3847.000000   \n",
              "mean    294.064745   416.544027   843.010138  1064.543155   514.231869   \n",
              "std     230.583958   306.571299   550.126761   627.285034   413.622768   \n",
              "min    -440.000000  -200.000000  -370.000000 -1250.000000  -550.000000   \n",
              "25%     167.000000   225.000000   435.000000   590.000000   240.000000   \n",
              "50%     250.000000   349.000000   720.000000   975.000000   435.000000   \n",
              "75%     400.000000   525.000000  1200.000000  1400.000000   700.000000   \n",
              "max    2200.000000  2600.000000  4665.000000  4785.000000  2675.000000   \n",
              "\n",
              "         b_ko_odds  \n",
              "count  3834.000000  \n",
              "mean    647.257173  \n",
              "std     458.846643  \n",
              "min    -275.000000  \n",
              "25%     325.000000  \n",
              "50%     548.500000  \n",
              "75%     880.750000  \n",
              "max    3200.000000  \n",
              "\n",
              "[8 rows x 104 columns]"
            ],
            "text/html": [
              "\n",
              "  <div id=\"df-4afb932c-611d-4295-bffd-eeb874edb6fa\">\n",
              "    <div class=\"colab-df-container\">\n",
              "      <div>\n",
              "<style scoped>\n",
              "    .dataframe tbody tr th:only-of-type {\n",
              "        vertical-align: middle;\n",
              "    }\n",
              "\n",
              "    .dataframe tbody tr th {\n",
              "        vertical-align: top;\n",
              "    }\n",
              "\n",
              "    .dataframe thead th {\n",
              "        text-align: right;\n",
              "    }\n",
              "</style>\n",
              "<table border=\"1\" class=\"dataframe\">\n",
              "  <thead>\n",
              "    <tr style=\"text-align: right;\">\n",
              "      <th></th>\n",
              "      <th>R_odds</th>\n",
              "      <th>B_odds</th>\n",
              "      <th>R_ev</th>\n",
              "      <th>B_ev</th>\n",
              "      <th>no_of_rounds</th>\n",
              "      <th>B_current_lose_streak</th>\n",
              "      <th>B_current_win_streak</th>\n",
              "      <th>B_draw</th>\n",
              "      <th>B_avg_SIG_STR_landed</th>\n",
              "      <th>B_avg_SIG_STR_pct</th>\n",
              "      <th>...</th>\n",
              "      <th>B_Flyweight_rank</th>\n",
              "      <th>B_Pound-for-Pound_rank</th>\n",
              "      <th>finish_round</th>\n",
              "      <th>total_fight_time_secs</th>\n",
              "      <th>r_dec_odds</th>\n",
              "      <th>b_dec_odds</th>\n",
              "      <th>r_sub_odds</th>\n",
              "      <th>b_sub_odds</th>\n",
              "      <th>r_ko_odds</th>\n",
              "      <th>b_ko_odds</th>\n",
              "    </tr>\n",
              "  </thead>\n",
              "  <tbody>\n",
              "    <tr>\n",
              "      <th>count</th>\n",
              "      <td>4895.000000</td>\n",
              "      <td>4896.000000</td>\n",
              "      <td>4895.000000</td>\n",
              "      <td>4896.000000</td>\n",
              "      <td>4896.000000</td>\n",
              "      <td>4896.000000</td>\n",
              "      <td>4896.000000</td>\n",
              "      <td>4896.000000</td>\n",
              "      <td>3966.000000</td>\n",
              "      <td>4131.000000</td>\n",
              "      <td>...</td>\n",
              "      <td>95.000000</td>\n",
              "      <td>35.000000</td>\n",
              "      <td>4274.000000</td>\n",
              "      <td>4274.000000</td>\n",
              "      <td>4093.000000</td>\n",
              "      <td>4077.000000</td>\n",
              "      <td>3847.000000</td>\n",
              "      <td>3835.000000</td>\n",
              "      <td>3847.000000</td>\n",
              "      <td>3834.000000</td>\n",
              "    </tr>\n",
              "    <tr>\n",
              "      <th>mean</th>\n",
              "      <td>-117.640449</td>\n",
              "      <td>66.030637</td>\n",
              "      <td>94.827397</td>\n",
              "      <td>167.083323</td>\n",
              "      <td>3.181985</td>\n",
              "      <td>0.477941</td>\n",
              "      <td>0.875408</td>\n",
              "      <td>0.010621</td>\n",
              "      <td>26.308553</td>\n",
              "      <td>0.444741</td>\n",
              "      <td>...</td>\n",
              "      <td>8.473684</td>\n",
              "      <td>9.485714</td>\n",
              "      <td>2.408049</td>\n",
              "      <td>652.313758</td>\n",
              "      <td>294.064745</td>\n",
              "      <td>416.544027</td>\n",
              "      <td>843.010138</td>\n",
              "      <td>1064.543155</td>\n",
              "      <td>514.231869</td>\n",
              "      <td>647.257173</td>\n",
              "    </tr>\n",
              "    <tr>\n",
              "      <th>std</th>\n",
              "      <td>268.881452</td>\n",
              "      <td>247.803928</td>\n",
              "      <td>82.843409</td>\n",
              "      <td>136.944643</td>\n",
              "      <td>0.571515</td>\n",
              "      <td>0.769386</td>\n",
              "      <td>1.311379</td>\n",
              "      <td>0.108333</td>\n",
              "      <td>20.935885</td>\n",
              "      <td>0.121332</td>\n",
              "      <td>...</td>\n",
              "      <td>4.259763</td>\n",
              "      <td>4.300283</td>\n",
              "      <td>0.996643</td>\n",
              "      <td>357.911423</td>\n",
              "      <td>230.583958</td>\n",
              "      <td>306.571299</td>\n",
              "      <td>550.126761</td>\n",
              "      <td>627.285034</td>\n",
              "      <td>413.622768</td>\n",
              "      <td>458.846643</td>\n",
              "    </tr>\n",
              "    <tr>\n",
              "      <th>min</th>\n",
              "      <td>-1700.000000</td>\n",
              "      <td>-1200.000000</td>\n",
              "      <td>5.882353</td>\n",
              "      <td>8.333333</td>\n",
              "      <td>3.000000</td>\n",
              "      <td>0.000000</td>\n",
              "      <td>0.000000</td>\n",
              "      <td>0.000000</td>\n",
              "      <td>0.000000</td>\n",
              "      <td>0.000000</td>\n",
              "      <td>...</td>\n",
              "      <td>1.000000</td>\n",
              "      <td>2.000000</td>\n",
              "      <td>1.000000</td>\n",
              "      <td>5.000000</td>\n",
              "      <td>-440.000000</td>\n",
              "      <td>-200.000000</td>\n",
              "      <td>-370.000000</td>\n",
              "      <td>-1250.000000</td>\n",
              "      <td>-550.000000</td>\n",
              "      <td>-275.000000</td>\n",
              "    </tr>\n",
              "    <tr>\n",
              "      <th>25%</th>\n",
              "      <td>-255.000000</td>\n",
              "      <td>-145.000000</td>\n",
              "      <td>39.215686</td>\n",
              "      <td>68.965517</td>\n",
              "      <td>3.000000</td>\n",
              "      <td>0.000000</td>\n",
              "      <td>0.000000</td>\n",
              "      <td>0.000000</td>\n",
              "      <td>5.610000</td>\n",
              "      <td>0.387500</td>\n",
              "      <td>...</td>\n",
              "      <td>5.000000</td>\n",
              "      <td>5.000000</td>\n",
              "      <td>1.000000</td>\n",
              "      <td>297.000000</td>\n",
              "      <td>167.000000</td>\n",
              "      <td>225.000000</td>\n",
              "      <td>435.000000</td>\n",
              "      <td>590.000000</td>\n",
              "      <td>240.000000</td>\n",
              "      <td>325.000000</td>\n",
              "    </tr>\n",
              "    <tr>\n",
              "      <th>50%</th>\n",
              "      <td>-150.000000</td>\n",
              "      <td>130.000000</td>\n",
              "      <td>66.666667</td>\n",
              "      <td>130.000000</td>\n",
              "      <td>3.000000</td>\n",
              "      <td>0.000000</td>\n",
              "      <td>0.000000</td>\n",
              "      <td>0.000000</td>\n",
              "      <td>24.759615</td>\n",
              "      <td>0.450000</td>\n",
              "      <td>...</td>\n",
              "      <td>8.000000</td>\n",
              "      <td>10.000000</td>\n",
              "      <td>3.000000</td>\n",
              "      <td>900.000000</td>\n",
              "      <td>250.000000</td>\n",
              "      <td>349.000000</td>\n",
              "      <td>720.000000</td>\n",
              "      <td>975.000000</td>\n",
              "      <td>435.000000</td>\n",
              "      <td>548.500000</td>\n",
              "    </tr>\n",
              "    <tr>\n",
              "      <th>75%</th>\n",
              "      <td>126.500000</td>\n",
              "      <td>220.000000</td>\n",
              "      <td>126.500000</td>\n",
              "      <td>220.000000</td>\n",
              "      <td>3.000000</td>\n",
              "      <td>1.000000</td>\n",
              "      <td>1.000000</td>\n",
              "      <td>0.000000</td>\n",
              "      <td>39.075000</td>\n",
              "      <td>0.510000</td>\n",
              "      <td>...</td>\n",
              "      <td>12.000000</td>\n",
              "      <td>13.500000</td>\n",
              "      <td>3.000000</td>\n",
              "      <td>900.000000</td>\n",
              "      <td>400.000000</td>\n",
              "      <td>525.000000</td>\n",
              "      <td>1200.000000</td>\n",
              "      <td>1400.000000</td>\n",
              "      <td>700.000000</td>\n",
              "      <td>880.750000</td>\n",
              "    </tr>\n",
              "    <tr>\n",
              "      <th>max</th>\n",
              "      <td>775.000000</td>\n",
              "      <td>1300.000000</td>\n",
              "      <td>775.000000</td>\n",
              "      <td>1300.000000</td>\n",
              "      <td>5.000000</td>\n",
              "      <td>6.000000</td>\n",
              "      <td>12.000000</td>\n",
              "      <td>2.000000</td>\n",
              "      <td>154.000000</td>\n",
              "      <td>1.000000</td>\n",
              "      <td>...</td>\n",
              "      <td>15.000000</td>\n",
              "      <td>15.000000</td>\n",
              "      <td>5.000000</td>\n",
              "      <td>1500.000000</td>\n",
              "      <td>2200.000000</td>\n",
              "      <td>2600.000000</td>\n",
              "      <td>4665.000000</td>\n",
              "      <td>4785.000000</td>\n",
              "      <td>2675.000000</td>\n",
              "      <td>3200.000000</td>\n",
              "    </tr>\n",
              "  </tbody>\n",
              "</table>\n",
              "<p>8 rows × 104 columns</p>\n",
              "</div>\n",
              "      <button class=\"colab-df-convert\" onclick=\"convertToInteractive('df-4afb932c-611d-4295-bffd-eeb874edb6fa')\"\n",
              "              title=\"Convert this dataframe to an interactive table.\"\n",
              "              style=\"display:none;\">\n",
              "        \n",
              "  <svg xmlns=\"http://www.w3.org/2000/svg\" height=\"24px\"viewBox=\"0 0 24 24\"\n",
              "       width=\"24px\">\n",
              "    <path d=\"M0 0h24v24H0V0z\" fill=\"none\"/>\n",
              "    <path d=\"M18.56 5.44l.94 2.06.94-2.06 2.06-.94-2.06-.94-.94-2.06-.94 2.06-2.06.94zm-11 1L8.5 8.5l.94-2.06 2.06-.94-2.06-.94L8.5 2.5l-.94 2.06-2.06.94zm10 10l.94 2.06.94-2.06 2.06-.94-2.06-.94-.94-2.06-.94 2.06-2.06.94z\"/><path d=\"M17.41 7.96l-1.37-1.37c-.4-.4-.92-.59-1.43-.59-.52 0-1.04.2-1.43.59L10.3 9.45l-7.72 7.72c-.78.78-.78 2.05 0 2.83L4 21.41c.39.39.9.59 1.41.59.51 0 1.02-.2 1.41-.59l7.78-7.78 2.81-2.81c.8-.78.8-2.07 0-2.86zM5.41 20L4 18.59l7.72-7.72 1.47 1.35L5.41 20z\"/>\n",
              "  </svg>\n",
              "      </button>\n",
              "      \n",
              "  <style>\n",
              "    .colab-df-container {\n",
              "      display:flex;\n",
              "      flex-wrap:wrap;\n",
              "      gap: 12px;\n",
              "    }\n",
              "\n",
              "    .colab-df-convert {\n",
              "      background-color: #E8F0FE;\n",
              "      border: none;\n",
              "      border-radius: 50%;\n",
              "      cursor: pointer;\n",
              "      display: none;\n",
              "      fill: #1967D2;\n",
              "      height: 32px;\n",
              "      padding: 0 0 0 0;\n",
              "      width: 32px;\n",
              "    }\n",
              "\n",
              "    .colab-df-convert:hover {\n",
              "      background-color: #E2EBFA;\n",
              "      box-shadow: 0px 1px 2px rgba(60, 64, 67, 0.3), 0px 1px 3px 1px rgba(60, 64, 67, 0.15);\n",
              "      fill: #174EA6;\n",
              "    }\n",
              "\n",
              "    [theme=dark] .colab-df-convert {\n",
              "      background-color: #3B4455;\n",
              "      fill: #D2E3FC;\n",
              "    }\n",
              "\n",
              "    [theme=dark] .colab-df-convert:hover {\n",
              "      background-color: #434B5C;\n",
              "      box-shadow: 0px 1px 3px 1px rgba(0, 0, 0, 0.15);\n",
              "      filter: drop-shadow(0px 1px 2px rgba(0, 0, 0, 0.3));\n",
              "      fill: #FFFFFF;\n",
              "    }\n",
              "  </style>\n",
              "\n",
              "      <script>\n",
              "        const buttonEl =\n",
              "          document.querySelector('#df-4afb932c-611d-4295-bffd-eeb874edb6fa button.colab-df-convert');\n",
              "        buttonEl.style.display =\n",
              "          google.colab.kernel.accessAllowed ? 'block' : 'none';\n",
              "\n",
              "        async function convertToInteractive(key) {\n",
              "          const element = document.querySelector('#df-4afb932c-611d-4295-bffd-eeb874edb6fa');\n",
              "          const dataTable =\n",
              "            await google.colab.kernel.invokeFunction('convertToInteractive',\n",
              "                                                     [key], {});\n",
              "          if (!dataTable) return;\n",
              "\n",
              "          const docLinkHtml = 'Like what you see? Visit the ' +\n",
              "            '<a target=\"_blank\" href=https://colab.research.google.com/notebooks/data_table.ipynb>data table notebook</a>'\n",
              "            + ' to learn more about interactive tables.';\n",
              "          element.innerHTML = '';\n",
              "          dataTable['output_type'] = 'display_data';\n",
              "          await google.colab.output.renderOutput(dataTable, element);\n",
              "          const docLink = document.createElement('div');\n",
              "          docLink.innerHTML = docLinkHtml;\n",
              "          element.appendChild(docLink);\n",
              "        }\n",
              "      </script>\n",
              "    </div>\n",
              "  </div>\n",
              "  "
            ]
          },
          "metadata": {},
          "execution_count": 4
        }
      ]
    },
    {
      "cell_type": "code",
      "source": [
        "ufc_df_o.head(2)"
      ],
      "metadata": {
        "colab": {
          "base_uri": "https://localhost:8080/",
          "height": 310
        },
        "id": "RXhD3yMyhtnG",
        "outputId": "16db68a5-9229-4d76-d6bb-46f39e63df22"
      },
      "execution_count": 5,
      "outputs": [
        {
          "output_type": "execute_result",
          "data": {
            "text/plain": [
              "       R_fighter      B_fighter  R_odds  B_odds        R_ev   B_ev  \\\n",
              "0  Thiago Santos  Johnny Walker  -150.0     130   66.666667  130.0   \n",
              "1  Alex Oliveira     Niko Price   170.0    -200  170.000000   50.0   \n",
              "\n",
              "         date                location country Winner  ...  finish_details  \\\n",
              "0  2021-10-02  Las Vegas, Nevada, USA     USA    Red  ...             NaN   \n",
              "1  2021-10-02  Las Vegas, Nevada, USA     USA   Blue  ...             NaN   \n",
              "\n",
              "  finish_round finish_round_time  total_fight_time_secs  r_dec_odds  \\\n",
              "0          5.0              5:00                 1500.0       800.0   \n",
              "1          3.0              5:00                  900.0       450.0   \n",
              "\n",
              "   b_dec_odds  r_sub_odds  b_sub_odds  r_ko_odds  b_ko_odds  \n",
              "0       900.0      2000.0      1600.0     -110.0      175.0  \n",
              "1       350.0       700.0      1100.0      550.0      120.0  \n",
              "\n",
              "[2 rows x 119 columns]"
            ],
            "text/html": [
              "\n",
              "  <div id=\"df-ac99e353-b204-450a-9a11-1e67ce59fcde\">\n",
              "    <div class=\"colab-df-container\">\n",
              "      <div>\n",
              "<style scoped>\n",
              "    .dataframe tbody tr th:only-of-type {\n",
              "        vertical-align: middle;\n",
              "    }\n",
              "\n",
              "    .dataframe tbody tr th {\n",
              "        vertical-align: top;\n",
              "    }\n",
              "\n",
              "    .dataframe thead th {\n",
              "        text-align: right;\n",
              "    }\n",
              "</style>\n",
              "<table border=\"1\" class=\"dataframe\">\n",
              "  <thead>\n",
              "    <tr style=\"text-align: right;\">\n",
              "      <th></th>\n",
              "      <th>R_fighter</th>\n",
              "      <th>B_fighter</th>\n",
              "      <th>R_odds</th>\n",
              "      <th>B_odds</th>\n",
              "      <th>R_ev</th>\n",
              "      <th>B_ev</th>\n",
              "      <th>date</th>\n",
              "      <th>location</th>\n",
              "      <th>country</th>\n",
              "      <th>Winner</th>\n",
              "      <th>...</th>\n",
              "      <th>finish_details</th>\n",
              "      <th>finish_round</th>\n",
              "      <th>finish_round_time</th>\n",
              "      <th>total_fight_time_secs</th>\n",
              "      <th>r_dec_odds</th>\n",
              "      <th>b_dec_odds</th>\n",
              "      <th>r_sub_odds</th>\n",
              "      <th>b_sub_odds</th>\n",
              "      <th>r_ko_odds</th>\n",
              "      <th>b_ko_odds</th>\n",
              "    </tr>\n",
              "  </thead>\n",
              "  <tbody>\n",
              "    <tr>\n",
              "      <th>0</th>\n",
              "      <td>Thiago Santos</td>\n",
              "      <td>Johnny Walker</td>\n",
              "      <td>-150.0</td>\n",
              "      <td>130</td>\n",
              "      <td>66.666667</td>\n",
              "      <td>130.0</td>\n",
              "      <td>2021-10-02</td>\n",
              "      <td>Las Vegas, Nevada, USA</td>\n",
              "      <td>USA</td>\n",
              "      <td>Red</td>\n",
              "      <td>...</td>\n",
              "      <td>NaN</td>\n",
              "      <td>5.0</td>\n",
              "      <td>5:00</td>\n",
              "      <td>1500.0</td>\n",
              "      <td>800.0</td>\n",
              "      <td>900.0</td>\n",
              "      <td>2000.0</td>\n",
              "      <td>1600.0</td>\n",
              "      <td>-110.0</td>\n",
              "      <td>175.0</td>\n",
              "    </tr>\n",
              "    <tr>\n",
              "      <th>1</th>\n",
              "      <td>Alex Oliveira</td>\n",
              "      <td>Niko Price</td>\n",
              "      <td>170.0</td>\n",
              "      <td>-200</td>\n",
              "      <td>170.000000</td>\n",
              "      <td>50.0</td>\n",
              "      <td>2021-10-02</td>\n",
              "      <td>Las Vegas, Nevada, USA</td>\n",
              "      <td>USA</td>\n",
              "      <td>Blue</td>\n",
              "      <td>...</td>\n",
              "      <td>NaN</td>\n",
              "      <td>3.0</td>\n",
              "      <td>5:00</td>\n",
              "      <td>900.0</td>\n",
              "      <td>450.0</td>\n",
              "      <td>350.0</td>\n",
              "      <td>700.0</td>\n",
              "      <td>1100.0</td>\n",
              "      <td>550.0</td>\n",
              "      <td>120.0</td>\n",
              "    </tr>\n",
              "  </tbody>\n",
              "</table>\n",
              "<p>2 rows × 119 columns</p>\n",
              "</div>\n",
              "      <button class=\"colab-df-convert\" onclick=\"convertToInteractive('df-ac99e353-b204-450a-9a11-1e67ce59fcde')\"\n",
              "              title=\"Convert this dataframe to an interactive table.\"\n",
              "              style=\"display:none;\">\n",
              "        \n",
              "  <svg xmlns=\"http://www.w3.org/2000/svg\" height=\"24px\"viewBox=\"0 0 24 24\"\n",
              "       width=\"24px\">\n",
              "    <path d=\"M0 0h24v24H0V0z\" fill=\"none\"/>\n",
              "    <path d=\"M18.56 5.44l.94 2.06.94-2.06 2.06-.94-2.06-.94-.94-2.06-.94 2.06-2.06.94zm-11 1L8.5 8.5l.94-2.06 2.06-.94-2.06-.94L8.5 2.5l-.94 2.06-2.06.94zm10 10l.94 2.06.94-2.06 2.06-.94-2.06-.94-.94-2.06-.94 2.06-2.06.94z\"/><path d=\"M17.41 7.96l-1.37-1.37c-.4-.4-.92-.59-1.43-.59-.52 0-1.04.2-1.43.59L10.3 9.45l-7.72 7.72c-.78.78-.78 2.05 0 2.83L4 21.41c.39.39.9.59 1.41.59.51 0 1.02-.2 1.41-.59l7.78-7.78 2.81-2.81c.8-.78.8-2.07 0-2.86zM5.41 20L4 18.59l7.72-7.72 1.47 1.35L5.41 20z\"/>\n",
              "  </svg>\n",
              "      </button>\n",
              "      \n",
              "  <style>\n",
              "    .colab-df-container {\n",
              "      display:flex;\n",
              "      flex-wrap:wrap;\n",
              "      gap: 12px;\n",
              "    }\n",
              "\n",
              "    .colab-df-convert {\n",
              "      background-color: #E8F0FE;\n",
              "      border: none;\n",
              "      border-radius: 50%;\n",
              "      cursor: pointer;\n",
              "      display: none;\n",
              "      fill: #1967D2;\n",
              "      height: 32px;\n",
              "      padding: 0 0 0 0;\n",
              "      width: 32px;\n",
              "    }\n",
              "\n",
              "    .colab-df-convert:hover {\n",
              "      background-color: #E2EBFA;\n",
              "      box-shadow: 0px 1px 2px rgba(60, 64, 67, 0.3), 0px 1px 3px 1px rgba(60, 64, 67, 0.15);\n",
              "      fill: #174EA6;\n",
              "    }\n",
              "\n",
              "    [theme=dark] .colab-df-convert {\n",
              "      background-color: #3B4455;\n",
              "      fill: #D2E3FC;\n",
              "    }\n",
              "\n",
              "    [theme=dark] .colab-df-convert:hover {\n",
              "      background-color: #434B5C;\n",
              "      box-shadow: 0px 1px 3px 1px rgba(0, 0, 0, 0.15);\n",
              "      filter: drop-shadow(0px 1px 2px rgba(0, 0, 0, 0.3));\n",
              "      fill: #FFFFFF;\n",
              "    }\n",
              "  </style>\n",
              "\n",
              "      <script>\n",
              "        const buttonEl =\n",
              "          document.querySelector('#df-ac99e353-b204-450a-9a11-1e67ce59fcde button.colab-df-convert');\n",
              "        buttonEl.style.display =\n",
              "          google.colab.kernel.accessAllowed ? 'block' : 'none';\n",
              "\n",
              "        async function convertToInteractive(key) {\n",
              "          const element = document.querySelector('#df-ac99e353-b204-450a-9a11-1e67ce59fcde');\n",
              "          const dataTable =\n",
              "            await google.colab.kernel.invokeFunction('convertToInteractive',\n",
              "                                                     [key], {});\n",
              "          if (!dataTable) return;\n",
              "\n",
              "          const docLinkHtml = 'Like what you see? Visit the ' +\n",
              "            '<a target=\"_blank\" href=https://colab.research.google.com/notebooks/data_table.ipynb>data table notebook</a>'\n",
              "            + ' to learn more about interactive tables.';\n",
              "          element.innerHTML = '';\n",
              "          dataTable['output_type'] = 'display_data';\n",
              "          await google.colab.output.renderOutput(dataTable, element);\n",
              "          const docLink = document.createElement('div');\n",
              "          docLink.innerHTML = docLinkHtml;\n",
              "          element.appendChild(docLink);\n",
              "        }\n",
              "      </script>\n",
              "    </div>\n",
              "  </div>\n",
              "  "
            ]
          },
          "metadata": {},
          "execution_count": 5
        }
      ]
    },
    {
      "cell_type": "code",
      "source": [
        "columns_arr = []\n",
        "for i in ufc_df_o.columns:\n",
        "  if i[0] != 'R' and i[0] != 'B' and i[0] != 'r' and i[0] != 'b':\n",
        "    columns_arr.append(i)\n"
      ],
      "metadata": {
        "id": "0nhT6U-Fj4KR"
      },
      "execution_count": 6,
      "outputs": []
    },
    {
      "cell_type": "code",
      "source": [
        "columns_arr = []\n",
        "for i in ufc_df_o.columns:\n",
        "  if i[0] != 'R' and i[0] != 'B' and i[0] != 'r' and i[0] != 'b':\n",
        "    pass\n",
        "  else:\n",
        "    columns_arr.append(i)\n"
      ],
      "metadata": {
        "id": "g5jXk6MMUtDz"
      },
      "execution_count": 7,
      "outputs": []
    },
    {
      "cell_type": "code",
      "source": [
        "# columns_arr"
      ],
      "metadata": {
        "id": "nU0ScVRSVBB_"
      },
      "execution_count": 8,
      "outputs": []
    },
    {
      "cell_type": "markdown",
      "source": [
        "# Analisando campos de classes:"
      ],
      "metadata": {
        "id": "UUxCHdLFq_wp"
      }
    },
    {
      "cell_type": "code",
      "source": [
        "ufc_df_o.select_dtypes(include='object').describe().columns"
      ],
      "metadata": {
        "id": "z46GvOTBU277",
        "outputId": "4bbc36e5-0d0c-4569-dc64-6606fcfbf8f0",
        "colab": {
          "base_uri": "https://localhost:8080/"
        }
      },
      "execution_count": 9,
      "outputs": [
        {
          "output_type": "execute_result",
          "data": {
            "text/plain": [
              "Index(['R_fighter', 'B_fighter', 'date', 'location', 'country', 'Winner',\n",
              "       'weight_class', 'gender', 'B_Stance', 'R_Stance', 'better_rank',\n",
              "       'finish', 'finish_details', 'finish_round_time'],\n",
              "      dtype='object')"
            ]
          },
          "metadata": {},
          "execution_count": 9
        }
      ]
    },
    {
      "cell_type": "markdown",
      "source": [
        "## Tratar o campo Winner"
      ],
      "metadata": {
        "id": "MAL5bNGRrmMp"
      }
    },
    {
      "cell_type": "markdown",
      "source": [
        "- 0 = Red; \n",
        "- 1 = Blue;"
      ],
      "metadata": {
        "id": "7aoZDLAKIFrU"
      }
    },
    {
      "cell_type": "code",
      "source": [
        "ufc_df_o.Winner.value_counts()"
      ],
      "metadata": {
        "id": "DtOAFPo7rEXe",
        "outputId": "3ac02eec-dcbf-44a4-ec06-9b8e25582f03",
        "colab": {
          "base_uri": "https://localhost:8080/"
        }
      },
      "execution_count": 10,
      "outputs": [
        {
          "output_type": "execute_result",
          "data": {
            "text/plain": [
              "Red     2859\n",
              "Blue    2037\n",
              "Name: Winner, dtype: int64"
            ]
          },
          "metadata": {},
          "execution_count": 10
        }
      ]
    },
    {
      "cell_type": "code",
      "source": [
        "de_para_Winner = {\n",
        "    'Red': 0,\n",
        "    'Blue': 1\n",
        "}\n",
        "\n",
        "ufc_df_o['winner_t'] = ufc_df_o.Winner.map(de_para_Winner)"
      ],
      "metadata": {
        "id": "QePaUrS_ImkX"
      },
      "execution_count": 11,
      "outputs": []
    },
    {
      "cell_type": "code",
      "source": [
        "ufc_df_o[['Winner','winner_t']].head(3)"
      ],
      "metadata": {
        "id": "IhFT0_7iJItI",
        "outputId": "27253953-5e0e-41e9-f09a-38a228ee2428",
        "colab": {
          "base_uri": "https://localhost:8080/",
          "height": 143
        }
      },
      "execution_count": 33,
      "outputs": [
        {
          "output_type": "execute_result",
          "data": {
            "text/plain": [
              "  Winner  winner_t\n",
              "0    Red         0\n",
              "1   Blue         1\n",
              "2   Blue         1"
            ],
            "text/html": [
              "\n",
              "  <div id=\"df-f4780774-a1c4-4f8a-aae9-c420b01f0069\">\n",
              "    <div class=\"colab-df-container\">\n",
              "      <div>\n",
              "<style scoped>\n",
              "    .dataframe tbody tr th:only-of-type {\n",
              "        vertical-align: middle;\n",
              "    }\n",
              "\n",
              "    .dataframe tbody tr th {\n",
              "        vertical-align: top;\n",
              "    }\n",
              "\n",
              "    .dataframe thead th {\n",
              "        text-align: right;\n",
              "    }\n",
              "</style>\n",
              "<table border=\"1\" class=\"dataframe\">\n",
              "  <thead>\n",
              "    <tr style=\"text-align: right;\">\n",
              "      <th></th>\n",
              "      <th>Winner</th>\n",
              "      <th>winner_t</th>\n",
              "    </tr>\n",
              "  </thead>\n",
              "  <tbody>\n",
              "    <tr>\n",
              "      <th>0</th>\n",
              "      <td>Red</td>\n",
              "      <td>0</td>\n",
              "    </tr>\n",
              "    <tr>\n",
              "      <th>1</th>\n",
              "      <td>Blue</td>\n",
              "      <td>1</td>\n",
              "    </tr>\n",
              "    <tr>\n",
              "      <th>2</th>\n",
              "      <td>Blue</td>\n",
              "      <td>1</td>\n",
              "    </tr>\n",
              "  </tbody>\n",
              "</table>\n",
              "</div>\n",
              "      <button class=\"colab-df-convert\" onclick=\"convertToInteractive('df-f4780774-a1c4-4f8a-aae9-c420b01f0069')\"\n",
              "              title=\"Convert this dataframe to an interactive table.\"\n",
              "              style=\"display:none;\">\n",
              "        \n",
              "  <svg xmlns=\"http://www.w3.org/2000/svg\" height=\"24px\"viewBox=\"0 0 24 24\"\n",
              "       width=\"24px\">\n",
              "    <path d=\"M0 0h24v24H0V0z\" fill=\"none\"/>\n",
              "    <path d=\"M18.56 5.44l.94 2.06.94-2.06 2.06-.94-2.06-.94-.94-2.06-.94 2.06-2.06.94zm-11 1L8.5 8.5l.94-2.06 2.06-.94-2.06-.94L8.5 2.5l-.94 2.06-2.06.94zm10 10l.94 2.06.94-2.06 2.06-.94-2.06-.94-.94-2.06-.94 2.06-2.06.94z\"/><path d=\"M17.41 7.96l-1.37-1.37c-.4-.4-.92-.59-1.43-.59-.52 0-1.04.2-1.43.59L10.3 9.45l-7.72 7.72c-.78.78-.78 2.05 0 2.83L4 21.41c.39.39.9.59 1.41.59.51 0 1.02-.2 1.41-.59l7.78-7.78 2.81-2.81c.8-.78.8-2.07 0-2.86zM5.41 20L4 18.59l7.72-7.72 1.47 1.35L5.41 20z\"/>\n",
              "  </svg>\n",
              "      </button>\n",
              "      \n",
              "  <style>\n",
              "    .colab-df-container {\n",
              "      display:flex;\n",
              "      flex-wrap:wrap;\n",
              "      gap: 12px;\n",
              "    }\n",
              "\n",
              "    .colab-df-convert {\n",
              "      background-color: #E8F0FE;\n",
              "      border: none;\n",
              "      border-radius: 50%;\n",
              "      cursor: pointer;\n",
              "      display: none;\n",
              "      fill: #1967D2;\n",
              "      height: 32px;\n",
              "      padding: 0 0 0 0;\n",
              "      width: 32px;\n",
              "    }\n",
              "\n",
              "    .colab-df-convert:hover {\n",
              "      background-color: #E2EBFA;\n",
              "      box-shadow: 0px 1px 2px rgba(60, 64, 67, 0.3), 0px 1px 3px 1px rgba(60, 64, 67, 0.15);\n",
              "      fill: #174EA6;\n",
              "    }\n",
              "\n",
              "    [theme=dark] .colab-df-convert {\n",
              "      background-color: #3B4455;\n",
              "      fill: #D2E3FC;\n",
              "    }\n",
              "\n",
              "    [theme=dark] .colab-df-convert:hover {\n",
              "      background-color: #434B5C;\n",
              "      box-shadow: 0px 1px 3px 1px rgba(0, 0, 0, 0.15);\n",
              "      filter: drop-shadow(0px 1px 2px rgba(0, 0, 0, 0.3));\n",
              "      fill: #FFFFFF;\n",
              "    }\n",
              "  </style>\n",
              "\n",
              "      <script>\n",
              "        const buttonEl =\n",
              "          document.querySelector('#df-f4780774-a1c4-4f8a-aae9-c420b01f0069 button.colab-df-convert');\n",
              "        buttonEl.style.display =\n",
              "          google.colab.kernel.accessAllowed ? 'block' : 'none';\n",
              "\n",
              "        async function convertToInteractive(key) {\n",
              "          const element = document.querySelector('#df-f4780774-a1c4-4f8a-aae9-c420b01f0069');\n",
              "          const dataTable =\n",
              "            await google.colab.kernel.invokeFunction('convertToInteractive',\n",
              "                                                     [key], {});\n",
              "          if (!dataTable) return;\n",
              "\n",
              "          const docLinkHtml = 'Like what you see? Visit the ' +\n",
              "            '<a target=\"_blank\" href=https://colab.research.google.com/notebooks/data_table.ipynb>data table notebook</a>'\n",
              "            + ' to learn more about interactive tables.';\n",
              "          element.innerHTML = '';\n",
              "          dataTable['output_type'] = 'display_data';\n",
              "          await google.colab.output.renderOutput(dataTable, element);\n",
              "          const docLink = document.createElement('div');\n",
              "          docLink.innerHTML = docLinkHtml;\n",
              "          element.appendChild(docLink);\n",
              "        }\n",
              "      </script>\n",
              "    </div>\n",
              "  </div>\n",
              "  "
            ]
          },
          "metadata": {},
          "execution_count": 33
        }
      ]
    },
    {
      "cell_type": "markdown",
      "source": [
        "## Tratar o campo Gender"
      ],
      "metadata": {
        "id": "1RFnt8lsrx1X"
      }
    },
    {
      "cell_type": "code",
      "source": [
        "ufc_df_o.gender.value_counts()"
      ],
      "metadata": {
        "id": "jqZ4WSClrxQG",
        "outputId": "f005500c-ec73-4ce4-c8fb-faf0c3e14779",
        "colab": {
          "base_uri": "https://localhost:8080/"
        }
      },
      "execution_count": 13,
      "outputs": [
        {
          "output_type": "execute_result",
          "data": {
            "text/plain": [
              "MALE      4384\n",
              "FEMALE     512\n",
              "Name: gender, dtype: int64"
            ]
          },
          "metadata": {},
          "execution_count": 13
        }
      ]
    },
    {
      "cell_type": "code",
      "source": [
        "de_para_Gender = {\n",
        "    'MALE': 0,\n",
        "    'FEMALE': 1\n",
        "}\n",
        "\n",
        "ufc_df_o['gender_t'] = ufc_df_o.gender.map(de_para_Gender)\n",
        "ufc_df_o[['gender_t','gender']].value_counts()"
      ],
      "metadata": {
        "id": "tC4T59g5Jisn",
        "outputId": "c4382de8-f076-4c42-eceb-30c17c1c2c30",
        "colab": {
          "base_uri": "https://localhost:8080/"
        }
      },
      "execution_count": 35,
      "outputs": [
        {
          "output_type": "execute_result",
          "data": {
            "text/plain": [
              "gender_t  gender\n",
              "0         MALE      4384\n",
              "1         FEMALE     512\n",
              "dtype: int64"
            ]
          },
          "metadata": {},
          "execution_count": 35
        }
      ]
    },
    {
      "cell_type": "markdown",
      "source": [
        "## Tratar o campo country:"
      ],
      "metadata": {
        "id": "FmtFm0jes1hG"
      }
    },
    {
      "cell_type": "code",
      "source": [
        "ufc_df_o.country.value_counts()"
      ],
      "metadata": {
        "id": "gIdkJTuosFEP",
        "outputId": "604f122d-0271-4d14-8968-736c4fc1e23a",
        "colab": {
          "base_uri": "https://localhost:8080/"
        }
      },
      "execution_count": 15,
      "outputs": [
        {
          "output_type": "execute_result",
          "data": {
            "text/plain": [
              " USA                     2450\n",
              "USA                       599\n",
              " Brazil                   400\n",
              " Canada                   337\n",
              " United Kingdom           165\n",
              " Australia                160\n",
              "United Arab Emirates      141\n",
              " Sweden                    72\n",
              " Mexico                    70\n",
              " China                     61\n",
              " Germany                   54\n",
              " Japan                     53\n",
              " Singapore                 45\n",
              " Russia                    36\n",
              " New Zealand               33\n",
              " United Arab Emirates      29\n",
              " Netherlands               25\n",
              " South Korea               24\n",
              " Poland                    23\n",
              " Ireland                   19\n",
              " Croatia                   13\n",
              " Czech Republic            13\n",
              " Denmark                   13\n",
              " Chile                     13\n",
              " Uruguay                   13\n",
              " Philippines               12\n",
              " Argentina                 12\n",
              "Brazil                     11\n",
              "Name: country, dtype: int64"
            ]
          },
          "metadata": {},
          "execution_count": 15
        }
      ]
    },
    {
      "cell_type": "code",
      "source": [
        "ufc_df_o['country_t'] = ufc_df_o.country.str.strip()"
      ],
      "metadata": {
        "id": "cukJD6ROKJnX"
      },
      "execution_count": 16,
      "outputs": []
    },
    {
      "cell_type": "code",
      "source": [
        "ufc_df_o[['country','country_t']].value_counts()"
      ],
      "metadata": {
        "id": "_I1Fe0NcKuCe",
        "outputId": "4ae651cd-a4c6-43df-9104-22fd1d203b29",
        "colab": {
          "base_uri": "https://localhost:8080/"
        }
      },
      "execution_count": 36,
      "outputs": [
        {
          "output_type": "execute_result",
          "data": {
            "text/plain": [
              "country                country_t           \n",
              " USA                   USA                     2450\n",
              "USA                    USA                      599\n",
              " Brazil                Brazil                   400\n",
              " Canada                Canada                   337\n",
              " United Kingdom        United Kingdom           165\n",
              " Australia             Australia                160\n",
              "United Arab Emirates   United Arab Emirates     141\n",
              " Sweden                Sweden                    72\n",
              " Mexico                Mexico                    70\n",
              " China                 China                     61\n",
              " Germany               Germany                   54\n",
              " Japan                 Japan                     53\n",
              " Singapore             Singapore                 45\n",
              " Russia                Russia                    36\n",
              " New Zealand           New Zealand               33\n",
              " United Arab Emirates  United Arab Emirates      29\n",
              " Netherlands           Netherlands               25\n",
              " South Korea           South Korea               24\n",
              " Poland                Poland                    23\n",
              " Ireland               Ireland                   19\n",
              " Denmark               Denmark                   13\n",
              " Czech Republic        Czech Republic            13\n",
              " Croatia               Croatia                   13\n",
              " Uruguay               Uruguay                   13\n",
              " Chile                 Chile                     13\n",
              " Philippines           Philippines               12\n",
              " Argentina             Argentina                 12\n",
              "Brazil                 Brazil                    11\n",
              "dtype: int64"
            ]
          },
          "metadata": {},
          "execution_count": 36
        }
      ]
    },
    {
      "cell_type": "code",
      "source": [
        "ufc_df_o['finish'].value_counts()"
      ],
      "metadata": {
        "id": "ABwpwTEiyR40",
        "outputId": "5322009b-7de8-4b63-99c8-850596e98462",
        "colab": {
          "base_uri": "https://localhost:8080/"
        }
      },
      "execution_count": 38,
      "outputs": [
        {
          "output_type": "execute_result",
          "data": {
            "text/plain": [
              "U-DEC         1778\n",
              "KO/TKO        1495\n",
              "SUB            854\n",
              "S-DEC          483\n",
              "M-DEC           32\n",
              "DQ              14\n",
              "Overturned       2\n",
              "Name: finish, dtype: int64"
            ]
          },
          "metadata": {},
          "execution_count": 38
        }
      ]
    },
    {
      "cell_type": "markdown",
      "source": [
        "## Converter campo finish_round_time:\n"
      ],
      "metadata": {
        "id": "g8nn1uOZVk3X"
      }
    },
    {
      "cell_type": "code",
      "source": [
        "ufc_df_o[['no_of_rounds','finish_round_time','total_fight_time_secs']].head(4)"
      ],
      "metadata": {
        "id": "UNh_-nH1Uy71",
        "outputId": "4c34cc94-d4ff-4dd8-fb4e-c87a1d8343bb",
        "colab": {
          "base_uri": "https://localhost:8080/",
          "height": 175
        }
      },
      "execution_count": 42,
      "outputs": [
        {
          "output_type": "execute_result",
          "data": {
            "text/plain": [
              "   no_of_rounds finish_round_time  total_fight_time_secs\n",
              "0             5              5:00                 1500.0\n",
              "1             3              5:00                  900.0\n",
              "2             3              5:00                  900.0\n",
              "3             3              1:20                   80.0"
            ],
            "text/html": [
              "\n",
              "  <div id=\"df-0106dbbd-32a4-4e1f-b396-524659d74853\">\n",
              "    <div class=\"colab-df-container\">\n",
              "      <div>\n",
              "<style scoped>\n",
              "    .dataframe tbody tr th:only-of-type {\n",
              "        vertical-align: middle;\n",
              "    }\n",
              "\n",
              "    .dataframe tbody tr th {\n",
              "        vertical-align: top;\n",
              "    }\n",
              "\n",
              "    .dataframe thead th {\n",
              "        text-align: right;\n",
              "    }\n",
              "</style>\n",
              "<table border=\"1\" class=\"dataframe\">\n",
              "  <thead>\n",
              "    <tr style=\"text-align: right;\">\n",
              "      <th></th>\n",
              "      <th>no_of_rounds</th>\n",
              "      <th>finish_round_time</th>\n",
              "      <th>total_fight_time_secs</th>\n",
              "    </tr>\n",
              "  </thead>\n",
              "  <tbody>\n",
              "    <tr>\n",
              "      <th>0</th>\n",
              "      <td>5</td>\n",
              "      <td>5:00</td>\n",
              "      <td>1500.0</td>\n",
              "    </tr>\n",
              "    <tr>\n",
              "      <th>1</th>\n",
              "      <td>3</td>\n",
              "      <td>5:00</td>\n",
              "      <td>900.0</td>\n",
              "    </tr>\n",
              "    <tr>\n",
              "      <th>2</th>\n",
              "      <td>3</td>\n",
              "      <td>5:00</td>\n",
              "      <td>900.0</td>\n",
              "    </tr>\n",
              "    <tr>\n",
              "      <th>3</th>\n",
              "      <td>3</td>\n",
              "      <td>1:20</td>\n",
              "      <td>80.0</td>\n",
              "    </tr>\n",
              "  </tbody>\n",
              "</table>\n",
              "</div>\n",
              "      <button class=\"colab-df-convert\" onclick=\"convertToInteractive('df-0106dbbd-32a4-4e1f-b396-524659d74853')\"\n",
              "              title=\"Convert this dataframe to an interactive table.\"\n",
              "              style=\"display:none;\">\n",
              "        \n",
              "  <svg xmlns=\"http://www.w3.org/2000/svg\" height=\"24px\"viewBox=\"0 0 24 24\"\n",
              "       width=\"24px\">\n",
              "    <path d=\"M0 0h24v24H0V0z\" fill=\"none\"/>\n",
              "    <path d=\"M18.56 5.44l.94 2.06.94-2.06 2.06-.94-2.06-.94-.94-2.06-.94 2.06-2.06.94zm-11 1L8.5 8.5l.94-2.06 2.06-.94-2.06-.94L8.5 2.5l-.94 2.06-2.06.94zm10 10l.94 2.06.94-2.06 2.06-.94-2.06-.94-.94-2.06-.94 2.06-2.06.94z\"/><path d=\"M17.41 7.96l-1.37-1.37c-.4-.4-.92-.59-1.43-.59-.52 0-1.04.2-1.43.59L10.3 9.45l-7.72 7.72c-.78.78-.78 2.05 0 2.83L4 21.41c.39.39.9.59 1.41.59.51 0 1.02-.2 1.41-.59l7.78-7.78 2.81-2.81c.8-.78.8-2.07 0-2.86zM5.41 20L4 18.59l7.72-7.72 1.47 1.35L5.41 20z\"/>\n",
              "  </svg>\n",
              "      </button>\n",
              "      \n",
              "  <style>\n",
              "    .colab-df-container {\n",
              "      display:flex;\n",
              "      flex-wrap:wrap;\n",
              "      gap: 12px;\n",
              "    }\n",
              "\n",
              "    .colab-df-convert {\n",
              "      background-color: #E8F0FE;\n",
              "      border: none;\n",
              "      border-radius: 50%;\n",
              "      cursor: pointer;\n",
              "      display: none;\n",
              "      fill: #1967D2;\n",
              "      height: 32px;\n",
              "      padding: 0 0 0 0;\n",
              "      width: 32px;\n",
              "    }\n",
              "\n",
              "    .colab-df-convert:hover {\n",
              "      background-color: #E2EBFA;\n",
              "      box-shadow: 0px 1px 2px rgba(60, 64, 67, 0.3), 0px 1px 3px 1px rgba(60, 64, 67, 0.15);\n",
              "      fill: #174EA6;\n",
              "    }\n",
              "\n",
              "    [theme=dark] .colab-df-convert {\n",
              "      background-color: #3B4455;\n",
              "      fill: #D2E3FC;\n",
              "    }\n",
              "\n",
              "    [theme=dark] .colab-df-convert:hover {\n",
              "      background-color: #434B5C;\n",
              "      box-shadow: 0px 1px 3px 1px rgba(0, 0, 0, 0.15);\n",
              "      filter: drop-shadow(0px 1px 2px rgba(0, 0, 0, 0.3));\n",
              "      fill: #FFFFFF;\n",
              "    }\n",
              "  </style>\n",
              "\n",
              "      <script>\n",
              "        const buttonEl =\n",
              "          document.querySelector('#df-0106dbbd-32a4-4e1f-b396-524659d74853 button.colab-df-convert');\n",
              "        buttonEl.style.display =\n",
              "          google.colab.kernel.accessAllowed ? 'block' : 'none';\n",
              "\n",
              "        async function convertToInteractive(key) {\n",
              "          const element = document.querySelector('#df-0106dbbd-32a4-4e1f-b396-524659d74853');\n",
              "          const dataTable =\n",
              "            await google.colab.kernel.invokeFunction('convertToInteractive',\n",
              "                                                     [key], {});\n",
              "          if (!dataTable) return;\n",
              "\n",
              "          const docLinkHtml = 'Like what you see? Visit the ' +\n",
              "            '<a target=\"_blank\" href=https://colab.research.google.com/notebooks/data_table.ipynb>data table notebook</a>'\n",
              "            + ' to learn more about interactive tables.';\n",
              "          element.innerHTML = '';\n",
              "          dataTable['output_type'] = 'display_data';\n",
              "          await google.colab.output.renderOutput(dataTable, element);\n",
              "          const docLink = document.createElement('div');\n",
              "          docLink.innerHTML = docLinkHtml;\n",
              "          element.appendChild(docLink);\n",
              "        }\n",
              "      </script>\n",
              "    </div>\n",
              "  </div>\n",
              "  "
            ]
          },
          "metadata": {},
          "execution_count": 42
        }
      ]
    },
    {
      "cell_type": "code",
      "source": [
        "ufc_df_o['finish_round_time_t'] = ufc_df_o.finish_round_time.str.replace(':','.')\n",
        "ufc_df_o['finish_round_time_t'] = ufc_df_o[\"finish_round_time_t\"].astype(float)\n",
        "ufc_df_o[['finish_round_time','finish_round_time_t','no_of_rounds','total_fight_time_secs']].head(5)"
      ],
      "metadata": {
        "id": "EqEOzER32IRv",
        "outputId": "742d1291-8a0d-4a7a-ce63-9919eb2b0d1c",
        "colab": {
          "base_uri": "https://localhost:8080/",
          "height": 206
        }
      },
      "execution_count": 45,
      "outputs": [
        {
          "output_type": "execute_result",
          "data": {
            "text/plain": [
              "  finish_round_time  finish_round_time_t  no_of_rounds  total_fight_time_secs\n",
              "0              5:00                  5.0             5                 1500.0\n",
              "1              5:00                  5.0             3                  900.0\n",
              "2              5:00                  5.0             3                  900.0\n",
              "3              1:20                  1.2             3                   80.0\n",
              "4              5:00                  5.0             3                  900.0"
            ],
            "text/html": [
              "\n",
              "  <div id=\"df-4effbda7-8e0c-40e4-93e6-26903b4d51cb\">\n",
              "    <div class=\"colab-df-container\">\n",
              "      <div>\n",
              "<style scoped>\n",
              "    .dataframe tbody tr th:only-of-type {\n",
              "        vertical-align: middle;\n",
              "    }\n",
              "\n",
              "    .dataframe tbody tr th {\n",
              "        vertical-align: top;\n",
              "    }\n",
              "\n",
              "    .dataframe thead th {\n",
              "        text-align: right;\n",
              "    }\n",
              "</style>\n",
              "<table border=\"1\" class=\"dataframe\">\n",
              "  <thead>\n",
              "    <tr style=\"text-align: right;\">\n",
              "      <th></th>\n",
              "      <th>finish_round_time</th>\n",
              "      <th>finish_round_time_t</th>\n",
              "      <th>no_of_rounds</th>\n",
              "      <th>total_fight_time_secs</th>\n",
              "    </tr>\n",
              "  </thead>\n",
              "  <tbody>\n",
              "    <tr>\n",
              "      <th>0</th>\n",
              "      <td>5:00</td>\n",
              "      <td>5.0</td>\n",
              "      <td>5</td>\n",
              "      <td>1500.0</td>\n",
              "    </tr>\n",
              "    <tr>\n",
              "      <th>1</th>\n",
              "      <td>5:00</td>\n",
              "      <td>5.0</td>\n",
              "      <td>3</td>\n",
              "      <td>900.0</td>\n",
              "    </tr>\n",
              "    <tr>\n",
              "      <th>2</th>\n",
              "      <td>5:00</td>\n",
              "      <td>5.0</td>\n",
              "      <td>3</td>\n",
              "      <td>900.0</td>\n",
              "    </tr>\n",
              "    <tr>\n",
              "      <th>3</th>\n",
              "      <td>1:20</td>\n",
              "      <td>1.2</td>\n",
              "      <td>3</td>\n",
              "      <td>80.0</td>\n",
              "    </tr>\n",
              "    <tr>\n",
              "      <th>4</th>\n",
              "      <td>5:00</td>\n",
              "      <td>5.0</td>\n",
              "      <td>3</td>\n",
              "      <td>900.0</td>\n",
              "    </tr>\n",
              "  </tbody>\n",
              "</table>\n",
              "</div>\n",
              "      <button class=\"colab-df-convert\" onclick=\"convertToInteractive('df-4effbda7-8e0c-40e4-93e6-26903b4d51cb')\"\n",
              "              title=\"Convert this dataframe to an interactive table.\"\n",
              "              style=\"display:none;\">\n",
              "        \n",
              "  <svg xmlns=\"http://www.w3.org/2000/svg\" height=\"24px\"viewBox=\"0 0 24 24\"\n",
              "       width=\"24px\">\n",
              "    <path d=\"M0 0h24v24H0V0z\" fill=\"none\"/>\n",
              "    <path d=\"M18.56 5.44l.94 2.06.94-2.06 2.06-.94-2.06-.94-.94-2.06-.94 2.06-2.06.94zm-11 1L8.5 8.5l.94-2.06 2.06-.94-2.06-.94L8.5 2.5l-.94 2.06-2.06.94zm10 10l.94 2.06.94-2.06 2.06-.94-2.06-.94-.94-2.06-.94 2.06-2.06.94z\"/><path d=\"M17.41 7.96l-1.37-1.37c-.4-.4-.92-.59-1.43-.59-.52 0-1.04.2-1.43.59L10.3 9.45l-7.72 7.72c-.78.78-.78 2.05 0 2.83L4 21.41c.39.39.9.59 1.41.59.51 0 1.02-.2 1.41-.59l7.78-7.78 2.81-2.81c.8-.78.8-2.07 0-2.86zM5.41 20L4 18.59l7.72-7.72 1.47 1.35L5.41 20z\"/>\n",
              "  </svg>\n",
              "      </button>\n",
              "      \n",
              "  <style>\n",
              "    .colab-df-container {\n",
              "      display:flex;\n",
              "      flex-wrap:wrap;\n",
              "      gap: 12px;\n",
              "    }\n",
              "\n",
              "    .colab-df-convert {\n",
              "      background-color: #E8F0FE;\n",
              "      border: none;\n",
              "      border-radius: 50%;\n",
              "      cursor: pointer;\n",
              "      display: none;\n",
              "      fill: #1967D2;\n",
              "      height: 32px;\n",
              "      padding: 0 0 0 0;\n",
              "      width: 32px;\n",
              "    }\n",
              "\n",
              "    .colab-df-convert:hover {\n",
              "      background-color: #E2EBFA;\n",
              "      box-shadow: 0px 1px 2px rgba(60, 64, 67, 0.3), 0px 1px 3px 1px rgba(60, 64, 67, 0.15);\n",
              "      fill: #174EA6;\n",
              "    }\n",
              "\n",
              "    [theme=dark] .colab-df-convert {\n",
              "      background-color: #3B4455;\n",
              "      fill: #D2E3FC;\n",
              "    }\n",
              "\n",
              "    [theme=dark] .colab-df-convert:hover {\n",
              "      background-color: #434B5C;\n",
              "      box-shadow: 0px 1px 3px 1px rgba(0, 0, 0, 0.15);\n",
              "      filter: drop-shadow(0px 1px 2px rgba(0, 0, 0, 0.3));\n",
              "      fill: #FFFFFF;\n",
              "    }\n",
              "  </style>\n",
              "\n",
              "      <script>\n",
              "        const buttonEl =\n",
              "          document.querySelector('#df-4effbda7-8e0c-40e4-93e6-26903b4d51cb button.colab-df-convert');\n",
              "        buttonEl.style.display =\n",
              "          google.colab.kernel.accessAllowed ? 'block' : 'none';\n",
              "\n",
              "        async function convertToInteractive(key) {\n",
              "          const element = document.querySelector('#df-4effbda7-8e0c-40e4-93e6-26903b4d51cb');\n",
              "          const dataTable =\n",
              "            await google.colab.kernel.invokeFunction('convertToInteractive',\n",
              "                                                     [key], {});\n",
              "          if (!dataTable) return;\n",
              "\n",
              "          const docLinkHtml = 'Like what you see? Visit the ' +\n",
              "            '<a target=\"_blank\" href=https://colab.research.google.com/notebooks/data_table.ipynb>data table notebook</a>'\n",
              "            + ' to learn more about interactive tables.';\n",
              "          element.innerHTML = '';\n",
              "          dataTable['output_type'] = 'display_data';\n",
              "          await google.colab.output.renderOutput(dataTable, element);\n",
              "          const docLink = document.createElement('div');\n",
              "          docLink.innerHTML = docLinkHtml;\n",
              "          element.appendChild(docLink);\n",
              "        }\n",
              "      </script>\n",
              "    </div>\n",
              "  </div>\n",
              "  "
            ]
          },
          "metadata": {},
          "execution_count": 45
        }
      ]
    },
    {
      "cell_type": "markdown",
      "source": [
        "# Analisando campos do tipo numérico:"
      ],
      "metadata": {
        "id": "YHuow7XTWApf"
      }
    },
    {
      "cell_type": "code",
      "source": [
        "ufc_df_o.select_dtypes(include='int').describe().columns"
      ],
      "metadata": {
        "id": "0zvPZ4f7WFGB",
        "outputId": "4a2d6ec2-e312-4c75-fa2e-d3704d3ec81d",
        "colab": {
          "base_uri": "https://localhost:8080/"
        }
      },
      "execution_count": 19,
      "outputs": [
        {
          "output_type": "execute_result",
          "data": {
            "text/plain": [
              "Index(['B_odds', 'no_of_rounds', 'B_current_lose_streak',\n",
              "       'B_current_win_streak', 'B_draw', 'B_longest_win_streak', 'B_losses',\n",
              "       'B_total_rounds_fought', 'B_total_title_bouts',\n",
              "       'B_win_by_Decision_Majority', 'B_win_by_Decision_Split',\n",
              "       'B_win_by_Decision_Unanimous', 'B_win_by_KO/TKO', 'B_win_by_Submission',\n",
              "       'B_win_by_TKO_Doctor_Stoppage', 'B_wins', 'B_Weight_lbs',\n",
              "       'R_current_lose_streak', 'R_current_win_streak', 'R_draw',\n",
              "       'R_longest_win_streak', 'R_losses', 'R_total_rounds_fought',\n",
              "       'R_total_title_bouts', 'R_win_by_Decision_Majority',\n",
              "       'R_win_by_Decision_Split', 'R_win_by_Decision_Unanimous',\n",
              "       'R_win_by_KO/TKO', 'R_win_by_Submission',\n",
              "       'R_win_by_TKO_Doctor_Stoppage', 'R_wins', 'R_Weight_lbs', 'R_age',\n",
              "       'B_age', 'lose_streak_dif', 'win_streak_dif', 'longest_win_streak_dif',\n",
              "       'win_dif', 'loss_dif', 'total_round_dif', 'total_title_bout_dif',\n",
              "       'ko_dif', 'sub_dif', 'age_dif', 'empty_arena', 'constant_1', 'winner_t',\n",
              "       'gender_t'],\n",
              "      dtype='object')"
            ]
          },
          "metadata": {},
          "execution_count": 19
        }
      ]
    },
    {
      "cell_type": "code",
      "source": [
        "ufc_df_o.loss_dif.value_counts().head(2)"
      ],
      "metadata": {
        "id": "PYRwpc4Ajh21",
        "outputId": "cefc5bd3-87fd-41dc-90fa-4845698978be",
        "colab": {
          "base_uri": "https://localhost:8080/"
        }
      },
      "execution_count": 20,
      "outputs": [
        {
          "output_type": "execute_result",
          "data": {
            "text/plain": [
              "0    1222\n",
              "1     812\n",
              "Name: loss_dif, dtype: int64"
            ]
          },
          "metadata": {},
          "execution_count": 20
        }
      ]
    },
    {
      "cell_type": "markdown",
      "source": [
        "## Tratar campos calculados:"
      ],
      "metadata": {
        "id": "bSMAkLNuEyi1"
      }
    },
    {
      "cell_type": "markdown",
      "source": [
        "### Tratar campo total_round_dif"
      ],
      "metadata": {
        "id": "6DQ6Wy-9Ecrh"
      }
    },
    {
      "cell_type": "code",
      "source": [
        "ufc_df_o.total_round_dif.value_counts().head(2)"
      ],
      "metadata": {
        "id": "0JZHH2PtEgk6",
        "outputId": "5ce1e044-1d82-4286-8c45-cad99b72f58e",
        "colab": {
          "base_uri": "https://localhost:8080/"
        }
      },
      "execution_count": 21,
      "outputs": [
        {
          "output_type": "execute_result",
          "data": {
            "text/plain": [
              " 0    497\n",
              "-3    266\n",
              "Name: total_round_dif, dtype: int64"
            ]
          },
          "metadata": {},
          "execution_count": 21
        }
      ]
    },
    {
      "cell_type": "markdown",
      "source": [
        "### Tratar campo loss_dif"
      ],
      "metadata": {
        "id": "uQBNP0T8EV0x"
      }
    },
    {
      "cell_type": "code",
      "source": [
        "ufc_df_o.loss_dif.value_counts().head(2)"
      ],
      "metadata": {
        "id": "_m2R65AkEYXK",
        "outputId": "c084c119-f7af-4bd8-9fd3-fe5db918e4df",
        "colab": {
          "base_uri": "https://localhost:8080/"
        }
      },
      "execution_count": 22,
      "outputs": [
        {
          "output_type": "execute_result",
          "data": {
            "text/plain": [
              "0    1222\n",
              "1     812\n",
              "Name: loss_dif, dtype: int64"
            ]
          },
          "metadata": {},
          "execution_count": 22
        }
      ]
    },
    {
      "cell_type": "markdown",
      "source": [
        "### Tratar campo win_dif"
      ],
      "metadata": {
        "id": "B17zP9jQEIMj"
      }
    },
    {
      "cell_type": "code",
      "source": [
        "ufc_df_o.win_dif.value_counts().head(2)"
      ],
      "metadata": {
        "id": "6MgfVvqLEPX5",
        "outputId": "f927f221-504a-49ed-d8d5-4681413f1288",
        "colab": {
          "base_uri": "https://localhost:8080/"
        }
      },
      "execution_count": 23,
      "outputs": [
        {
          "output_type": "execute_result",
          "data": {
            "text/plain": [
              " 0    1114\n",
              "-1     735\n",
              "Name: win_dif, dtype: int64"
            ]
          },
          "metadata": {},
          "execution_count": 23
        }
      ]
    },
    {
      "cell_type": "markdown",
      "source": [
        "### Tratar campo longest_win_streak_dif"
      ],
      "metadata": {
        "id": "KimVlFQvBXze"
      }
    },
    {
      "cell_type": "code",
      "source": [
        "ufc_df_o.longest_win_streak_dif.value_counts().head(2)"
      ],
      "metadata": {
        "id": "q2HVVdiQBe4D",
        "outputId": "3ac6febf-4bbf-4413-9deb-1767d328dd8e",
        "colab": {
          "base_uri": "https://localhost:8080/"
        }
      },
      "execution_count": 24,
      "outputs": [
        {
          "output_type": "execute_result",
          "data": {
            "text/plain": [
              " 0    1406\n",
              "-1    1102\n",
              "Name: longest_win_streak_dif, dtype: int64"
            ]
          },
          "metadata": {},
          "execution_count": 24
        }
      ]
    },
    {
      "cell_type": "markdown",
      "source": [
        "### Tratar campo sub_dif"
      ],
      "metadata": {
        "id": "WbkRHYnDBKEg"
      }
    },
    {
      "cell_type": "code",
      "source": [
        "ufc_df_o.sub_dif.value_counts().head(2)"
      ],
      "metadata": {
        "id": "zS62nXsqBNFp",
        "outputId": "343ef1e0-8d4d-4109-9e1b-24faa1f221f5",
        "colab": {
          "base_uri": "https://localhost:8080/"
        }
      },
      "execution_count": 25,
      "outputs": [
        {
          "output_type": "execute_result",
          "data": {
            "text/plain": [
              " 0    2448\n",
              "-1     812\n",
              "Name: sub_dif, dtype: int64"
            ]
          },
          "metadata": {},
          "execution_count": 25
        }
      ]
    },
    {
      "cell_type": "code",
      "source": [],
      "metadata": {
        "id": "kMj45YMQBNCR"
      },
      "execution_count": 25,
      "outputs": []
    },
    {
      "cell_type": "markdown",
      "source": [
        "### Tratar campo ko_dif:"
      ],
      "metadata": {
        "id": "PoGCQHfFA4E7"
      }
    },
    {
      "cell_type": "code",
      "source": [
        "ufc_df_o.ko_dif.value_counts().head(2)"
      ],
      "metadata": {
        "id": "SNSJdzKqA8xm",
        "outputId": "3a1ad45f-edae-4d6a-93d5-b5c4d77848b6",
        "colab": {
          "base_uri": "https://localhost:8080/"
        }
      },
      "execution_count": 26,
      "outputs": [
        {
          "output_type": "execute_result",
          "data": {
            "text/plain": [
              " 0    2037\n",
              "-1     903\n",
              "Name: ko_dif, dtype: int64"
            ]
          },
          "metadata": {},
          "execution_count": 26
        }
      ]
    },
    {
      "cell_type": "code",
      "source": [],
      "metadata": {
        "id": "8q8mHkqGA8ou"
      },
      "execution_count": 26,
      "outputs": []
    },
    {
      "cell_type": "markdown",
      "source": [
        "### Tratar campo title_bout"
      ],
      "metadata": {
        "id": "NnWV2ljOAkEp"
      }
    },
    {
      "cell_type": "code",
      "source": [
        "ufc_df_o.total_title_bout_dif.value_counts().head(2)"
      ],
      "metadata": {
        "id": "55ctL7DpjhvY",
        "outputId": "ca9f9514-228c-4230-93d1-db4525a2f573",
        "colab": {
          "base_uri": "https://localhost:8080/"
        }
      },
      "execution_count": 27,
      "outputs": [
        {
          "output_type": "execute_result",
          "data": {
            "text/plain": [
              " 0    3523\n",
              "-1     666\n",
              "Name: total_title_bout_dif, dtype: int64"
            ]
          },
          "metadata": {},
          "execution_count": 27
        }
      ]
    },
    {
      "cell_type": "markdown",
      "source": [
        "### Tratar campo age_dif:"
      ],
      "metadata": {
        "id": "O-zQA_Qfi5V_"
      }
    },
    {
      "cell_type": "code",
      "source": [
        "ufc_df_o.age_dif.value_counts().head(2)"
      ],
      "metadata": {
        "id": "jNl2Ax1RWFCh",
        "outputId": "85b3ef4a-43e9-4d3c-be0a-c0a4584b3dcc",
        "colab": {
          "base_uri": "https://localhost:8080/"
        }
      },
      "execution_count": 28,
      "outputs": [
        {
          "output_type": "execute_result",
          "data": {
            "text/plain": [
              "-1    384\n",
              " 0    361\n",
              "Name: age_dif, dtype: int64"
            ]
          },
          "metadata": {},
          "execution_count": 28
        }
      ]
    },
    {
      "cell_type": "code",
      "source": [
        "ufc_df_o[['R_age','B_age','age_dif']].head(10)"
      ],
      "metadata": {
        "id": "Pd0b8xwRjHnr",
        "outputId": "87663c59-14e9-4e64-ff21-d9a4ea0565de",
        "colab": {
          "base_uri": "https://localhost:8080/",
          "height": 0
        }
      },
      "execution_count": 29,
      "outputs": [
        {
          "output_type": "execute_result",
          "data": {
            "text/plain": [
              "   R_age  B_age  age_dif\n",
              "0     37     29       -8\n",
              "1     33     32       -1\n",
              "2     34     32       -2\n",
              "3     29     32        3\n",
              "4     28     33        5\n",
              "5     36     23      -13\n",
              "6     38     26      -12\n",
              "7     28     27       -1\n",
              "8     36     29       -7\n",
              "9     33     30       -3"
            ],
            "text/html": [
              "\n",
              "  <div id=\"df-93984b4e-ca2a-441a-9edd-d731689eb6d0\">\n",
              "    <div class=\"colab-df-container\">\n",
              "      <div>\n",
              "<style scoped>\n",
              "    .dataframe tbody tr th:only-of-type {\n",
              "        vertical-align: middle;\n",
              "    }\n",
              "\n",
              "    .dataframe tbody tr th {\n",
              "        vertical-align: top;\n",
              "    }\n",
              "\n",
              "    .dataframe thead th {\n",
              "        text-align: right;\n",
              "    }\n",
              "</style>\n",
              "<table border=\"1\" class=\"dataframe\">\n",
              "  <thead>\n",
              "    <tr style=\"text-align: right;\">\n",
              "      <th></th>\n",
              "      <th>R_age</th>\n",
              "      <th>B_age</th>\n",
              "      <th>age_dif</th>\n",
              "    </tr>\n",
              "  </thead>\n",
              "  <tbody>\n",
              "    <tr>\n",
              "      <th>0</th>\n",
              "      <td>37</td>\n",
              "      <td>29</td>\n",
              "      <td>-8</td>\n",
              "    </tr>\n",
              "    <tr>\n",
              "      <th>1</th>\n",
              "      <td>33</td>\n",
              "      <td>32</td>\n",
              "      <td>-1</td>\n",
              "    </tr>\n",
              "    <tr>\n",
              "      <th>2</th>\n",
              "      <td>34</td>\n",
              "      <td>32</td>\n",
              "      <td>-2</td>\n",
              "    </tr>\n",
              "    <tr>\n",
              "      <th>3</th>\n",
              "      <td>29</td>\n",
              "      <td>32</td>\n",
              "      <td>3</td>\n",
              "    </tr>\n",
              "    <tr>\n",
              "      <th>4</th>\n",
              "      <td>28</td>\n",
              "      <td>33</td>\n",
              "      <td>5</td>\n",
              "    </tr>\n",
              "    <tr>\n",
              "      <th>5</th>\n",
              "      <td>36</td>\n",
              "      <td>23</td>\n",
              "      <td>-13</td>\n",
              "    </tr>\n",
              "    <tr>\n",
              "      <th>6</th>\n",
              "      <td>38</td>\n",
              "      <td>26</td>\n",
              "      <td>-12</td>\n",
              "    </tr>\n",
              "    <tr>\n",
              "      <th>7</th>\n",
              "      <td>28</td>\n",
              "      <td>27</td>\n",
              "      <td>-1</td>\n",
              "    </tr>\n",
              "    <tr>\n",
              "      <th>8</th>\n",
              "      <td>36</td>\n",
              "      <td>29</td>\n",
              "      <td>-7</td>\n",
              "    </tr>\n",
              "    <tr>\n",
              "      <th>9</th>\n",
              "      <td>33</td>\n",
              "      <td>30</td>\n",
              "      <td>-3</td>\n",
              "    </tr>\n",
              "  </tbody>\n",
              "</table>\n",
              "</div>\n",
              "      <button class=\"colab-df-convert\" onclick=\"convertToInteractive('df-93984b4e-ca2a-441a-9edd-d731689eb6d0')\"\n",
              "              title=\"Convert this dataframe to an interactive table.\"\n",
              "              style=\"display:none;\">\n",
              "        \n",
              "  <svg xmlns=\"http://www.w3.org/2000/svg\" height=\"24px\"viewBox=\"0 0 24 24\"\n",
              "       width=\"24px\">\n",
              "    <path d=\"M0 0h24v24H0V0z\" fill=\"none\"/>\n",
              "    <path d=\"M18.56 5.44l.94 2.06.94-2.06 2.06-.94-2.06-.94-.94-2.06-.94 2.06-2.06.94zm-11 1L8.5 8.5l.94-2.06 2.06-.94-2.06-.94L8.5 2.5l-.94 2.06-2.06.94zm10 10l.94 2.06.94-2.06 2.06-.94-2.06-.94-.94-2.06-.94 2.06-2.06.94z\"/><path d=\"M17.41 7.96l-1.37-1.37c-.4-.4-.92-.59-1.43-.59-.52 0-1.04.2-1.43.59L10.3 9.45l-7.72 7.72c-.78.78-.78 2.05 0 2.83L4 21.41c.39.39.9.59 1.41.59.51 0 1.02-.2 1.41-.59l7.78-7.78 2.81-2.81c.8-.78.8-2.07 0-2.86zM5.41 20L4 18.59l7.72-7.72 1.47 1.35L5.41 20z\"/>\n",
              "  </svg>\n",
              "      </button>\n",
              "      \n",
              "  <style>\n",
              "    .colab-df-container {\n",
              "      display:flex;\n",
              "      flex-wrap:wrap;\n",
              "      gap: 12px;\n",
              "    }\n",
              "\n",
              "    .colab-df-convert {\n",
              "      background-color: #E8F0FE;\n",
              "      border: none;\n",
              "      border-radius: 50%;\n",
              "      cursor: pointer;\n",
              "      display: none;\n",
              "      fill: #1967D2;\n",
              "      height: 32px;\n",
              "      padding: 0 0 0 0;\n",
              "      width: 32px;\n",
              "    }\n",
              "\n",
              "    .colab-df-convert:hover {\n",
              "      background-color: #E2EBFA;\n",
              "      box-shadow: 0px 1px 2px rgba(60, 64, 67, 0.3), 0px 1px 3px 1px rgba(60, 64, 67, 0.15);\n",
              "      fill: #174EA6;\n",
              "    }\n",
              "\n",
              "    [theme=dark] .colab-df-convert {\n",
              "      background-color: #3B4455;\n",
              "      fill: #D2E3FC;\n",
              "    }\n",
              "\n",
              "    [theme=dark] .colab-df-convert:hover {\n",
              "      background-color: #434B5C;\n",
              "      box-shadow: 0px 1px 3px 1px rgba(0, 0, 0, 0.15);\n",
              "      filter: drop-shadow(0px 1px 2px rgba(0, 0, 0, 0.3));\n",
              "      fill: #FFFFFF;\n",
              "    }\n",
              "  </style>\n",
              "\n",
              "      <script>\n",
              "        const buttonEl =\n",
              "          document.querySelector('#df-93984b4e-ca2a-441a-9edd-d731689eb6d0 button.colab-df-convert');\n",
              "        buttonEl.style.display =\n",
              "          google.colab.kernel.accessAllowed ? 'block' : 'none';\n",
              "\n",
              "        async function convertToInteractive(key) {\n",
              "          const element = document.querySelector('#df-93984b4e-ca2a-441a-9edd-d731689eb6d0');\n",
              "          const dataTable =\n",
              "            await google.colab.kernel.invokeFunction('convertToInteractive',\n",
              "                                                     [key], {});\n",
              "          if (!dataTable) return;\n",
              "\n",
              "          const docLinkHtml = 'Like what you see? Visit the ' +\n",
              "            '<a target=\"_blank\" href=https://colab.research.google.com/notebooks/data_table.ipynb>data table notebook</a>'\n",
              "            + ' to learn more about interactive tables.';\n",
              "          element.innerHTML = '';\n",
              "          dataTable['output_type'] = 'display_data';\n",
              "          await google.colab.output.renderOutput(dataTable, element);\n",
              "          const docLink = document.createElement('div');\n",
              "          docLink.innerHTML = docLinkHtml;\n",
              "          element.appendChild(docLink);\n",
              "        }\n",
              "      </script>\n",
              "    </div>\n",
              "  </div>\n",
              "  "
            ]
          },
          "metadata": {},
          "execution_count": 29
        }
      ]
    },
    {
      "cell_type": "code",
      "source": [
        "ufc_df_o[['R_fighter','R_win_by_Decision_Majority',\n",
        "       'R_win_by_Decision_Split', 'R_win_by_Decision_Unanimous',\n",
        "       'R_win_by_KO/TKO', 'R_win_by_Submission',\n",
        "       'R_win_by_TKO_Doctor_Stoppage', 'R_wins']].head(10)"
      ],
      "metadata": {
        "id": "oWpsWrSyWFAP",
        "outputId": "44851b76-c5f8-4716-dc66-48dad7ec2853",
        "colab": {
          "base_uri": "https://localhost:8080/",
          "height": 0
        }
      },
      "execution_count": 30,
      "outputs": [
        {
          "output_type": "execute_result",
          "data": {
            "text/plain": [
              "                  R_fighter  R_win_by_Decision_Majority  \\\n",
              "0             Thiago Santos                           0   \n",
              "1             Alex Oliveira                           0   \n",
              "2            Misha Cirkunov                           0   \n",
              "3       Alexander Hernandez                           0   \n",
              "4               Joe Solecki                           0   \n",
              "5       Antonina Shevchenko                           0   \n",
              "6             Bethe Correia                           0   \n",
              "7             Devonte Smith                           0   \n",
              "8  Douglas Silva de Andrade                           0   \n",
              "9           Stephanie Egger                           0   \n",
              "\n",
              "   R_win_by_Decision_Split  R_win_by_Decision_Unanimous  R_win_by_KO/TKO  \\\n",
              "0                        0                            2               11   \n",
              "1                        1                            3                4   \n",
              "2                        0                            0                1   \n",
              "3                        0                            2                2   \n",
              "4                        0                            2                0   \n",
              "5                        0                            1                2   \n",
              "6                        2                            2                1   \n",
              "7                        0                            0                4   \n",
              "8                        0                            3                1   \n",
              "9                        0                            0                0   \n",
              "\n",
              "   R_win_by_Submission  R_win_by_TKO_Doctor_Stoppage  R_wins  \n",
              "0                    0                             0      13  \n",
              "1                    3                             0      11  \n",
              "2                    5                             0       6  \n",
              "3                    0                             0       4  \n",
              "4                    2                             0       4  \n",
              "5                    1                             0       4  \n",
              "6                    0                             0       5  \n",
              "7                    0                             0       4  \n",
              "8                    0                             0       4  \n",
              "9                    0                             0       0  "
            ],
            "text/html": [
              "\n",
              "  <div id=\"df-0a29c512-efd1-4b30-a025-5a626703c5d2\">\n",
              "    <div class=\"colab-df-container\">\n",
              "      <div>\n",
              "<style scoped>\n",
              "    .dataframe tbody tr th:only-of-type {\n",
              "        vertical-align: middle;\n",
              "    }\n",
              "\n",
              "    .dataframe tbody tr th {\n",
              "        vertical-align: top;\n",
              "    }\n",
              "\n",
              "    .dataframe thead th {\n",
              "        text-align: right;\n",
              "    }\n",
              "</style>\n",
              "<table border=\"1\" class=\"dataframe\">\n",
              "  <thead>\n",
              "    <tr style=\"text-align: right;\">\n",
              "      <th></th>\n",
              "      <th>R_fighter</th>\n",
              "      <th>R_win_by_Decision_Majority</th>\n",
              "      <th>R_win_by_Decision_Split</th>\n",
              "      <th>R_win_by_Decision_Unanimous</th>\n",
              "      <th>R_win_by_KO/TKO</th>\n",
              "      <th>R_win_by_Submission</th>\n",
              "      <th>R_win_by_TKO_Doctor_Stoppage</th>\n",
              "      <th>R_wins</th>\n",
              "    </tr>\n",
              "  </thead>\n",
              "  <tbody>\n",
              "    <tr>\n",
              "      <th>0</th>\n",
              "      <td>Thiago Santos</td>\n",
              "      <td>0</td>\n",
              "      <td>0</td>\n",
              "      <td>2</td>\n",
              "      <td>11</td>\n",
              "      <td>0</td>\n",
              "      <td>0</td>\n",
              "      <td>13</td>\n",
              "    </tr>\n",
              "    <tr>\n",
              "      <th>1</th>\n",
              "      <td>Alex Oliveira</td>\n",
              "      <td>0</td>\n",
              "      <td>1</td>\n",
              "      <td>3</td>\n",
              "      <td>4</td>\n",
              "      <td>3</td>\n",
              "      <td>0</td>\n",
              "      <td>11</td>\n",
              "    </tr>\n",
              "    <tr>\n",
              "      <th>2</th>\n",
              "      <td>Misha Cirkunov</td>\n",
              "      <td>0</td>\n",
              "      <td>0</td>\n",
              "      <td>0</td>\n",
              "      <td>1</td>\n",
              "      <td>5</td>\n",
              "      <td>0</td>\n",
              "      <td>6</td>\n",
              "    </tr>\n",
              "    <tr>\n",
              "      <th>3</th>\n",
              "      <td>Alexander Hernandez</td>\n",
              "      <td>0</td>\n",
              "      <td>0</td>\n",
              "      <td>2</td>\n",
              "      <td>2</td>\n",
              "      <td>0</td>\n",
              "      <td>0</td>\n",
              "      <td>4</td>\n",
              "    </tr>\n",
              "    <tr>\n",
              "      <th>4</th>\n",
              "      <td>Joe Solecki</td>\n",
              "      <td>0</td>\n",
              "      <td>0</td>\n",
              "      <td>2</td>\n",
              "      <td>0</td>\n",
              "      <td>2</td>\n",
              "      <td>0</td>\n",
              "      <td>4</td>\n",
              "    </tr>\n",
              "    <tr>\n",
              "      <th>5</th>\n",
              "      <td>Antonina Shevchenko</td>\n",
              "      <td>0</td>\n",
              "      <td>0</td>\n",
              "      <td>1</td>\n",
              "      <td>2</td>\n",
              "      <td>1</td>\n",
              "      <td>0</td>\n",
              "      <td>4</td>\n",
              "    </tr>\n",
              "    <tr>\n",
              "      <th>6</th>\n",
              "      <td>Bethe Correia</td>\n",
              "      <td>0</td>\n",
              "      <td>2</td>\n",
              "      <td>2</td>\n",
              "      <td>1</td>\n",
              "      <td>0</td>\n",
              "      <td>0</td>\n",
              "      <td>5</td>\n",
              "    </tr>\n",
              "    <tr>\n",
              "      <th>7</th>\n",
              "      <td>Devonte Smith</td>\n",
              "      <td>0</td>\n",
              "      <td>0</td>\n",
              "      <td>0</td>\n",
              "      <td>4</td>\n",
              "      <td>0</td>\n",
              "      <td>0</td>\n",
              "      <td>4</td>\n",
              "    </tr>\n",
              "    <tr>\n",
              "      <th>8</th>\n",
              "      <td>Douglas Silva de Andrade</td>\n",
              "      <td>0</td>\n",
              "      <td>0</td>\n",
              "      <td>3</td>\n",
              "      <td>1</td>\n",
              "      <td>0</td>\n",
              "      <td>0</td>\n",
              "      <td>4</td>\n",
              "    </tr>\n",
              "    <tr>\n",
              "      <th>9</th>\n",
              "      <td>Stephanie Egger</td>\n",
              "      <td>0</td>\n",
              "      <td>0</td>\n",
              "      <td>0</td>\n",
              "      <td>0</td>\n",
              "      <td>0</td>\n",
              "      <td>0</td>\n",
              "      <td>0</td>\n",
              "    </tr>\n",
              "  </tbody>\n",
              "</table>\n",
              "</div>\n",
              "      <button class=\"colab-df-convert\" onclick=\"convertToInteractive('df-0a29c512-efd1-4b30-a025-5a626703c5d2')\"\n",
              "              title=\"Convert this dataframe to an interactive table.\"\n",
              "              style=\"display:none;\">\n",
              "        \n",
              "  <svg xmlns=\"http://www.w3.org/2000/svg\" height=\"24px\"viewBox=\"0 0 24 24\"\n",
              "       width=\"24px\">\n",
              "    <path d=\"M0 0h24v24H0V0z\" fill=\"none\"/>\n",
              "    <path d=\"M18.56 5.44l.94 2.06.94-2.06 2.06-.94-2.06-.94-.94-2.06-.94 2.06-2.06.94zm-11 1L8.5 8.5l.94-2.06 2.06-.94-2.06-.94L8.5 2.5l-.94 2.06-2.06.94zm10 10l.94 2.06.94-2.06 2.06-.94-2.06-.94-.94-2.06-.94 2.06-2.06.94z\"/><path d=\"M17.41 7.96l-1.37-1.37c-.4-.4-.92-.59-1.43-.59-.52 0-1.04.2-1.43.59L10.3 9.45l-7.72 7.72c-.78.78-.78 2.05 0 2.83L4 21.41c.39.39.9.59 1.41.59.51 0 1.02-.2 1.41-.59l7.78-7.78 2.81-2.81c.8-.78.8-2.07 0-2.86zM5.41 20L4 18.59l7.72-7.72 1.47 1.35L5.41 20z\"/>\n",
              "  </svg>\n",
              "      </button>\n",
              "      \n",
              "  <style>\n",
              "    .colab-df-container {\n",
              "      display:flex;\n",
              "      flex-wrap:wrap;\n",
              "      gap: 12px;\n",
              "    }\n",
              "\n",
              "    .colab-df-convert {\n",
              "      background-color: #E8F0FE;\n",
              "      border: none;\n",
              "      border-radius: 50%;\n",
              "      cursor: pointer;\n",
              "      display: none;\n",
              "      fill: #1967D2;\n",
              "      height: 32px;\n",
              "      padding: 0 0 0 0;\n",
              "      width: 32px;\n",
              "    }\n",
              "\n",
              "    .colab-df-convert:hover {\n",
              "      background-color: #E2EBFA;\n",
              "      box-shadow: 0px 1px 2px rgba(60, 64, 67, 0.3), 0px 1px 3px 1px rgba(60, 64, 67, 0.15);\n",
              "      fill: #174EA6;\n",
              "    }\n",
              "\n",
              "    [theme=dark] .colab-df-convert {\n",
              "      background-color: #3B4455;\n",
              "      fill: #D2E3FC;\n",
              "    }\n",
              "\n",
              "    [theme=dark] .colab-df-convert:hover {\n",
              "      background-color: #434B5C;\n",
              "      box-shadow: 0px 1px 3px 1px rgba(0, 0, 0, 0.15);\n",
              "      filter: drop-shadow(0px 1px 2px rgba(0, 0, 0, 0.3));\n",
              "      fill: #FFFFFF;\n",
              "    }\n",
              "  </style>\n",
              "\n",
              "      <script>\n",
              "        const buttonEl =\n",
              "          document.querySelector('#df-0a29c512-efd1-4b30-a025-5a626703c5d2 button.colab-df-convert');\n",
              "        buttonEl.style.display =\n",
              "          google.colab.kernel.accessAllowed ? 'block' : 'none';\n",
              "\n",
              "        async function convertToInteractive(key) {\n",
              "          const element = document.querySelector('#df-0a29c512-efd1-4b30-a025-5a626703c5d2');\n",
              "          const dataTable =\n",
              "            await google.colab.kernel.invokeFunction('convertToInteractive',\n",
              "                                                     [key], {});\n",
              "          if (!dataTable) return;\n",
              "\n",
              "          const docLinkHtml = 'Like what you see? Visit the ' +\n",
              "            '<a target=\"_blank\" href=https://colab.research.google.com/notebooks/data_table.ipynb>data table notebook</a>'\n",
              "            + ' to learn more about interactive tables.';\n",
              "          element.innerHTML = '';\n",
              "          dataTable['output_type'] = 'display_data';\n",
              "          await google.colab.output.renderOutput(dataTable, element);\n",
              "          const docLink = document.createElement('div');\n",
              "          docLink.innerHTML = docLinkHtml;\n",
              "          element.appendChild(docLink);\n",
              "        }\n",
              "      </script>\n",
              "    </div>\n",
              "  </div>\n",
              "  "
            ]
          },
          "metadata": {},
          "execution_count": 30
        }
      ]
    },
    {
      "cell_type": "code",
      "source": [],
      "metadata": {
        "id": "NXeeq6ttWE-J"
      },
      "execution_count": 30,
      "outputs": []
    },
    {
      "cell_type": "markdown",
      "source": [
        "# Removendo campos não úteis:"
      ],
      "metadata": {
        "id": "Adfo9aolfgOF"
      }
    },
    {
      "cell_type": "code",
      "source": [
        "# ufc_df_t = ufc_df_o.drop(\n",
        "#     columns=['constant_1','finish_details','total_fight_time_secs','empty_arena','date','location','better_rank','R_fighter','B_fighter','B_odds','R_odds','R_ev','B_ev'],\n",
        "#     axis=1\n",
        "#     )"
      ],
      "metadata": {
        "id": "nwN8shustxNm"
      },
      "execution_count": 31,
      "outputs": []
    }
  ]
}