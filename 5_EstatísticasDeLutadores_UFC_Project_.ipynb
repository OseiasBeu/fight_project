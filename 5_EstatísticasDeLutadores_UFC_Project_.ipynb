{
  "nbformat": 4,
  "nbformat_minor": 0,
  "metadata": {
    "colab": {
      "provenance": [],
      "authorship_tag": "ABX9TyPWsjljg9SP+Y/TXhb1+kOA",
      "include_colab_link": true
    },
    "kernelspec": {
      "name": "python3",
      "display_name": "Python 3"
    },
    "language_info": {
      "name": "python"
    }
  },
  "cells": [
    {
      "cell_type": "markdown",
      "metadata": {
        "id": "view-in-github",
        "colab_type": "text"
      },
      "source": [
        "<a href=\"https://colab.research.google.com/github/OseiasBeu/fight_project/blob/main/Estat%C3%ADsticasDeLutadores_UFC_Project_.ipynb\" target=\"_parent\"><img src=\"https://colab.research.google.com/assets/colab-badge.svg\" alt=\"Open In Colab\"/></a>"
      ]
    },
    {
      "cell_type": "markdown",
      "source": [
        "Gera os dados de estatísticas mais recentes de um lutador"
      ],
      "metadata": {
        "id": "1WnFZjIX9zrb"
      }
    },
    {
      "cell_type": "code",
      "execution_count": 4,
      "metadata": {
        "id": "axI_2t9D9L2f"
      },
      "outputs": [],
      "source": [
        "import pandas as pd\n",
        "import numpy as np\n",
        "pd.set_option('display.max_columns', 100)\n",
        "\n",
        "df = pd.read_csv(\"https://raw.githubusercontent.com/OseiasBeu/fight_project/main/datasets/UFC_processed.csv\")\n",
        "\n",
        "df[\"date\"] = pd.to_datetime(df[\"date\"]) # Converter data\n",
        "\n",
        "features = [\"date\",\"fighter\"]\n",
        "for name in df.columns[4:25]: # \n",
        "    features.append(name[2:]) # \n",
        "\n",
        "# Separação dos lutadores\n",
        "blueFighter = pd.concat([df.iloc[:,[0,1]],df.iloc[:,4:25]],axis=1)\n",
        "redFighter = pd.concat([df.iloc[:,[0,2]],df.iloc[:,25:]],axis=1)\n",
        "# Renomeando colunas\n",
        "blueFighter.columns = features\n",
        "redFighter.columns = features\n",
        "\n",
        "# Unindo as duas tabelas em apenas uma\n",
        "fighters = pd.concat([redFighter,blueFighter],axis=0,).reset_index(drop=True)"
      ]
    },
    {
      "cell_type": "code",
      "source": [
        "# como cada lutador lutou várias partidas, para obter a última estatística de cada lutador, temos que agrupá-los por nome\n",
        "# e obtenha os detalhes de sua última correspondência:\n",
        "\n",
        "l = fighters.groupby(\"fighter\")\n",
        "\n",
        "fighters_detail = []\n",
        "# para cada lutador único:\n",
        "  # 1- agrupar pelo nome do lutador para obter todas as suas lutas\n",
        "  # 2- classifique os valores por dados no formato mais novo para o mais antigo\n",
        "  # 3- pegue o primeiro elemento (ou seja: iloc0) que é o mais novo\n",
        "for fighter in fighters[\"fighter\"].unique(): \n",
        "    fighters_detail.append(l.get_group(fighter).sort_values(by=[\"date\"],ascending=False).iloc[0])"
      ],
      "metadata": {
        "id": "dxQBTN9i9a1p"
      },
      "execution_count": 5,
      "outputs": []
    },
    {
      "cell_type": "code",
      "source": [
        "fighter_stat = pd.DataFrame(fighters_detail).sort_values(by=\"fighter\")\n",
        "fighter_stat.insert(0, 'ID', np.arange(1,len(fighter_stat.index)+1))\n",
        "fighter_stat.reset_index(drop=True, inplace=True)"
      ],
      "metadata": {
        "id": "QwyteNnx9pJM"
      },
      "execution_count": 6,
      "outputs": []
    },
    {
      "cell_type": "code",
      "source": [
        "fighter_stat.to_csv(\"FIGHTER_STAT.csv\",index=False)"
      ],
      "metadata": {
        "id": "k4dBsxHB9qyI"
      },
      "execution_count": 7,
      "outputs": []
    },
    {
      "cell_type": "code",
      "source": [],
      "metadata": {
        "id": "e3twlsGe-QJv"
      },
      "execution_count": null,
      "outputs": []
    }
  ]
}
