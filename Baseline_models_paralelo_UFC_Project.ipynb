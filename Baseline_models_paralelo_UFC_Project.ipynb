{
  "nbformat": 4,
  "nbformat_minor": 0,
  "metadata": {
    "colab": {
      "provenance": [],
      "authorship_tag": "ABX9TyNzNqkJDz2u2S+pDowl0GX1",
      "include_colab_link": true
    },
    "kernelspec": {
      "name": "python3",
      "display_name": "Python 3"
    },
    "language_info": {
      "name": "python"
    }
  },
  "cells": [
    {
      "cell_type": "markdown",
      "metadata": {
        "id": "view-in-github",
        "colab_type": "text"
      },
      "source": [
        "<a href=\"https://colab.research.google.com/github/OseiasBeu/fight_project/blob/main/Baseline_models_paralelo_UFC_Project.ipynb\" target=\"_parent\"><img src=\"https://colab.research.google.com/assets/colab-badge.svg\" alt=\"Open In Colab\"/></a>"
      ]
    },
    {
      "cell_type": "code",
      "execution_count": 34,
      "metadata": {
        "id": "asOy6z_c2DwY"
      },
      "outputs": [],
      "source": [
        "import os\n",
        "os.environ[\"CUDA_VISIBLE_DEVICES\"] = \"-1\" # Desbilitando GPU\n",
        "import pandas as pd\n",
        "import numpy as np\n",
        "import matplotlib.pyplot as plt\n",
        "import seaborn as sns\n",
        "%matplotlib inline\n",
        "\n",
        "# Processamneto / validação\n",
        "from imblearn.over_sampling import ADASYN # over-sampling\n",
        "from sklearn.model_selection import cross_val_score, StratifiedKFold\n",
        "\n",
        "# Modelos\n",
        "from sklearn.svm import SVC\n",
        "from sklearn.tree import DecisionTreeClassifier\n",
        "from sklearn.ensemble import AdaBoostClassifier, RandomForestClassifier, ExtraTreesClassifier, GradientBoostingClassifier\n",
        "from sklearn.neural_network import MLPClassifier\n",
        "from sklearn.neighbors import KNeighborsClassifier\n",
        "from sklearn.linear_model import LogisticRegression\n",
        "from sklearn.discriminant_analysis import LinearDiscriminantAnalysis\n",
        "from xgboost import XGBClassifier\n",
        "from sklearn.ensemble import VotingClassifier\n",
        "\n",
        "# Metricas\n",
        "from sklearn import metrics\n",
        "from sklearn.metrics import classification_report\n",
        "from sklearn.metrics import roc_auc_score\n",
        "\n",
        "# Constantes para replicabilidade\n",
        "#SEED = 111\n",
        "#os.environ['PYTHONHASHSEED'] = str(SEED)\n",
        "#np.random.seed(SEED)\n",
        "#tf.random.set_seed(SEED)\n",
        "\n",
        "# cpu worker\n",
        "WORKERS = 4"
      ]
    },
    {
      "cell_type": "code",
      "source": [
        "df = pd.read_csv(\"https://raw.githubusercontent.com/OseiasBeu/fight_project/main/datasets/UFC_TRAIN.csv\")\n",
        "X = df.drop([\"date\",\"Winner\",\"B_fighter\",\"R_fighter\"], axis=1).values\n",
        "y = df[\"Winner\"].values\n",
        "\n",
        "# over-sampling\n",
        "over_sampler = ADASYN()\n",
        "X, y = over_sampler.fit_resample(X, y)\n",
        "\n",
        "pd.Series(y).value_counts()"
      ],
      "metadata": {
        "colab": {
          "base_uri": "https://localhost:8080/"
        },
        "id": "SaHY3CP42ezm",
        "outputId": "acd14f11-01ad-4eb0-e8c4-96cba210fa47"
      },
      "execution_count": 35,
      "outputs": [
        {
          "output_type": "execute_result",
          "data": {
            "text/plain": [
              "0    2985\n",
              "1    2910\n",
              "dtype: int64"
            ]
          },
          "metadata": {},
          "execution_count": 35
        }
      ]
    },
    {
      "cell_type": "markdown",
      "source": [
        "# Validação k-Fold estratificada com uma variedade de modelos"
      ],
      "metadata": {
        "id": "kp7HkPLo3dJe"
      }
    },
    {
      "cell_type": "code",
      "source": [
        "classifiers = [\n",
        "    \n",
        "    #SVC(random_state=SEED),\n",
        "    #DecisionTreeClassifier(random_state=SEED),\n",
        "    #AdaBoostClassifier(DecisionTreeClassifier(random_state=SEED),random_state=SEED,learning_rate=0.1),\n",
        "    #RandomForestClassifier(random_state=SEED),\n",
        "    #ExtraTreesClassifier(random_state=SEED),\n",
        "    #GradientBoostingClassifier(random_state=SEED),\n",
        "    #MLPClassifier(random_state=SEED),\n",
        "    #KNeighborsClassifier(),\n",
        "    #LogisticRegression(random_state = SEED),\n",
        "    #LinearDiscriminantAnalysis()\n",
        "    \n",
        "\n",
        "    RandomForestClassifier(),\n",
        "    ExtraTreesClassifier(),\n",
        "    GradientBoostingClassifier(),\n",
        "    LogisticRegression(),\n",
        "    LinearDiscriminantAnalysis()\n",
        "]\n",
        "#classifiers.append(XGBClassifier(n_estimators=200)) # we can append models \n",
        "\n",
        "kfold = StratifiedKFold( n_splits=10 ) # k = 10 stratified folds\n",
        "cv_results = []\n",
        "for classifier in classifiers:\n",
        "    cv_results.append(cross_val_score(classifier, X=X, y = y, scoring = \"accuracy\", cv = kfold, n_jobs=WORKERS))\n",
        "\n",
        "# Precisão média e padrão de cada modelo (forma: número de modelos)\n",
        "cv_means = []\n",
        "cv_std = []\n",
        "for cv_result in cv_results:\n",
        "    cv_means.append(cv_result.mean())\n",
        "    cv_std.append(cv_result.std())\n",
        "\n",
        "cv_res = pd.DataFrame({\"Acurácia Média\":cv_means,\n",
        "                       \"CrossValerrors\": cv_std,\n",
        "                       \"Algoritmo\":\n",
        "                       [\n",
        "                           #\"SVM\",\n",
        "                           #\"DT\",\n",
        "                           #\"AdaBoost\",\n",
        "                           \"RF\",\n",
        "                           \"ExtraTrees\",\n",
        "                           \"GradientBoosting\",\n",
        "                           #\"MLP\",\n",
        "                           #\"KNN\",\n",
        "                           \"LogReg\",\n",
        "                           \"LDA\",\n",
        "                           #\"XGB\"\n",
        "                       ]\n",
        "                      }\n",
        "                     )\n",
        "print(cv_res.sort_values(\"Acurácia Média\", ascending=False))\n",
        "plt.figure(figsize=(15,6))\n",
        "g = sns.barplot(x=\"Acurácia Média\",y=\"Algoritmo\",data = cv_res, palette=\"Set3\",orient = \"h\")\n",
        "g.set(xlim=(0.4))\n",
        "g.set_xlabel(\"Acurácia Média\")\n",
        "g = g.set_title(\"Média de acurácia dos modelos na validação estratificada k-fold\")\n"
      ],
      "metadata": {
        "colab": {
          "base_uri": "https://localhost:8080/",
          "height": 508
        },
        "id": "NOyTdkPF2ptg",
        "outputId": "f5666b11-cb1d-4e3c-e5d1-73e7ecdf651b"
      },
      "execution_count": 36,
      "outputs": [
        {
          "output_type": "stream",
          "name": "stdout",
          "text": [
            "   Acurácia Média  CrossValerrors         Algoritmo\n",
            "1        0.800779        0.120230        ExtraTrees\n",
            "0        0.762143        0.167922                RF\n",
            "2        0.750611        0.172182  GradientBoosting\n",
            "4        0.617127        0.026177               LDA\n",
            "3        0.615438        0.023842            LogReg\n"
          ]
        },
        {
          "output_type": "display_data",
          "data": {
            "text/plain": [
              "<Figure size 1080x432 with 1 Axes>"
            ],
            "image/png": "[encoded data removed]"
          },
          "metadata": {
            "needs_background": "light"
          }
        }
      ]
    },
    {
      "cell_type": "markdown",
      "source": [
        "# Seleção de modelo:"
      ],
      "metadata": {
        "id": "P6kRE29d4fBN"
      }
    },
    {
      "cell_type": "markdown",
      "source": [
        "LDA, GradientBoosting e LogReg são escolhidos para estarem no modelo Ensemble"
      ],
      "metadata": {
        "id": "Awb97FvF4lxU"
      }
    },
    {
      "cell_type": "code",
      "source": [
        "ldaClf = LinearDiscriminantAnalysis()\n",
        "ldaClf = ldaClf.fit(X,y)\n",
        "\n",
        "#gboostClf = GradientBoostingClassifier(random_state=SEED)\n",
        "gboostClf = GradientBoostingClassifier()\n",
        "gboostClf = gboostClf.fit(X,y)\n",
        "\n",
        "#lrClf = LogisticRegression(random_state = SEED,n_jobs=WORKERS)\n",
        "lrClf = LogisticRegression(n_jobs=WORKERS)\n",
        "lrClf = lrClf.fit(X,y)\n",
        "\n",
        "#exTreeClf = ExtraTreesClassifier(random_state=SEED)\n",
        "exTreeClf = ExtraTreesClassifier()\n",
        "exTreeClf = exTreeClf.fit(X,y)\n",
        "\n",
        "#rfClf = RandomForestClassifier(random_state=SEED)\n",
        "rfClf = RandomForestClassifier()\n",
        "rfClf = rfClf.fit(X,y)\n"
      ],
      "metadata": {
        "id": "l-qpy0eA4bw-"
      },
      "execution_count": 37,
      "outputs": []
    },
    {
      "cell_type": "markdown",
      "source": [
        "# Método de conjuntos:"
      ],
      "metadata": {
        "id": "NxH3mezV4v69"
      }
    },
    {
      "cell_type": "code",
      "source": [
        "ensClf = VotingClassifier(estimators=\n",
        "                          [\n",
        "                              ('ldaClf', ldaClf),\n",
        "                              ('gboostClf', gboostClf),\n",
        "                              ('lrClf', lrClf),\n",
        "                              ('exTreeClf', exTreeClf),\n",
        "                              ('rfClf', rfClf),\n",
        "                              #('xgbClf', xgbClf)\n",
        "                          ],\n",
        "                          voting='soft', n_jobs=WORKERS)\n",
        "ensClf = ensClf.fit(X, y)\n",
        "print(f\"{len([e[0] for e in ensClf.estimators])} Modelos no conjunto: {[e[0] for e in ensClf.estimators]}\")"
      ],
      "metadata": {
        "colab": {
          "base_uri": "https://localhost:8080/"
        },
        "id": "bdtpt_fB4rZN",
        "outputId": "c27338fb-2d67-40d8-d5fc-a500301c3968"
      },
      "execution_count": 38,
      "outputs": [
        {
          "output_type": "stream",
          "name": "stdout",
          "text": [
            "5 Modelos no conjunto: ['ldaClf', 'gboostClf', 'lrClf', 'exTreeClf', 'rfClf']\n"
          ]
        }
      ]
    },
    {
      "cell_type": "markdown",
      "source": [
        "# Avaliação de desempenho no dataset de teste:"
      ],
      "metadata": {
        "id": "EI3AWIe-5Mt0"
      }
    },
    {
      "cell_type": "code",
      "source": [
        "TEST = pd.read_csv(\"https://raw.githubusercontent.com/OseiasBeu/fight_project/main/datasets/UFC_TEST.csv\")\n",
        "X_TEST = TEST.drop([\"date\",\"B_fighter\",\"R_fighter\",\"Winner\"],axis=1).values\n",
        "y_TEST = TEST[\"Winner\"].values\n",
        "target_names = ['class 0', 'class 1']\n",
        "ensPreds_TEST = ensClf.predict(X_TEST)\n",
        "print(\"Ensemble TEST Performance on BALANCED:\\n------------------\\n\",classification_report(y_TEST, ensPreds_TEST , target_names=target_names))\n",
        "print(\"AUC: \",roc_auc_score(y_TEST, ensPreds_TEST))\n"
      ],
      "metadata": {
        "colab": {
          "base_uri": "https://localhost:8080/"
        },
        "id": "A4zbF5As5CqA",
        "outputId": "7bdcfa5f-66c4-4691-8de7-82f448e49a4f"
      },
      "execution_count": 39,
      "outputs": [
        {
          "output_type": "stream",
          "name": "stdout",
          "text": [
            "Ensemble TEST Performance on BALANCED:\n",
            "------------------\n",
            "               precision    recall  f1-score   support\n",
            "\n",
            "     class 0       0.75      0.82      0.78       157\n",
            "     class 1       0.53      0.41      0.46        75\n",
            "\n",
            "    accuracy                           0.69       232\n",
            "   macro avg       0.64      0.62      0.62       232\n",
            "weighted avg       0.67      0.69      0.68       232\n",
            "\n",
            "AUC:  0.6174946921443737\n"
          ]
        }
      ]
    },
    {
      "cell_type": "markdown",
      "source": [
        "# Salvando modelo"
      ],
      "metadata": {
        "id": "_LMoiXIN7KdN"
      }
    },
    {
      "cell_type": "code",
      "source": [
        "import pickle\n",
        "pickle.dump(ensClf, open('ens_method.sav', 'wb'))"
      ],
      "metadata": {
        "id": "pA2uyprN5SkG"
      },
      "execution_count": 40,
      "outputs": []
    },
    {
      "cell_type": "code",
      "source": [
        "from google.colab import files\n",
        "files.download('/content/ens_method.sav')"
      ],
      "metadata": {
        "id": "umsv6Y3g7W0H"
      },
      "execution_count": null,
      "outputs": []
    }
  ]
}